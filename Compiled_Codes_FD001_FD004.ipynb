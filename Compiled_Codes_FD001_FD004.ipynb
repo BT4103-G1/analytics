{
  "nbformat": 4,
  "nbformat_minor": 0,
  "metadata": {
    "accelerator": "GPU",
    "colab": {
      "name": "Compiled-Codes_FD001-FD004.ipynb",
      "provenance": [],
      "collapsed_sections": []
    },
    "kernelspec": {
      "display_name": "Python 3",
      "language": "python",
      "name": "python3"
    },
    "language_info": {
      "codemirror_mode": {
        "name": "ipython",
        "version": 3
      },
      "file_extension": ".py",
      "mimetype": "text/x-python",
      "name": "python",
      "nbconvert_exporter": "python",
      "pygments_lexer": "ipython3",
      "version": "3.7.6"
    }
  },
  "cells": [
    {
      "cell_type": "markdown",
      "metadata": {
        "id": "ZR-TduwL5m4Z"
      },
      "source": [
        "## 1. Import Relevant Libraries and Reading In of Data"
      ]
    },
    {
      "cell_type": "markdown",
      "metadata": {
        "id": "thz_jf7D2Gky"
      },
      "source": [
        "* 1a. Importing Relevant Libraries"
      ]
    },
    {
      "cell_type": "code",
      "metadata": {
        "id": "H2c_xCew5rkx"
      },
      "source": [
        "# Import Required Libaries\n",
        "import keras\n",
        "import keras.backend as K\n",
        "from keras.layers.core import Activation\n",
        "from keras.models import Sequential,load_model\n",
        "from keras.layers import Dense, Dropout, LSTM\n",
        "from tensorflow.keras.layers import LSTM, Dense, Dropout, Masking, TimeDistributed\n",
        "import pandas as pd\n",
        "import numpy as np\n",
        "import matplotlib.pyplot as plt\n",
        "import os\n",
        "from sklearn import preprocessing\n",
        "from keras.layers import Bidirectional\n",
        "import math "
      ],
      "execution_count": 1,
      "outputs": []
    },
    {
      "cell_type": "markdown",
      "metadata": {
        "id": "ucybXgp72VqS"
      },
      "source": [
        "* 1b. Reading in the Data:\n",
        "<br><i> > Training Data\n",
        "<br> > Testing Data\n",
        "<br> > True Labels (RUL) for the Testing Data"
      ]
    },
    {
      "cell_type": "markdown",
      "metadata": {
        "id": "8GolPRt8gWD0"
      },
      "source": [
        "> Insert your file path here:"
      ]
    },
    {
      "cell_type": "code",
      "metadata": {
        "id": "rgW3AVjvglv3"
      },
      "source": [
        "# FD001 (Dataset 1)\n",
        "train1 = \"/content/train_FD001.txt\"\n",
        "test1 = \"/content/test_FD001.txt\"\n",
        "truth1 = \"/content/RUL_FD001.txt\"\n",
        "\n",
        "# FD002 (Dataset 2)\n",
        "train2 = \"/content/train_FD002.txt\"\n",
        "test2 = \"/content/test_FD002.txt\"\n",
        "truth2 = \"/content/RUL_FD002.txt\"\n",
        "\n",
        "# FD003 (Dataset 3)\n",
        "train3 = \"/content/train_FD003.txt\"\n",
        "test3 = \"/content/test_FD003.txt\"\n",
        "truth3 = \"/content/RUL_FD003.txt\"\n",
        "\n",
        "# FD004 (Dataset 4)\n",
        "train4 = \"/content/train_FD004.txt\"\n",
        "test4 = \"/content/test_FD004.txt\"\n",
        "truth4 = \"/content/RUL_FD004.txt\"\n"
      ],
      "execution_count": 2,
      "outputs": []
    },
    {
      "cell_type": "markdown",
      "metadata": {
        "id": "qS_Cu82ShnD-"
      },
      "source": [
        "> Read in data (.txt files)"
      ]
    },
    {
      "cell_type": "code",
      "metadata": {
        "id": "ve7h1KnM5zeO"
      },
      "source": [
        "\n",
        "# For FD001\n",
        "# Train Data \n",
        "train1_df = pd.read_csv(train1, sep=\" \", header=None)\n",
        "# Test Data\n",
        "test1_df = pd.read_csv(test1, sep=\" \", header=None)\n",
        "# True RUL Data for the Test Set\n",
        "truth1_df = pd.read_csv(truth1, sep=\" \", header=None)\n",
        "\n",
        "# For FD002\n",
        "# Train Data \n",
        "train2_df = pd.read_csv(train2, sep=\" \", header=None)\n",
        "# Test Data\n",
        "test2_df = pd.read_csv(test2, sep=\" \", header=None)\n",
        "# True RUL Data for the Test Set\n",
        "truth2_df = pd.read_csv(truth2, sep=\" \", header=None)\n",
        "\n",
        "\n",
        "# For FD003\n",
        "# Train Data \n",
        "train3_df = pd.read_csv(train3, sep=\" \", header=None)\n",
        "# Test Data\n",
        "test3_df = pd.read_csv(test3, sep=\" \", header=None)\n",
        "# True RUL Data for the Test Set\n",
        "truth3_df = pd.read_csv(truth3, sep=\" \", header=None)\n",
        "\n",
        "\n",
        "# For FD004\n",
        "# Train Data \n",
        "train4_df = pd.read_csv(train4, sep=\" \", header=None)\n",
        "# Test Data\n",
        "test4_df = pd.read_csv(test4, sep=\" \", header=None)\n",
        "# True RUL Data for the Test Set\n",
        "truth4_df = pd.read_csv(truth4, sep=\" \", header=None)"
      ],
      "execution_count": 3,
      "outputs": []
    },
    {
      "cell_type": "markdown",
      "metadata": {
        "id": "ghG_80mg5t-E"
      },
      "source": [
        "* 1c. We set a seed for Reproducibility of Results"
      ]
    },
    {
      "cell_type": "code",
      "metadata": {
        "id": "P1iFWcBtAk_D"
      },
      "source": [
        "np.random.seed(1234)  \n",
        "PYTHONHASHSEED = 0"
      ],
      "execution_count": 4,
      "outputs": []
    },
    {
      "cell_type": "markdown",
      "metadata": {
        "id": "kg53D_xCAnpY"
      },
      "source": [
        "* 1d. We create a path to save the Deep Learning model output "
      ]
    },
    {
      "cell_type": "markdown",
      "metadata": {
        "id": "KBNTC4ZchvWZ"
      },
      "source": [
        "> Insert your file path to save the model"
      ]
    },
    {
      "cell_type": "code",
      "metadata": {
        "id": "QRlMVYCZhzv1"
      },
      "source": [
        "path_save_model = '/content/Output/regression_model.h5'"
      ],
      "execution_count": 5,
      "outputs": []
    },
    {
      "cell_type": "code",
      "metadata": {
        "id": "TOEy7RJ3AlcL"
      },
      "source": [
        "# define a path to save model\n",
        "model_path = path_save_model"
      ],
      "execution_count": 6,
      "outputs": []
    },
    {
      "cell_type": "markdown",
      "metadata": {
        "id": "y-QwvxhLA85I"
      },
      "source": [
        "## 2. Data Preprocessing\n",
        "- Dealing with Missing Values: Drop the last 2 columns, because they consist of all null values\n",
        "- Rename columns according to the Engine ID, Cycle, the 3 respective Operating Settings and the 21 Operating Sensors. This aids in better readability and interpretability of the dataset.\n",
        "- Derive RUL labels from the train data. This is because the RUL for the train data is not explicity provided.\n",
        "- MinMax Normalisation to transform our features' values to a value between 0 and 1; For every feature, the minimum value of the feature would be transformed to a value of 0, and the maximum value of the feature would be transformed to a value of 1. \n",
        "- Contextual handling of RUL: Clipping the upper limit of the RUL of aircrafts to mimic a more accurate degradation pattern of the aircraft engine with increasing usage.\n",
        "- Transform the input data into a form (3-Dimensional Form) that can be fed into the deep learning model. "
      ]
    },
    {
      "cell_type": "markdown",
      "metadata": {
        "id": "swkjjtsw2z62"
      },
      "source": [
        "* 2a. Dealing with Missing Values: Drop the last 2 columns for Training, Testing and True Labels Dataframes\n",
        "> This is because the last 2 columns consists of all null values."
      ]
    },
    {
      "cell_type": "code",
      "metadata": {
        "id": "mwohCRTRO3iA"
      },
      "source": [
        "# Drop the last 2 columns for Train, Test and True RUL Dataframes\n",
        "\n",
        "# FD001\n",
        "train1_df.drop(train1_df.columns[[26, 27]], axis=1, inplace=True)\n",
        "test1_df.drop(test1_df.columns[[26, 27]], axis=1, inplace=True)\n",
        "truth1_df.drop(truth1_df.columns[[1]], axis=1, inplace=True)\n",
        "\n",
        "# FD002\n",
        "train2_df.drop(train2_df.columns[[26, 27]], axis=1, inplace=True)\n",
        "test2_df.drop(test2_df.columns[[26, 27]], axis=1, inplace=True)\n",
        "truth2_df.drop(truth2_df.columns[[1]], axis=1, inplace=True)\n",
        "\n",
        "# FD003\n",
        "train3_df.drop(train3_df.columns[[26, 27]], axis=1, inplace=True)\n",
        "test3_df.drop(test3_df.columns[[26, 27]], axis=1, inplace=True)\n",
        "truth3_df.drop(truth3_df.columns[[1]], axis=1, inplace=True)\n",
        "\n",
        "# FD004\n",
        "train4_df.drop(train4_df.columns[[26, 27]], axis=1, inplace=True)\n",
        "test4_df.drop(test4_df.columns[[26, 27]], axis=1, inplace=True)\n",
        "truth4_df.drop(truth4_df.columns[[1]], axis=1, inplace=True)"
      ],
      "execution_count": 7,
      "outputs": []
    },
    {
      "cell_type": "markdown",
      "metadata": {
        "id": "oX8ustEm25Qx"
      },
      "source": [
        "* 2b. Rename Columns in this form for better readability and interpretability of the dataset: \n",
        "<br><i>-> Engine ID\n",
        "<br>-> 3 Operating Settings\n",
        "<br>-> 21 Sensors"
      ]
    },
    {
      "cell_type": "code",
      "metadata": {
        "id": "QE6dyXzp23G_"
      },
      "source": [
        "# Rename columns into readable forms, namely, by: \n",
        "# [Engine ID, Operational Settings, Sensors]\n",
        "\n",
        "# FD001\n",
        "train1_df.columns = ['id', 'cycle', 'setting1', 'setting2', 'setting3', 's1', 's2', 's3',\n",
        "                     's4', 's5', 's6', 's7', 's8', 's9', 's10', 's11', 's12', 's13', 's14',\n",
        "                     's15', 's16', 's17', 's18', 's19', 's20', 's21']\n",
        "train1_df = train1_df.sort_values(['id','cycle'])\n",
        "\n",
        "\n",
        "test1_df.columns = ['id', 'cycle', 'setting1', 'setting2', 'setting3', 's1', 's2', 's3',\n",
        "                     's4', 's5', 's6', 's7', 's8', 's9', 's10', 's11', 's12', 's13', 's14',\n",
        "                     's15', 's16', 's17', 's18', 's19', 's20', 's21']\n",
        "\n",
        "# FD002\n",
        "train2_df.columns = ['id', 'cycle', 'setting1', 'setting2', 'setting3', 's1', 's2', 's3',\n",
        "                     's4', 's5', 's6', 's7', 's8', 's9', 's10', 's11', 's12', 's13', 's14',\n",
        "                     's15', 's16', 's17', 's18', 's19', 's20', 's21']\n",
        "train2_df = train2_df.sort_values(['id','cycle'])\n",
        "\n",
        "\n",
        "test2_df.columns = ['id', 'cycle', 'setting1', 'setting2', 'setting3', 's1', 's2', 's3',\n",
        "                     's4', 's5', 's6', 's7', 's8', 's9', 's10', 's11', 's12', 's13', 's14',\n",
        "                     's15', 's16', 's17', 's18', 's19', 's20', 's21']\n",
        "\n",
        "# FD003\n",
        "train3_df.columns = ['id', 'cycle', 'setting1', 'setting2', 'setting3', 's1', 's2', 's3',\n",
        "                     's4', 's5', 's6', 's7', 's8', 's9', 's10', 's11', 's12', 's13', 's14',\n",
        "                     's15', 's16', 's17', 's18', 's19', 's20', 's21']\n",
        "train3_df = train3_df.sort_values(['id','cycle'])\n",
        "\n",
        "\n",
        "test3_df.columns = ['id', 'cycle', 'setting1', 'setting2', 'setting3', 's1', 's2', 's3',\n",
        "                     's4', 's5', 's6', 's7', 's8', 's9', 's10', 's11', 's12', 's13', 's14',\n",
        "                     's15', 's16', 's17', 's18', 's19', 's20', 's21']\n",
        "\n",
        "# FD004\n",
        "train4_df.columns = ['id', 'cycle', 'setting1', 'setting2', 'setting3', 's1', 's2', 's3',\n",
        "                     's4', 's5', 's6', 's7', 's8', 's9', 's10', 's11', 's12', 's13', 's14',\n",
        "                     's15', 's16', 's17', 's18', 's19', 's20', 's21']\n",
        "train4_df = train4_df.sort_values(['id','cycle'])\n",
        "\n",
        "\n",
        "test4_df.columns = ['id', 'cycle', 'setting1', 'setting2', 'setting3', 's1', 's2', 's3',\n",
        "                     's4', 's5', 's6', 's7', 's8', 's9', 's10', 's11', 's12', 's13', 's14',\n",
        "                     's15', 's16', 's17', 's18', 's19', 's20', 's21']                                          "
      ],
      "execution_count": 8,
      "outputs": []
    },
    {
      "cell_type": "markdown",
      "metadata": {
        "id": "dQI_x7RO3OdL"
      },
      "source": [
        "* 2c. Derive RUL labels for the Training Data\n",
        "<br><i> This is because the RUL for the Training Data is not explicity provided."
      ]
    },
    {
      "cell_type": "markdown",
      "metadata": {
        "id": "5uHCLDtXj4XC"
      },
      "source": [
        "Since this dataset is a simulated run-to-failure dataset, the last row for each Engine ID would represent the last cycle of the engine, indicating aircraft failure had already occurred. Hence, since we already know the complete life cycle length of Engines, we employed the following calculations for RUL derivation:\n",
        "> * RUL (of each row/instance of each Engine ID) = Maximum cycle length for each Engine ID - current cycle length (at each row/instance of each Engine ID)\n"
      ]
    },
    {
      "cell_type": "code",
      "metadata": {
        "id": "M60YfXIzP5sH"
      },
      "source": [
        "# Function to derive the RUL labels for the Train Data\n",
        "def extract_rul(data, factor = 0):\n",
        "\n",
        "    # Get the total number of cycles for each unit, i.e. Each Engine ID\n",
        "    # The last row (i.e. maximum value) for each Engine ID would represent the last cycle of the engine\n",
        "    rul = pd.DataFrame(data.groupby('id')['cycle'].max()).reset_index()\n",
        "    rul.columns = ['id', 'max']\n",
        "\n",
        "    # Merge the maximum cycle into the original dataframe\n",
        "    data = data.merge(rul, on=['id'], how='left')\n",
        "\n",
        "    # Actual calculation of RUL (based on the maximum value of the RUL for each Engine)\n",
        "    data['RUL'] = data['max'] - data['cycle']\n",
        "\n",
        "    # Drop the 'max' column, which now does not add any value\n",
        "    data.drop(columns=['max'], axis = 1, inplace = True)\n",
        "  \n",
        "    return data[data['cycle'] > factor]\n",
        "\n",
        "# Apply the function on the training data:\n",
        "# FD001\n",
        "train1_df = extract_rul(train1_df, factor = 0)\n",
        "\n",
        "# FD002\n",
        "train2_df = extract_rul(train2_df, factor = 0)\n",
        "\n",
        "# FD003\n",
        "train3_df = extract_rul(train3_df, factor = 0)\n",
        "\n",
        "# FD004\n",
        "train4_df = extract_rul(train4_df, factor = 0)"
      ],
      "execution_count": 9,
      "outputs": []
    },
    {
      "cell_type": "markdown",
      "metadata": {
        "id": "--EaD7hR3XI_"
      },
      "source": [
        "* 2d. Contextual Handling of RUL: Clipping the maximum RUL to aircraft engines for Training Data \n",
        "> This is to more accurately portray the degradation pattern of aircraft engines after a certain period of usage"
      ]
    },
    {
      "cell_type": "code",
      "metadata": {
        "id": "-uP-P1xSRIXw"
      },
      "source": [
        "# Clipping the maximum RUL to aircraft engines (for train data):\n",
        "\n",
        "# FD001\n",
        "train1_df['RUL'] = train1_df['RUL'].clip(upper=125)\n",
        "\n",
        "# FD002\n",
        "train2_df['RUL'] = train2_df['RUL'].clip(upper=125)\n",
        "\n",
        "# FD003\n",
        "train3_df['RUL'] = train3_df['RUL'].clip(upper=125)\n",
        "\n",
        "# FD004\n",
        "train4_df['RUL'] = train4_df['RUL'].clip(upper=125)"
      ],
      "execution_count": 10,
      "outputs": []
    },
    {
      "cell_type": "markdown",
      "metadata": {
        "id": "IAlEFLfR3i4N"
      },
      "source": [
        "* 2e. MinMax Normalisation of Training Data\n",
        "> * Transforms our features' values to a value between 0 and 1; \n",
        "> * The minimum value of the feature would be transformed to a value of 0, and the maximum value of the feature would be transformed to a value of 1. \n"
      ]
    },
    {
      "cell_type": "code",
      "metadata": {
        "id": "esDY2KYs3Q8b"
      },
      "source": [
        "# FD001\n",
        "# MinMax normalization of Operational Settings and Sensor Values (from 0 to 1) for train set\n",
        "train1_df['cycle_norm'] = train1_df['cycle']\n",
        "cols_normalize = train1_df.columns.difference(['id','cycle','RUL'])\n",
        "min_max_scaler = preprocessing.MinMaxScaler()\n",
        "norm_train_df = pd.DataFrame(min_max_scaler.fit_transform(train1_df[cols_normalize]), \n",
        "                             columns=cols_normalize, \n",
        "                             index=train1_df.index)\n",
        "join_df = train1_df[train1_df.columns.difference(cols_normalize)].join(norm_train_df)\n",
        "train1_df = join_df.reindex(columns = train1_df.columns)\n",
        "\n",
        "# MinMax normalization of Operational Settings and Sensor Values (from 0 to 1) for test set\n",
        "test1_df['cycle_norm'] = test1_df['cycle']\n",
        "norm_test_df = pd.DataFrame(min_max_scaler.transform(test1_df[cols_normalize]), \n",
        "                            columns=cols_normalize, \n",
        "                            index=test1_df.index)\n",
        "test_join_df = test1_df[test1_df.columns.difference(cols_normalize)].join(norm_test_df)\n",
        "test1_df = test_join_df.reindex(columns = test1_df.columns)\n",
        "test1_df = test1_df.reset_index(drop=True)\n",
        "\n",
        "\n",
        "# FD002\n",
        "# MinMax normalization of Operational Settings and Sensor Values (from 0 to 1) for train set\n",
        "train2_df['cycle_norm'] = train2_df['cycle']\n",
        "cols_normalize = train2_df.columns.difference(['id','cycle','RUL'])\n",
        "min_max_scaler = preprocessing.MinMaxScaler()\n",
        "norm_train_df = pd.DataFrame(min_max_scaler.fit_transform(train2_df[cols_normalize]), \n",
        "                             columns=cols_normalize, \n",
        "                             index=train2_df.index)\n",
        "join_df = train2_df[train1_df.columns.difference(cols_normalize)].join(norm_train_df)\n",
        "train2_df = join_df.reindex(columns = train2_df.columns)\n",
        "\n",
        "# MinMax normalization of Operational Settings and Sensor Values (from 0 to 1) for test set\n",
        "test2_df['cycle_norm'] = test2_df['cycle']\n",
        "norm_test_df = pd.DataFrame(min_max_scaler.transform(test2_df[cols_normalize]), \n",
        "                            columns=cols_normalize, \n",
        "                            index=test2_df.index)\n",
        "test_join_df = test2_df[test1_df.columns.difference(cols_normalize)].join(norm_test_df)\n",
        "test2_df = test_join_df.reindex(columns = test2_df.columns)\n",
        "test2_df = test2_df.reset_index(drop=True)\n",
        "\n",
        "\n",
        "# FD003\n",
        "# MinMax normalization of Operational Settings and Sensor Values (from 0 to 1) for train set\n",
        "train3_df['cycle_norm'] = train3_df['cycle']\n",
        "cols_normalize = train3_df.columns.difference(['id','cycle','RUL'])\n",
        "min_max_scaler = preprocessing.MinMaxScaler()\n",
        "norm_train_df = pd.DataFrame(min_max_scaler.fit_transform(train3_df[cols_normalize]), \n",
        "                             columns=cols_normalize, \n",
        "                             index=train3_df.index)\n",
        "join_df = train3_df[train1_df.columns.difference(cols_normalize)].join(norm_train_df)\n",
        "train3_df = join_df.reindex(columns = train3_df.columns)\n",
        "\n",
        "# MinMax normalization of Operational Settings and Sensor Values (from 0 to 1) for test set\n",
        "test3_df['cycle_norm'] = test3_df['cycle']\n",
        "norm_test_df = pd.DataFrame(min_max_scaler.transform(test3_df[cols_normalize]), \n",
        "                            columns=cols_normalize, \n",
        "                            index=test3_df.index)\n",
        "test_join_df = test3_df[test3_df.columns.difference(cols_normalize)].join(norm_test_df)\n",
        "test3_df = test_join_df.reindex(columns = test3_df.columns)\n",
        "test3_df = test3_df.reset_index(drop=True)\n",
        "\n",
        "\n",
        "# FD004\n",
        "# MinMax normalization of Operational Settings and Sensor Values (from 0 to 1) for train set\n",
        "train4_df['cycle_norm'] = train4_df['cycle']\n",
        "cols_normalize = train4_df.columns.difference(['id','cycle','RUL'])\n",
        "min_max_scaler = preprocessing.MinMaxScaler()\n",
        "norm_train_df = pd.DataFrame(min_max_scaler.fit_transform(train4_df[cols_normalize]), \n",
        "                             columns=cols_normalize, \n",
        "                             index=train4_df.index)\n",
        "join_df = train4_df[train4_df.columns.difference(cols_normalize)].join(norm_train_df)\n",
        "train4_df = join_df.reindex(columns = train4_df.columns)\n",
        "\n",
        "# MinMax normalization of Operational Settings and Sensor Values (from 0 to 1) for test set\n",
        "test4_df['cycle_norm'] = test4_df['cycle']\n",
        "norm_test_df = pd.DataFrame(min_max_scaler.transform(test4_df[cols_normalize]), \n",
        "                            columns=cols_normalize, \n",
        "                            index=test4_df.index)\n",
        "test_join_df = test4_df[test1_df.columns.difference(cols_normalize)].join(norm_test_df)\n",
        "test4_df = test_join_df.reindex(columns = test4_df.columns)\n",
        "test4_df = test4_df.reset_index(drop=True)\n",
        "\n",
        "\n",
        "\n"
      ],
      "execution_count": 11,
      "outputs": []
    },
    {
      "cell_type": "markdown",
      "metadata": {
        "id": "rPs4Mpfj5Y0O"
      },
      "source": [
        "* 2f. Processing of Test Data: add the True RUL Labels (Truth Dataframe) to the Test Data"
      ]
    },
    {
      "cell_type": "code",
      "metadata": {
        "id": "p8wBrqgxSFlh"
      },
      "source": [
        "# Generate labels (the RUL) for the Test Data using the dataset containing the true RUL (Truth Dataframe) for the Test Data.\n",
        "\n",
        "# FD001\n",
        "rul = pd.DataFrame(test1_df.groupby('id')['cycle'].max()).reset_index()\n",
        "rul.columns = ['id', 'max']\n",
        "# rename column in Truth Dataframe\n",
        "truth1_df.columns = ['rul_init']\n",
        "# assign the RUL to the Engine IDs by adding a column in Truth Dataframe\n",
        "truth1_df['id'] = truth1_df.index + 1\n",
        "# assign RUL to a newly-named column, max\n",
        "truth1_df['max'] = rul['max'] + truth1_df['rul_init']\n",
        "truth1_df.drop('rul_init', axis=1, inplace=True)\n",
        "\n",
        "# Merge Truth Dataframe with Test Dataframe to put the actual RUL together with the data in Test Dataframe\n",
        "# Merge based on Engine ID\n",
        "test1_df = test1_df.merge(truth1_df, on=['id'], how='left')\n",
        "# Final RUL matched to Engine ID\n",
        "test1_df['RUL'] = test1_df['max'] - test1_df['cycle']\n",
        "\n",
        "# Clipping the maximum RUL to aircraft engines.\n",
        "test1_df['RUL'] = test1_df['RUL'].clip(upper=125)\n",
        "test1_df.drop('max', axis=1, inplace=True)\n",
        "\n",
        "\n",
        "\n",
        "# FD002\n",
        "rul = pd.DataFrame(test2_df.groupby('id')['cycle'].max()).reset_index()\n",
        "rul.columns = ['id', 'max']\n",
        "# rename column in Truth Dataframe\n",
        "truth2_df.columns = ['rul_init']\n",
        "# assign the RUL to the Engine IDs by adding a column in Truth Dataframe\n",
        "truth2_df['id'] = truth2_df.index + 1\n",
        "# assign RUL to a newly-named column, max\n",
        "truth2_df['max'] = rul['max'] + truth2_df['rul_init']\n",
        "truth2_df.drop('rul_init', axis=1, inplace=True)\n",
        "\n",
        "# Merge Truth Dataframe with Test Dataframe to put the actual RUL together with the data in Test Dataframe\n",
        "# Merge based on Engine ID\n",
        "test2_df = test2_df.merge(truth2_df, on=['id'], how='left')\n",
        "# Final RUL matched to Engine ID\n",
        "test2_df['RUL'] = test2_df['max'] - test2_df['cycle']\n",
        "\n",
        "# Clipping the maximum RUL to aircraft engines.\n",
        "test2_df['RUL'] = test2_df['RUL'].clip(upper=125)\n",
        "test2_df.drop('max', axis=1, inplace=True)\n",
        "\n",
        "\n",
        "# FD003\n",
        "rul = pd.DataFrame(test3_df.groupby('id')['cycle'].max()).reset_index()\n",
        "rul.columns = ['id', 'max']\n",
        "# rename column in Truth Dataframe\n",
        "truth3_df.columns = ['rul_init']\n",
        "# assign the RUL to the Engine IDs by adding a column in Truth Dataframe\n",
        "truth3_df['id'] = truth3_df.index + 1\n",
        "# assign RUL to a newly-named column, max\n",
        "truth3_df['max'] = rul['max'] + truth3_df['rul_init']\n",
        "truth3_df.drop('rul_init', axis=1, inplace=True)\n",
        "\n",
        "# Merge Truth Dataframe with Test Dataframe to put the actual RUL together with the data in Test Dataframe\n",
        "# Merge based on Engine ID\n",
        "test3_df = test3_df.merge(truth3_df, on=['id'], how='left')\n",
        "# Final RUL matched to Engine ID\n",
        "test3_df['RUL'] = test3_df['max'] - test3_df['cycle']\n",
        "\n",
        "# Clipping the maximum RUL to aircraft engines.\n",
        "test3_df['RUL'] = test3_df['RUL'].clip(upper=125)\n",
        "test3_df.drop('max', axis=1, inplace=True)\n",
        "\n",
        "\n",
        "# FD004\n",
        "rul = pd.DataFrame(test4_df.groupby('id')['cycle'].max()).reset_index()\n",
        "rul.columns = ['id', 'max']\n",
        "# rename column in Truth Dataframe\n",
        "truth4_df.columns = ['rul_init']\n",
        "# assign the RUL to the Engine IDs by adding a column in Truth Dataframe\n",
        "truth4_df['id'] = truth4_df.index + 1\n",
        "# assign RUL to a newly-named column, max\n",
        "truth4_df['max'] = rul['max'] + truth4_df['rul_init']\n",
        "truth4_df.drop('rul_init', axis=1, inplace=True)\n",
        "\n",
        "# Merge Truth Dataframe with Test Dataframe to put the actual RUL together with the data in Test Dataframe\n",
        "# Merge based on Engine ID\n",
        "test4_df = test4_df.merge(truth4_df, on=['id'], how='left')\n",
        "# Final RUL matched to Engine ID\n",
        "test4_df['RUL'] = test4_df['max'] - test4_df['cycle']\n",
        "\n",
        "# Clipping the maximum RUL to aircraft engines.\n",
        "test4_df['RUL'] = test4_df['RUL'].clip(upper=125)\n",
        "test4_df.drop('max', axis=1, inplace=True)"
      ],
      "execution_count": 12,
      "outputs": []
    },
    {
      "cell_type": "markdown",
      "metadata": {
        "id": "Fl2HMyD65hb9"
      },
      "source": [
        "* 2g: Transform data into a form that can be fed into the Deep Learning Model as input.\n",
        "> The form is: [samples, time steps, features]"
      ]
    },
    {
      "cell_type": "code",
      "metadata": {
        "id": "dg1KaBYi2VB7"
      },
      "source": [
        "# Transforming data into a form that can be fed in to the Deep Learning Model \n",
        "# The Form is a(3 Dimensional Form): (samples, time steps, features) \n",
        "\n",
        "# Assign sequence length of 50 \n",
        "sequence_length = 50\n",
        "# Function to generate the sequence for the data: \n",
        "def gen_sequence(id_df, seq_length, seq_cols):\n",
        "    data_matrix = id_df[seq_cols].values\n",
        "    num_elements = data_matrix.shape[0]\n",
        "    for start, stop in zip(range(0, num_elements-seq_length), range(seq_length, num_elements)):\n",
        "        yield data_matrix[start:stop, :]"
      ],
      "execution_count": 13,
      "outputs": []
    },
    {
      "cell_type": "code",
      "metadata": {
        "id": "yye0wym13it6"
      },
      "source": [
        "# Feature columns consists of the Operational Settings and Sensor Columns: \n",
        "sensor_cols = ['s' + str(i) for i in range(1,22)]\n",
        "sequence_cols = ['setting1', 'setting2', 'setting3', 'cycle_norm']\n",
        "sequence_cols.extend(sensor_cols)\n"
      ],
      "execution_count": 15,
      "outputs": []
    },
    {
      "cell_type": "markdown",
      "metadata": {
        "id": "2kFDhzq5pRPp"
      },
      "source": [
        "## Start Modelling for FD001 (Dataset 1)"
      ]
    },
    {
      "cell_type": "code",
      "metadata": {
        "id": "NrzSWWROpUHX"
      },
      "source": [
        "seq_gen = (list(gen_sequence(train1_df[train1_df['id']==id], sequence_length, sequence_cols)) \n",
        "           for id in train1_df['id'].unique())\n",
        "\n",
        "# Generate a sequence with the gen_sequence function to get the 3-Dimensional Form \n",
        "# Convert to numpy array\n",
        "seq_array = np.concatenate(list(seq_gen)).astype(np.float32)"
      ],
      "execution_count": 16,
      "outputs": []
    },
    {
      "cell_type": "code",
      "metadata": {
        "colab": {
          "base_uri": "https://localhost:8080/"
        },
        "id": "w6r-9he23t06",
        "outputId": "b3dbe9ba-bef4-4517-b0c2-9072ddb5f3d9"
      },
      "source": [
        "# Function to generate the RUL labels \n",
        "def gen_labels(id_df, seq_length, label):\n",
        "    data_matrix = id_df[label].values\n",
        "    num_elements = data_matrix.shape[0]\n",
        "    return data_matrix[seq_length:num_elements, :]\n",
        "\n",
        "# Generate the labels using the gen_labels function\n",
        "label_gen = [gen_labels(train1_df[train1_df['id']==id], sequence_length, ['RUL']) \n",
        "             for id in train1_df['id'].unique()]\n",
        "# Convert to numpy array\n",
        "label_array = np.concatenate(label_gen).astype(np.float32)\n",
        "label_array.shape"
      ],
      "execution_count": 17,
      "outputs": [
        {
          "output_type": "execute_result",
          "data": {
            "text/plain": [
              "(15631, 1)"
            ]
          },
          "metadata": {
            "tags": []
          },
          "execution_count": 17
        }
      ]
    },
    {
      "cell_type": "markdown",
      "metadata": {
        "id": "60gq0BSyMFxX"
      },
      "source": [
        "## 3. Model Building"
      ]
    },
    {
      "cell_type": "markdown",
      "metadata": {
        "id": "BRpsXr_16CT6"
      },
      "source": [
        "* 3a. Defining R2 to be used as an evaluation metric\n",
        "> R2 is a statistical measures which gives an indication of closeness of fit."
      ]
    },
    {
      "cell_type": "code",
      "metadata": {
        "id": "Qf1ssR9A4Ec2"
      },
      "source": [
        "# Defining R2 to be used as an evaluation metric in the Deep Learning Model Evaluation Metrics\n",
        "def r2_keras(y_true, y_pred):\n",
        "    SS_res =  K.sum(K.square( y_true - y_pred ))\n",
        "    SS_tot = K.sum(K.square( y_true - K.mean(y_true) ) )\n",
        "    return ( 1 - SS_res/(SS_tot + K.epsilon()) )"
      ],
      "execution_count": 19,
      "outputs": []
    },
    {
      "cell_type": "markdown",
      "metadata": {
        "id": "YAwRm9W9UiLB"
      },
      "source": [
        "## Deep Learning Architecture and Topology"
      ]
    },
    {
      "cell_type": "markdown",
      "metadata": {
        "id": "uVo_bDmL7b3y"
      },
      "source": [
        "* 3b. Deep Learning Architecture consists of:\n",
        "<br> > Sequential Model\n",
        "<br> > Bi-LSTM Layer\n",
        "<br> > LSTM Layer\n",
        "<br> > Dropout Layers"
      ]
    },
    {
      "cell_type": "code",
      "metadata": {
        "colab": {
          "base_uri": "https://localhost:8080/"
        },
        "id": "6QiNrt2VugfV",
        "outputId": "e647ca56-0b49-4802-87e6-53676f8cb688"
      },
      "source": [
        "# Building the Deep Learning Architecture\n",
        "\n",
        "# Defining the features to be fed into the input of the layers in the Deep Learning Model\n",
        "nb_features = seq_array.shape[2]\n",
        "nb_out = label_array.shape[1]\n",
        "\n",
        "# Sequential Model\n",
        "model = Sequential()\n",
        "# Add a Bi-LSTM Layer\n",
        "model.add(Bidirectional(LSTM(20, return_sequences=True), input_shape=(sequence_length, nb_features)))\n",
        "# Add a Dropout Layer after the Bi-LSTM Layer to minimize overfitting  \n",
        "model.add(Dropout(0.2))\n",
        "# Add a LSTM Layer\n",
        "model.add(LSTM(units=50,return_sequences=False, activation = 'tanh'))\n",
        "# Add a Dropout Layer after the LSTM Layer to minimize overfitting  \n",
        "model.add(Dropout(0.2))\n",
        "# Dense Layer\n",
        "model.add(Dense(units=nb_out))\n",
        "# Activation Function \n",
        "model.add(Activation(\"linear\"))\n",
        "# Compile model, set metrics for evaluation\n",
        "model.compile(loss='mean_squared_error', optimizer='rmsprop',metrics=['mae','mse',r2_keras])\n",
        "# For model observation\n",
        "print(model.summary())\n",
        "\n",
        "# Fit the Deep Learning network on our training data, early stopping is also applied\n",
        "history = model.fit(seq_array, label_array, epochs=100, batch_size=10, validation_split=0.05, verbose=2,\n",
        "          callbacks = [keras.callbacks.EarlyStopping(monitor='val_loss', min_delta=0, patience=10, verbose=0, mode='min'),\n",
        "                       keras.callbacks.ModelCheckpoint(model_path,monitor='val_loss', save_best_only=True, mode='min', verbose=0)])\n"
      ],
      "execution_count": 20,
      "outputs": [
        {
          "output_type": "stream",
          "text": [
            "Model: \"sequential_1\"\n",
            "_________________________________________________________________\n",
            "Layer (type)                 Output Shape              Param #   \n",
            "=================================================================\n",
            "bidirectional_1 (Bidirection (None, 50, 40)            7360      \n",
            "_________________________________________________________________\n",
            "dropout_2 (Dropout)          (None, 50, 40)            0         \n",
            "_________________________________________________________________\n",
            "lstm_3 (LSTM)                (None, 50)                18200     \n",
            "_________________________________________________________________\n",
            "dropout_3 (Dropout)          (None, 50)                0         \n",
            "_________________________________________________________________\n",
            "dense_1 (Dense)              (None, 1)                 51        \n",
            "_________________________________________________________________\n",
            "activation_1 (Activation)    (None, 1)                 0         \n",
            "=================================================================\n",
            "Total params: 25,611\n",
            "Trainable params: 25,611\n",
            "Non-trainable params: 0\n",
            "_________________________________________________________________\n",
            "None\n",
            "Epoch 1/100\n",
            "1485/1485 - 51s - loss: 3179.2861 - mae: 46.9455 - mse: 3179.2861 - r2_keras: -1.2839e+00 - val_loss: 1735.4110 - val_mae: 36.7932 - val_mse: 1735.4110 - val_r2_keras: -5.5905e+10\n",
            "Epoch 2/100\n",
            "1485/1485 - 16s - loss: 1748.8400 - mae: 36.8465 - mse: 1748.8400 - r2_keras: -1.8020e-01 - val_loss: 1698.9039 - val_mae: 36.3585 - val_mse: 1698.9039 - val_r2_keras: -4.5270e+10\n",
            "Epoch 3/100\n",
            "1485/1485 - 16s - loss: 768.7433 - mae: 22.5291 - mse: 768.7433 - r2_keras: 0.4546 - val_loss: 393.2356 - val_mae: 15.6985 - val_mse: 393.2356 - val_r2_keras: -6.2829e+09\n",
            "Epoch 4/100\n",
            "1485/1485 - 16s - loss: 290.6805 - mae: 13.2472 - mse: 290.6805 - r2_keras: 0.7794 - val_loss: 220.2822 - val_mae: 10.6509 - val_mse: 220.2822 - val_r2_keras: -9.6134e+09\n",
            "Epoch 5/100\n",
            "1485/1485 - 16s - loss: 233.2864 - mae: 11.5669 - mse: 233.2864 - r2_keras: 0.8217 - val_loss: 145.4819 - val_mae: 9.2176 - val_mse: 145.4819 - val_r2_keras: -4.0671e+09\n",
            "Epoch 6/100\n",
            "1485/1485 - 16s - loss: 205.1436 - mae: 10.7539 - mse: 205.1436 - r2_keras: 0.8440 - val_loss: 136.2652 - val_mae: 8.6708 - val_mse: 136.2652 - val_r2_keras: -4.5591e+09\n",
            "Epoch 7/100\n",
            "1485/1485 - 16s - loss: 188.4283 - mae: 10.1690 - mse: 188.4283 - r2_keras: 0.8582 - val_loss: 135.0155 - val_mae: 8.5620 - val_mse: 135.0155 - val_r2_keras: -4.9016e+09\n",
            "Epoch 8/100\n",
            "1485/1485 - 16s - loss: 179.4815 - mae: 9.8775 - mse: 179.4815 - r2_keras: 0.8636 - val_loss: 155.2663 - val_mae: 9.8397 - val_mse: 155.2663 - val_r2_keras: -2.9370e+09\n",
            "Epoch 9/100\n",
            "1485/1485 - 16s - loss: 173.2886 - mae: 9.6632 - mse: 173.2886 - r2_keras: 0.8676 - val_loss: 168.7783 - val_mae: 8.9612 - val_mse: 168.7783 - val_r2_keras: -1.1856e+09\n",
            "Epoch 10/100\n",
            "1485/1485 - 16s - loss: 168.4953 - mae: 9.5068 - mse: 168.4953 - r2_keras: 0.8685 - val_loss: 124.2963 - val_mae: 7.8200 - val_mse: 124.2963 - val_r2_keras: -3.2142e+09\n",
            "Epoch 11/100\n",
            "1485/1485 - 16s - loss: 161.1783 - mae: 9.2805 - mse: 161.1783 - r2_keras: 0.8770 - val_loss: 116.1062 - val_mae: 7.8484 - val_mse: 116.1062 - val_r2_keras: -2.2257e+09\n",
            "Epoch 12/100\n",
            "1485/1485 - 16s - loss: 158.4914 - mae: 9.2226 - mse: 158.4914 - r2_keras: 0.8765 - val_loss: 107.2198 - val_mae: 7.9335 - val_mse: 107.2198 - val_r2_keras: -1.8081e+09\n",
            "Epoch 13/100\n",
            "1485/1485 - 15s - loss: 155.3228 - mae: 9.0748 - mse: 155.3228 - r2_keras: 0.8834 - val_loss: 176.3243 - val_mae: 9.3986 - val_mse: 176.3243 - val_r2_keras: -6.0807e+08\n",
            "Epoch 14/100\n",
            "1485/1485 - 16s - loss: 154.6222 - mae: 9.0416 - mse: 154.6222 - r2_keras: 0.8807 - val_loss: 112.4782 - val_mae: 7.8977 - val_mse: 112.4782 - val_r2_keras: -1.2065e+09\n",
            "Epoch 15/100\n",
            "1485/1485 - 15s - loss: 152.1745 - mae: 8.9602 - mse: 152.1745 - r2_keras: 0.8836 - val_loss: 183.6893 - val_mae: 9.4198 - val_mse: 183.6893 - val_r2_keras: -6.7571e+09\n",
            "Epoch 16/100\n",
            "1485/1485 - 16s - loss: 146.1746 - mae: 8.7672 - mse: 146.1746 - r2_keras: 0.8894 - val_loss: 120.1596 - val_mae: 7.6541 - val_mse: 120.1596 - val_r2_keras: -8.6662e+08\n",
            "Epoch 17/100\n",
            "1485/1485 - 15s - loss: 143.2397 - mae: 8.6800 - mse: 143.2397 - r2_keras: 0.8914 - val_loss: 117.7629 - val_mae: 7.6832 - val_mse: 117.7629 - val_r2_keras: -3.0016e+08\n",
            "Epoch 18/100\n",
            "1485/1485 - 16s - loss: 139.6078 - mae: 8.5667 - mse: 139.6078 - r2_keras: 0.8925 - val_loss: 115.5871 - val_mae: 7.5623 - val_mse: 115.5871 - val_r2_keras: -1.2205e+09\n",
            "Epoch 19/100\n",
            "1485/1485 - 16s - loss: 135.7382 - mae: 8.4448 - mse: 135.7382 - r2_keras: 0.8961 - val_loss: 127.3159 - val_mae: 7.6765 - val_mse: 127.3159 - val_r2_keras: -2.4766e+09\n",
            "Epoch 20/100\n",
            "1485/1485 - 16s - loss: 136.7512 - mae: 8.4543 - mse: 136.7512 - r2_keras: 0.8931 - val_loss: 115.1612 - val_mae: 7.5716 - val_mse: 115.1612 - val_r2_keras: -1.7108e+09\n",
            "Epoch 21/100\n",
            "1485/1485 - 16s - loss: 134.9479 - mae: 8.3528 - mse: 134.9479 - r2_keras: 0.8908 - val_loss: 125.4295 - val_mae: 8.2868 - val_mse: 125.4295 - val_r2_keras: -3.3888e+09\n",
            "Epoch 22/100\n",
            "1485/1485 - 16s - loss: 127.8951 - mae: 8.1537 - mse: 127.8951 - r2_keras: 0.9016 - val_loss: 126.4916 - val_mae: 7.7316 - val_mse: 126.4916 - val_r2_keras: -2.1331e+09\n"
          ],
          "name": "stdout"
        }
      ]
    },
    {
      "cell_type": "markdown",
      "metadata": {
        "id": "aIdo_0JC8Ds8"
      },
      "source": [
        "* 3c. Training Data Metrics"
      ]
    },
    {
      "cell_type": "code",
      "metadata": {
        "colab": {
          "base_uri": "https://localhost:8080/"
        },
        "id": "NxCoSBIU6KIS",
        "outputId": "60054ab4-8f4f-4b20-9c86-c4c284fcc3f4"
      },
      "source": [
        "# Metrics from fitting the model on our Training Data\n",
        "scores = model.evaluate(seq_array, label_array, verbose=1, batch_size=200)\n",
        "print('\\nMAE: {}'.format(scores[1]))\n",
        "print('\\nMSE: {}'.format(scores[2]))\n",
        "print('\\nR^2: {}'.format(scores[3]))\n"
      ],
      "execution_count": 22,
      "outputs": [
        {
          "output_type": "stream",
          "text": [
            "79/79 [==============================] - 1s 7ms/step - loss: 79.8803 - mae: 6.0701 - mse: 79.8803 - r2_keras: 0.9343\n",
            "\n",
            "MAE: 6.070121765136719\n",
            "\n",
            "MSE: 79.88032531738281\n",
            "\n",
            "R^2: 0.9343398809432983\n"
          ],
          "name": "stdout"
        }
      ]
    },
    {
      "cell_type": "markdown",
      "metadata": {
        "id": "Fa18svH-8H4X"
      },
      "source": [
        "* 3d. Preparation of Test Data to feed into our model for evaluation"
      ]
    },
    {
      "cell_type": "code",
      "metadata": {
        "id": "zdTs1FAP6UXP"
      },
      "source": [
        "# Preparing Test Data to be fed into our model for evaluation\n",
        "seq_array_test_last = [test1_df[test1_df['id']==id][sequence_cols].values[-sequence_length:] \n",
        "                       for id in test1_df['id'].unique() if len(test1_df[test1_df['id']==id]) >= sequence_length]\n",
        "\n",
        "seq_array_test_last = np.asarray(seq_array_test_last).astype(np.float32)"
      ],
      "execution_count": 23,
      "outputs": []
    },
    {
      "cell_type": "code",
      "metadata": {
        "id": "I_1VG4pA7ISQ"
      },
      "source": [
        "# Preparing Test Data to be fed into our model for evaluation\n",
        "y_mask = [len(test1_df[test1_df['id']==id]) >= sequence_length for id in test1_df['id'].unique()]\n",
        "label_array_test_last = test1_df.groupby('id')['RUL'].nth(-1)[y_mask].values\n",
        "label_array_test_last = label_array_test_last.reshape(label_array_test_last.shape[0],1).astype(np.float32)"
      ],
      "execution_count": 24,
      "outputs": []
    },
    {
      "cell_type": "markdown",
      "metadata": {
        "id": "EsIoTFZ08PnA"
      },
      "source": [
        "* 3e. Testing Data Metrics"
      ]
    },
    {
      "cell_type": "code",
      "metadata": {
        "colab": {
          "base_uri": "https://localhost:8080/"
        },
        "id": "XkPBwLRy7Jat",
        "outputId": "9ab4ea09-1d4b-42d1-93d2-eb4034e6b218"
      },
      "source": [
        "# Test Data Metrics after running our model\n",
        "scores_test = model.evaluate(seq_array_test_last, label_array_test_last, verbose = 1, batch_size = 200)\n",
        "print('\\nMAE: {}'.format(scores_test[1]))\n",
        "print('\\nMSE: {}'.format(scores_test[2]))\n",
        "print('\\nRMSE:')\n",
        "print(math.sqrt(scores_test[2]))\n",
        "print('\\nR2: {}'.format(scores_test[3]))"
      ],
      "execution_count": 25,
      "outputs": [
        {
          "output_type": "stream",
          "text": [
            "1/1 [==============================] - 0s 24ms/step - loss: 149.9457 - mae: 8.7375 - mse: 149.9457 - r2_keras: 0.9060\n",
            "\n",
            "MAE: 8.737482070922852\n",
            "\n",
            "MSE: 149.94573974609375\n",
            "\n",
            "RMSE:\n",
            "12.245233347964168\n",
            "\n",
            "R2: 0.9060359001159668\n"
          ],
          "name": "stdout"
        }
      ]
    },
    {
      "cell_type": "markdown",
      "metadata": {
        "id": "xig-6TmG8U4i"
      },
      "source": [
        "# Predicted Values"
      ]
    },
    {
      "cell_type": "code",
      "metadata": {
        "colab": {
          "base_uri": "https://localhost:8080/"
        },
        "id": "ALDR7gbrI6Ve",
        "outputId": "28aa5063-4d87-402d-90e3-f0ef39e5290d"
      },
      "source": [
        "# To obtain our model's prediction on the Test Data\n",
        "scores_test = model.predict(seq_array_test_last)\n",
        "scores_test"
      ],
      "execution_count": 26,
      "outputs": [
        {
          "output_type": "execute_result",
          "data": {
            "text/plain": [
              "array([[ 54.066944 ],\n",
              "       [ 74.4804   ],\n",
              "       [ 85.37231  ],\n",
              "       [116.49924  ],\n",
              "       [120.04634  ],\n",
              "       [ 88.8193   ],\n",
              "       [120.0387   ],\n",
              "       [ 93.30019  ],\n",
              "       [ 85.20327  ],\n",
              "       [111.70329  ],\n",
              "       [104.94364  ],\n",
              "       [115.537834 ],\n",
              "       [ 97.048454 ],\n",
              "       [ 52.24236  ],\n",
              "       [ 27.858746 ],\n",
              "       [ 80.0188   ],\n",
              "       [ 11.161173 ],\n",
              "       [ 61.223953 ],\n",
              "       [120.7806   ],\n",
              "       [ 15.55234  ],\n",
              "       [119.690636 ],\n",
              "       [ 70.82783  ],\n",
              "       [113.07492  ],\n",
              "       [108.31373  ],\n",
              "       [ 84.39836  ],\n",
              "       [  3.6492057],\n",
              "       [ 43.710194 ],\n",
              "       [120.157646 ],\n",
              "       [  5.284668 ],\n",
              "       [  8.797317 ],\n",
              "       [ 20.59034  ],\n",
              "       [ 21.422215 ],\n",
              "       [ 64.04078  ],\n",
              "       [ 23.351986 ],\n",
              "       [ 21.065279 ],\n",
              "       [  9.059647 ],\n",
              "       [ 68.48787  ],\n",
              "       [118.648186 ],\n",
              "       [ 90.32939  ],\n",
              "       [ 39.24406  ],\n",
              "       [122.51007  ],\n",
              "       [115.14933  ],\n",
              "       [ 20.756863 ],\n",
              "       [ 69.4942   ],\n",
              "       [ 98.19718  ],\n",
              "       [ 26.233906 ],\n",
              "       [ 30.761774 ],\n",
              "       [121.85482  ],\n",
              "       [124.248535 ],\n",
              "       [ 11.705321 ],\n",
              "       [106.00929  ],\n",
              "       [ 37.97789  ],\n",
              "       [102.045876 ],\n",
              "       [112.57393  ],\n",
              "       [ 19.76249  ],\n",
              "       [ 49.046707 ],\n",
              "       [ 61.12174  ],\n",
              "       [ 24.906116 ],\n",
              "       [122.46236  ],\n",
              "       [ 12.084015 ],\n",
              "       [121.89621  ],\n",
              "       [  5.722391 ],\n",
              "       [119.688126 ],\n",
              "       [ 84.7195   ],\n",
              "       [101.840416 ],\n",
              "       [ 51.863876 ],\n",
              "       [ 99.99337  ],\n",
              "       [115.64665  ],\n",
              "       [100.07192  ],\n",
              "       [  4.6523404],\n",
              "       [ 25.197338 ],\n",
              "       [124.849785 ],\n",
              "       [ 80.21988  ],\n",
              "       [ 91.17603  ],\n",
              "       [  4.9771643],\n",
              "       [  7.7025366],\n",
              "       [120.56385  ],\n",
              "       [ 66.70891  ],\n",
              "       [ 93.106834 ],\n",
              "       [121.54304  ],\n",
              "       [113.41859  ],\n",
              "       [124.94863  ],\n",
              "       [ 20.276987 ],\n",
              "       [ 34.63695  ],\n",
              "       [ 18.690836 ],\n",
              "       [ 57.477215 ],\n",
              "       [ 57.95247  ],\n",
              "       [108.0534   ],\n",
              "       [118.08646  ],\n",
              "       [ 78.99661  ],\n",
              "       [ 69.60584  ],\n",
              "       [122.708755 ],\n",
              "       [ 17.75512  ]], dtype=float32)"
            ]
          },
          "metadata": {
            "tags": []
          },
          "execution_count": 26
        }
      ]
    },
    {
      "cell_type": "markdown",
      "metadata": {
        "id": "zQUU577utbfq"
      },
      "source": [
        "## SHAP Interpretation"
      ]
    },
    {
      "cell_type": "code",
      "metadata": {
        "colab": {
          "base_uri": "https://localhost:8080/"
        },
        "id": "7Q8J9nzIteba",
        "outputId": "3ec7a4d4-1ba3-46a3-cb36-0c953a941e0f"
      },
      "source": [
        "%pip install shap\n",
        "import shap"
      ],
      "execution_count": 30,
      "outputs": [
        {
          "output_type": "stream",
          "text": [
            "Requirement already satisfied: shap in /usr/local/lib/python3.7/dist-packages (0.39.0)\n",
            "Requirement already satisfied: numba in /usr/local/lib/python3.7/dist-packages (from shap) (0.51.2)\n",
            "Requirement already satisfied: tqdm>4.25.0 in /usr/local/lib/python3.7/dist-packages (from shap) (4.41.1)\n",
            "Requirement already satisfied: scikit-learn in /usr/local/lib/python3.7/dist-packages (from shap) (0.22.2.post1)\n",
            "Requirement already satisfied: numpy in /usr/local/lib/python3.7/dist-packages (from shap) (1.19.5)\n",
            "Requirement already satisfied: cloudpickle in /usr/local/lib/python3.7/dist-packages (from shap) (1.3.0)\n",
            "Requirement already satisfied: scipy in /usr/local/lib/python3.7/dist-packages (from shap) (1.4.1)\n",
            "Requirement already satisfied: pandas in /usr/local/lib/python3.7/dist-packages (from shap) (1.1.5)\n",
            "Requirement already satisfied: slicer==0.0.7 in /usr/local/lib/python3.7/dist-packages (from shap) (0.0.7)\n",
            "Requirement already satisfied: llvmlite<0.35,>=0.34.0.dev0 in /usr/local/lib/python3.7/dist-packages (from numba->shap) (0.34.0)\n",
            "Requirement already satisfied: setuptools in /usr/local/lib/python3.7/dist-packages (from numba->shap) (54.2.0)\n",
            "Requirement already satisfied: joblib>=0.11 in /usr/local/lib/python3.7/dist-packages (from scikit-learn->shap) (1.0.1)\n",
            "Requirement already satisfied: python-dateutil>=2.7.3 in /usr/local/lib/python3.7/dist-packages (from pandas->shap) (2.8.1)\n",
            "Requirement already satisfied: pytz>=2017.2 in /usr/local/lib/python3.7/dist-packages (from pandas->shap) (2018.9)\n",
            "Requirement already satisfied: six>=1.5 in /usr/local/lib/python3.7/dist-packages (from python-dateutil>=2.7.3->pandas->shap) (1.15.0)\n"
          ],
          "name": "stdout"
        }
      ]
    },
    {
      "cell_type": "code",
      "metadata": {
        "id": "cE2cZ7uh1E3m"
      },
      "source": [
        ""
      ],
      "execution_count": null,
      "outputs": []
    },
    {
      "cell_type": "markdown",
      "metadata": {
        "id": "MPcjLN7ix9KU"
      },
      "source": [
        "## Start Modelling for FD002 (Dataset 2)"
      ]
    },
    {
      "cell_type": "code",
      "metadata": {
        "id": "Zq8_l-b4yCHT"
      },
      "source": [
        "seq_gen = (list(gen_sequence(train2_df[train2_df['id']==id], sequence_length, sequence_cols)) \n",
        "           for id in train2_df['id'].unique())\n",
        "\n",
        "# Generate a sequence with the gen_sequence function to get the 3-Dimensional Form \n",
        "# Convert to numpy array\n",
        "seq_array = np.concatenate(list(seq_gen)).astype(np.float32)"
      ],
      "execution_count": 39,
      "outputs": []
    },
    {
      "cell_type": "code",
      "metadata": {
        "colab": {
          "base_uri": "https://localhost:8080/"
        },
        "id": "AqDmYgo_yFJj",
        "outputId": "9faa249a-32f1-417a-b082-e59c146ff593"
      },
      "source": [
        "# Function to generate the RUL labels \n",
        "def gen_labels(id_df, seq_length, label):\n",
        "    data_matrix = id_df[label].values\n",
        "    num_elements = data_matrix.shape[0]\n",
        "    return data_matrix[seq_length:num_elements, :]\n",
        "\n",
        "# Generate the labels using the gen_labels function\n",
        "label_gen = [gen_labels(train2_df[train2_df['id']==id], sequence_length, ['RUL']) \n",
        "             for id in train2_df['id'].unique()]\n",
        "# Convert to numpy array\n",
        "label_array = np.concatenate(label_gen).astype(np.float32)\n",
        "label_array.shape"
      ],
      "execution_count": 40,
      "outputs": [
        {
          "output_type": "execute_result",
          "data": {
            "text/plain": [
              "(40759, 1)"
            ]
          },
          "metadata": {
            "tags": []
          },
          "execution_count": 40
        }
      ]
    },
    {
      "cell_type": "markdown",
      "metadata": {
        "id": "FuqHY1rcyam4"
      },
      "source": [
        "## 3. Model Building"
      ]
    },
    {
      "cell_type": "markdown",
      "metadata": {
        "id": "sloEQgRoybpc"
      },
      "source": [
        "* 3a. Defining R2 to be used as an evaluation metric\n",
        "> R2 is a statistical measures which gives an indication of closeness of fit."
      ]
    },
    {
      "cell_type": "code",
      "metadata": {
        "id": "HXRGduoVydzG"
      },
      "source": [
        "# Defining R2 to be used as an evaluation metric in the Deep Learning Model Evaluation Metrics\n",
        "def r2_keras(y_true, y_pred):\n",
        "    SS_res =  K.sum(K.square( y_true - y_pred ))\n",
        "    SS_tot = K.sum(K.square( y_true - K.mean(y_true) ) )\n",
        "    return ( 1 - SS_res/(SS_tot + K.epsilon()) )"
      ],
      "execution_count": 41,
      "outputs": []
    },
    {
      "cell_type": "markdown",
      "metadata": {
        "id": "1337CSC9yg2l"
      },
      "source": [
        "## Deep Learning Architecture and Topology"
      ]
    },
    {
      "cell_type": "markdown",
      "metadata": {
        "id": "rD5dNcOiyilF"
      },
      "source": [
        "* 3b. Deep Learning Architecture consists of:\n",
        "<br> > Sequential Model\n",
        "<br> > Bi-LSTM Layer\n",
        "<br> > LSTM Layer\n",
        "<br> > Dropout Layers"
      ]
    },
    {
      "cell_type": "code",
      "metadata": {
        "colab": {
          "base_uri": "https://localhost:8080/"
        },
        "id": "Juj5PIW-ye4y",
        "outputId": "3700ca3f-20b0-4dbf-c799-5981737afb53"
      },
      "source": [
        "# Building the Deep Learning Architecture\n",
        "\n",
        "# Defining the features to be fed into the input of the layers in the Deep Learning Model\n",
        "nb_features = seq_array.shape[2]\n",
        "nb_out = label_array.shape[1]\n",
        "\n",
        "# Sequential Model\n",
        "model = Sequential()\n",
        "# Add a Bi-LSTM Layer\n",
        "model.add(Bidirectional(LSTM(20, return_sequences=True), input_shape=(sequence_length, nb_features)))\n",
        "# Add a Dropout Layer after the Bi-LSTM Layer to minimize overfitting  \n",
        "model.add(Dropout(0.2))\n",
        "# Add a LSTM Layer\n",
        "model.add(LSTM(units=50,return_sequences=False, activation = 'tanh'))\n",
        "# Add a Dropout Layer after the LSTM Layer to minimize overfitting  \n",
        "model.add(Dropout(0.2))\n",
        "# Dense Layer\n",
        "model.add(Dense(units=nb_out))\n",
        "# Activation Function \n",
        "model.add(Activation(\"linear\"))\n",
        "# Compile model, set metrics for evaluation\n",
        "model.compile(loss='mean_squared_error', optimizer='rmsprop',metrics=['mae','mse',r2_keras])\n",
        "# For model observation\n",
        "print(model.summary())\n",
        "\n",
        "# Fit the Deep Learning network on our training data, early stopping is also applied\n",
        "history = model.fit(seq_array, label_array, epochs=100, batch_size=10, validation_split=0.05, verbose=2,\n",
        "          callbacks = [keras.callbacks.EarlyStopping(monitor='val_loss', min_delta=0, patience=10, verbose=0, mode='min'),\n",
        "                       keras.callbacks.ModelCheckpoint(model_path,monitor='val_loss', save_best_only=True, mode='min', verbose=0)])\n"
      ],
      "execution_count": 42,
      "outputs": [
        {
          "output_type": "stream",
          "text": [
            "Model: \"sequential_2\"\n",
            "_________________________________________________________________\n",
            "Layer (type)                 Output Shape              Param #   \n",
            "=================================================================\n",
            "bidirectional_2 (Bidirection (None, 50, 40)            7360      \n",
            "_________________________________________________________________\n",
            "dropout_4 (Dropout)          (None, 50, 40)            0         \n",
            "_________________________________________________________________\n",
            "lstm_5 (LSTM)                (None, 50)                18200     \n",
            "_________________________________________________________________\n",
            "dropout_5 (Dropout)          (None, 50)                0         \n",
            "_________________________________________________________________\n",
            "dense_2 (Dense)              (None, 1)                 51        \n",
            "_________________________________________________________________\n",
            "activation_2 (Activation)    (None, 1)                 0         \n",
            "=================================================================\n",
            "Total params: 25,611\n",
            "Trainable params: 25,611\n",
            "Non-trainable params: 0\n",
            "_________________________________________________________________\n",
            "None\n",
            "Epoch 1/100\n",
            "3873/3873 - 48s - loss: 1996.8812 - mae: 36.8156 - mse: 1996.8812 - r2_keras: -1.2994e+05 - val_loss: 1612.4198 - val_mae: 32.6678 - val_mse: 1612.4198 - val_r2_keras: -7.4370e+10\n",
            "Epoch 2/100\n",
            "3873/3873 - 41s - loss: 828.8021 - mae: 23.2446 - mse: 828.8021 - r2_keras: -2.7407e+06 - val_loss: 1342.4004 - val_mae: 29.4478 - val_mse: 1342.4004 - val_r2_keras: -7.7522e+10\n",
            "Epoch 3/100\n",
            "3873/3873 - 41s - loss: 700.0065 - mae: 21.0095 - mse: 700.0065 - r2_keras: -1.3372e+05 - val_loss: 698.2231 - val_mae: 22.6075 - val_mse: 698.2231 - val_r2_keras: -1.7726e+10\n",
            "Epoch 4/100\n",
            "3873/3873 - 41s - loss: 633.4789 - mae: 19.8855 - mse: 633.4789 - r2_keras: -3.2263e+06 - val_loss: 1632.4691 - val_mae: 33.0829 - val_mse: 1632.4691 - val_r2_keras: -8.5474e+09\n",
            "Epoch 5/100\n",
            "3873/3873 - 41s - loss: 584.2935 - mae: 19.0188 - mse: 584.2935 - r2_keras: -4.1607e+05 - val_loss: 541.8590 - val_mae: 19.1750 - val_mse: 541.8590 - val_r2_keras: -2.4983e+10\n",
            "Epoch 6/100\n",
            "3873/3873 - 41s - loss: 536.9842 - mae: 18.1480 - mse: 536.9842 - r2_keras: -2.6367e+02 - val_loss: 770.3983 - val_mae: 22.0577 - val_mse: 770.3983 - val_r2_keras: -3.6757e+10\n",
            "Epoch 7/100\n",
            "3873/3873 - 41s - loss: 485.3052 - mae: 17.1495 - mse: 485.3052 - r2_keras: -1.6939e+04 - val_loss: 413.2561 - val_mae: 17.0785 - val_mse: 413.2561 - val_r2_keras: -1.6800e+10\n",
            "Epoch 8/100\n",
            "3873/3873 - 41s - loss: 418.1933 - mae: 15.7535 - mse: 418.1933 - r2_keras: -3.4263e+04 - val_loss: 467.7431 - val_mae: 17.6773 - val_mse: 467.7431 - val_r2_keras: -2.0890e+10\n",
            "Epoch 9/100\n",
            "3873/3873 - 41s - loss: 380.6815 - mae: 14.9126 - mse: 380.6815 - r2_keras: -5.9705e+05 - val_loss: 272.3103 - val_mae: 12.6682 - val_mse: 272.3103 - val_r2_keras: -1.0169e+10\n",
            "Epoch 10/100\n",
            "3873/3873 - 41s - loss: 352.9196 - mae: 14.3080 - mse: 352.9196 - r2_keras: -1.4982e+04 - val_loss: 596.1693 - val_mae: 19.3609 - val_mse: 596.1693 - val_r2_keras: -3.4012e+10\n",
            "Epoch 11/100\n",
            "3873/3873 - 41s - loss: 331.6659 - mae: 13.8013 - mse: 331.6659 - r2_keras: -1.5327e+06 - val_loss: 269.2140 - val_mae: 12.5996 - val_mse: 269.2140 - val_r2_keras: -1.3286e+10\n",
            "Epoch 12/100\n",
            "3873/3873 - 41s - loss: 315.9150 - mae: 13.4312 - mse: 315.9150 - r2_keras: -5.2718e+04 - val_loss: 220.8387 - val_mae: 11.3357 - val_mse: 220.8387 - val_r2_keras: -5.8400e+09\n",
            "Epoch 13/100\n",
            "3873/3873 - 41s - loss: 304.8489 - mae: 13.1874 - mse: 304.8489 - r2_keras: -1.3498e+06 - val_loss: 863.7168 - val_mae: 23.1067 - val_mse: 863.7168 - val_r2_keras: -4.6558e+10\n",
            "Epoch 14/100\n",
            "3873/3873 - 41s - loss: 293.5685 - mae: 12.9276 - mse: 293.5685 - r2_keras: -4.1560e+04 - val_loss: 209.3626 - val_mae: 10.8395 - val_mse: 209.3626 - val_r2_keras: -8.5443e+09\n",
            "Epoch 15/100\n",
            "3873/3873 - 41s - loss: 284.2842 - mae: 12.6639 - mse: 284.2842 - r2_keras: -2.3510e+06 - val_loss: 740.3382 - val_mae: 21.1206 - val_mse: 740.3382 - val_r2_keras: -3.4923e+10\n",
            "Epoch 16/100\n",
            "3873/3873 - 41s - loss: 278.5118 - mae: 12.5266 - mse: 278.5118 - r2_keras: -1.7483e+03 - val_loss: 236.6060 - val_mae: 11.9151 - val_mse: 236.6060 - val_r2_keras: -9.4803e+09\n",
            "Epoch 17/100\n",
            "3873/3873 - 41s - loss: 271.9563 - mae: 12.3661 - mse: 271.9563 - r2_keras: -3.2411e+04 - val_loss: 263.6664 - val_mae: 12.6847 - val_mse: 263.6664 - val_r2_keras: -2.3415e+09\n",
            "Epoch 18/100\n",
            "3873/3873 - 41s - loss: 267.4696 - mae: 12.2645 - mse: 267.4696 - r2_keras: -2.2385e+04 - val_loss: 318.7177 - val_mae: 12.1492 - val_mse: 318.7177 - val_r2_keras: -1.7824e+09\n",
            "Epoch 19/100\n",
            "3873/3873 - 41s - loss: 259.5459 - mae: 12.0693 - mse: 259.5459 - r2_keras: -1.7579e+05 - val_loss: 268.9424 - val_mae: 12.3894 - val_mse: 268.9424 - val_r2_keras: -7.8925e+09\n",
            "Epoch 20/100\n",
            "3873/3873 - 41s - loss: 253.4505 - mae: 11.8999 - mse: 253.4505 - r2_keras: -6.8112e+05 - val_loss: 265.3044 - val_mae: 12.8262 - val_mse: 265.3044 - val_r2_keras: -1.2552e+10\n",
            "Epoch 21/100\n",
            "3873/3873 - 41s - loss: 246.7017 - mae: 11.7226 - mse: 246.7017 - r2_keras: -6.5955e+04 - val_loss: 406.2158 - val_mae: 14.3552 - val_mse: 406.2158 - val_r2_keras: -6.0577e+08\n",
            "Epoch 22/100\n",
            "3873/3873 - 41s - loss: 243.1245 - mae: 11.6549 - mse: 243.1245 - r2_keras: -5.0460e+05 - val_loss: 214.3377 - val_mae: 11.5467 - val_mse: 214.3377 - val_r2_keras: -7.5308e+09\n",
            "Epoch 23/100\n",
            "3873/3873 - 41s - loss: 238.2514 - mae: 11.5010 - mse: 238.2514 - r2_keras: -4.2520e+05 - val_loss: 220.4813 - val_mae: 11.2773 - val_mse: 220.4813 - val_r2_keras: -5.9678e+09\n",
            "Epoch 24/100\n",
            "3873/3873 - 41s - loss: 235.6071 - mae: 11.4363 - mse: 235.6071 - r2_keras: -5.3593e+04 - val_loss: 219.8340 - val_mae: 11.0826 - val_mse: 219.8340 - val_r2_keras: -3.9969e+09\n"
          ],
          "name": "stdout"
        }
      ]
    },
    {
      "cell_type": "markdown",
      "metadata": {
        "id": "1Mnl4JWxypQj"
      },
      "source": [
        "* 3c. Training Data Metrics"
      ]
    },
    {
      "cell_type": "code",
      "metadata": {
        "colab": {
          "base_uri": "https://localhost:8080/"
        },
        "id": "MGW9N2X3yq3f",
        "outputId": "bef85961-079b-40c7-e77e-7d623c9d345c"
      },
      "source": [
        "# Metrics from fitting the model on our Training Data\n",
        "scores = model.evaluate(seq_array, label_array, verbose=1, batch_size=200)\n",
        "print('\\nMAE: {}'.format(scores[1]))\n",
        "print('\\nMSE: {}'.format(scores[2]))\n",
        "print('\\nR^2: {}'.format(scores[3]))\n"
      ],
      "execution_count": 43,
      "outputs": [
        {
          "output_type": "stream",
          "text": [
            "204/204 [==============================] - 1s 7ms/step - loss: 179.2374 - mae: 10.2216 - mse: 179.2374 - r2_keras: 0.8638\n",
            "\n",
            "MAE: 10.221564292907715\n",
            "\n",
            "MSE: 179.23739624023438\n",
            "\n",
            "R^2: 0.8637569546699524\n"
          ],
          "name": "stdout"
        }
      ]
    },
    {
      "cell_type": "markdown",
      "metadata": {
        "id": "W3gFau6KysG7"
      },
      "source": [
        "* 3d. Preparation of Test Data to feed into our model for evaluation"
      ]
    },
    {
      "cell_type": "code",
      "metadata": {
        "id": "8WfA4r2YytdI"
      },
      "source": [
        "# Preparing Test Data to be fed into our model for evaluation\n",
        "seq_array_test_last = [test2_df[test2_df['id']==id][sequence_cols].values[-sequence_length:] \n",
        "                       for id in test2_df['id'].unique() if len(test2_df[test2_df['id']==id]) >= sequence_length]\n",
        "\n",
        "seq_array_test_last = np.asarray(seq_array_test_last).astype(np.float32)"
      ],
      "execution_count": 44,
      "outputs": []
    },
    {
      "cell_type": "code",
      "metadata": {
        "id": "lY9_xAbCy11i"
      },
      "source": [
        "# Preparing Test Data to be fed into our model for evaluation\n",
        "y_mask = [len(test2_df[test2_df['id']==id]) >= sequence_length for id in test2_df['id'].unique()]\n",
        "label_array_test_last = test2_df.groupby('id')['RUL'].nth(-1)[y_mask].values\n",
        "label_array_test_last = label_array_test_last.reshape(label_array_test_last.shape[0],1).astype(np.float32)"
      ],
      "execution_count": 45,
      "outputs": []
    },
    {
      "cell_type": "markdown",
      "metadata": {
        "id": "6Zt88zYUzEG3"
      },
      "source": [
        "* 3e. Testing Data Metrics"
      ]
    },
    {
      "cell_type": "code",
      "metadata": {
        "colab": {
          "base_uri": "https://localhost:8080/"
        },
        "id": "Nn9Xj0WBzFj_",
        "outputId": "73f5a7e1-f880-49f4-bb89-09ed0325b5de"
      },
      "source": [
        "# Test Data Metrics after running our model\n",
        "scores_test = model.evaluate(seq_array_test_last, label_array_test_last, verbose = 1, batch_size = 200)\n",
        "print('\\nMAE: {}'.format(scores_test[1]))\n",
        "print('\\nMSE: {}'.format(scores_test[2]))\n",
        "print('\\nRMSE:')\n",
        "print(math.sqrt(scores_test[2]))\n",
        "print('\\nR2: {}'.format(scores_test[3]))"
      ],
      "execution_count": 46,
      "outputs": [
        {
          "output_type": "stream",
          "text": [
            "2/2 [==============================] - 0s 11ms/step - loss: 206.6912 - mae: 10.4490 - mse: 206.6912 - r2_keras: 0.8730\n",
            "\n",
            "MAE: 10.44897174835205\n",
            "\n",
            "MSE: 206.6912078857422\n",
            "\n",
            "RMSE:\n",
            "14.376759297064906\n",
            "\n",
            "R2: 0.8729592561721802\n"
          ],
          "name": "stdout"
        }
      ]
    },
    {
      "cell_type": "markdown",
      "metadata": {
        "id": "cN03I9zLzLeM"
      },
      "source": [
        "## Predicted Values"
      ]
    },
    {
      "cell_type": "code",
      "metadata": {
        "colab": {
          "base_uri": "https://localhost:8080/"
        },
        "id": "1SG4pL4uzJig",
        "outputId": "da2a008d-feb0-4c39-ad10-d5b2f12f8146"
      },
      "source": [
        "# To obtain our model's prediction on the Test Data\n",
        "scores_test = model.predict(seq_array_test_last)\n",
        "scores_test"
      ],
      "execution_count": 47,
      "outputs": [
        {
          "output_type": "execute_result",
          "data": {
            "text/plain": [
              "array([[ 17.21169  ],\n",
              "       [117.711624 ],\n",
              "       [105.323135 ],\n",
              "       [101.940384 ],\n",
              "       [ 11.411739 ],\n",
              "       [123.052536 ],\n",
              "       [ 11.997244 ],\n",
              "       [ 66.65427  ],\n",
              "       [ 12.48432  ],\n",
              "       [114.6633   ],\n",
              "       [ 11.97789  ],\n",
              "       [121.554825 ],\n",
              "       [ 33.043274 ],\n",
              "       [ 16.247704 ],\n",
              "       [ 43.00514  ],\n",
              "       [ 88.74921  ],\n",
              "       [ 72.150055 ],\n",
              "       [ 29.690392 ],\n",
              "       [ 72.549225 ],\n",
              "       [100.71509  ],\n",
              "       [ 18.103704 ],\n",
              "       [ 89.847824 ],\n",
              "       [ 82.90082  ],\n",
              "       [117.89659  ],\n",
              "       [115.32515  ],\n",
              "       [ 97.77292  ],\n",
              "       [ 62.83395  ],\n",
              "       [ 97.45949  ],\n",
              "       [ 14.354083 ],\n",
              "       [ 67.06311  ],\n",
              "       [119.83354  ],\n",
              "       [ 88.602875 ],\n",
              "       [ 80.83121  ],\n",
              "       [ 68.38105  ],\n",
              "       [ 51.623985 ],\n",
              "       [ 33.989716 ],\n",
              "       [ 31.801086 ],\n",
              "       [ 32.19795  ],\n",
              "       [ 18.115723 ],\n",
              "       [ 11.878958 ],\n",
              "       [ 21.931004 ],\n",
              "       [116.31552  ],\n",
              "       [119.71135  ],\n",
              "       [ 18.169655 ],\n",
              "       [123.42978  ],\n",
              "       [ 12.17774  ],\n",
              "       [ 52.645123 ],\n",
              "       [ 44.513348 ],\n",
              "       [ 85.43567  ],\n",
              "       [102.65483  ],\n",
              "       [120.86749  ],\n",
              "       [118.91649  ],\n",
              "       [ 37.2629   ],\n",
              "       [ 70.782104 ],\n",
              "       [117.84148  ],\n",
              "       [ 36.779083 ],\n",
              "       [ 50.094376 ],\n",
              "       [ 22.433294 ],\n",
              "       [ 10.182531 ],\n",
              "       [117.23253  ],\n",
              "       [ 65.47818  ],\n",
              "       [ 62.819683 ],\n",
              "       [114.42842  ],\n",
              "       [ 22.655396 ],\n",
              "       [121.451584 ],\n",
              "       [ 91.97128  ],\n",
              "       [ 53.54051  ],\n",
              "       [106.935135 ],\n",
              "       [106.65695  ],\n",
              "       [ 35.582474 ],\n",
              "       [ 83.2419   ],\n",
              "       [ 60.798462 ],\n",
              "       [109.18469  ],\n",
              "       [ 12.282734 ],\n",
              "       [103.82823  ],\n",
              "       [ 72.66066  ],\n",
              "       [ 23.759834 ],\n",
              "       [ 41.05257  ],\n",
              "       [117.851074 ],\n",
              "       [ 34.126728 ],\n",
              "       [ 70.96869  ],\n",
              "       [122.22388  ],\n",
              "       [ 13.574648 ],\n",
              "       [ 18.50934  ],\n",
              "       [ 86.66594  ],\n",
              "       [114.379    ],\n",
              "       [100.58519  ],\n",
              "       [100.08429  ],\n",
              "       [ 48.885128 ],\n",
              "       [ 32.308662 ],\n",
              "       [111.12674  ],\n",
              "       [  8.774124 ],\n",
              "       [ 16.008648 ],\n",
              "       [ 13.951792 ],\n",
              "       [  6.3142443],\n",
              "       [102.09294  ],\n",
              "       [108.10402  ],\n",
              "       [103.946884 ],\n",
              "       [ 60.62085  ],\n",
              "       [115.8806   ],\n",
              "       [ 33.991623 ],\n",
              "       [102.09395  ],\n",
              "       [ 16.846924 ],\n",
              "       [ 91.69008  ],\n",
              "       [ 96.54869  ],\n",
              "       [ 75.874985 ],\n",
              "       [  9.229171 ],\n",
              "       [122.53549  ],\n",
              "       [104.1696   ],\n",
              "       [119.97037  ],\n",
              "       [ 19.769455 ],\n",
              "       [122.17418  ],\n",
              "       [116.84534  ],\n",
              "       [ 11.6663265],\n",
              "       [121.175735 ],\n",
              "       [ 95.36081  ],\n",
              "       [ 62.13163  ],\n",
              "       [113.34068  ],\n",
              "       [ 92.60217  ],\n",
              "       [105.3288   ],\n",
              "       [116.20891  ],\n",
              "       [ 45.74665  ],\n",
              "       [ 57.74453  ],\n",
              "       [  7.04663  ],\n",
              "       [116.510025 ],\n",
              "       [122.139145 ],\n",
              "       [ 83.7298   ],\n",
              "       [ 12.907683 ],\n",
              "       [ 66.06015  ],\n",
              "       [ 59.90006  ],\n",
              "       [ 98.78526  ],\n",
              "       [ 57.638668 ],\n",
              "       [ 83.59137  ],\n",
              "       [ 52.27239  ],\n",
              "       [ 83.1172   ],\n",
              "       [ 10.931881 ],\n",
              "       [122.53418  ],\n",
              "       [ 11.131862 ],\n",
              "       [110.62877  ],\n",
              "       [ 26.35092  ],\n",
              "       [ 75.33942  ],\n",
              "       [ 69.30771  ],\n",
              "       [ 90.70145  ],\n",
              "       [121.268295 ],\n",
              "       [ 97.83855  ],\n",
              "       [113.10405  ],\n",
              "       [108.757675 ],\n",
              "       [ 20.587677 ],\n",
              "       [ 17.008488 ],\n",
              "       [ 57.29436  ],\n",
              "       [ 20.40482  ],\n",
              "       [ 35.651222 ],\n",
              "       [ 88.367615 ],\n",
              "       [  8.801135 ],\n",
              "       [111.52367  ],\n",
              "       [ 92.54231  ],\n",
              "       [100.13327  ],\n",
              "       [118.79205  ],\n",
              "       [117.09642  ],\n",
              "       [ 52.333904 ],\n",
              "       [101.98364  ],\n",
              "       [ 21.084425 ],\n",
              "       [117.31279  ],\n",
              "       [121.46042  ],\n",
              "       [ 25.872255 ],\n",
              "       [  7.7916603],\n",
              "       [122.34154  ],\n",
              "       [ 53.584072 ],\n",
              "       [ 92.899216 ],\n",
              "       [ 61.956196 ],\n",
              "       [ 23.336334 ],\n",
              "       [ 63.122635 ],\n",
              "       [123.5966   ],\n",
              "       [ 19.400768 ],\n",
              "       [ 11.751884 ],\n",
              "       [117.063354 ],\n",
              "       [122.53798  ],\n",
              "       [ 47.19752  ],\n",
              "       [ 26.391916 ],\n",
              "       [ 87.174286 ],\n",
              "       [ 24.253954 ],\n",
              "       [ 43.440678 ],\n",
              "       [119.777374 ],\n",
              "       [ 72.54129  ],\n",
              "       [112.24333  ],\n",
              "       [122.75717  ],\n",
              "       [ 47.82553  ],\n",
              "       [114.74765  ],\n",
              "       [118.30238  ],\n",
              "       [ 99.32596  ],\n",
              "       [118.84274  ],\n",
              "       [ 52.27355  ],\n",
              "       [106.034195 ],\n",
              "       [  4.974336 ],\n",
              "       [ 35.350273 ],\n",
              "       [ 11.529308 ],\n",
              "       [  6.657787 ],\n",
              "       [ 60.845325 ],\n",
              "       [ 64.105576 ],\n",
              "       [112.42024  ],\n",
              "       [115.527176 ],\n",
              "       [108.12108  ],\n",
              "       [ 86.42076  ],\n",
              "       [114.51639  ],\n",
              "       [121.86099  ],\n",
              "       [ 71.23764  ],\n",
              "       [ 15.647396 ],\n",
              "       [ 93.195465 ],\n",
              "       [ 15.001577 ],\n",
              "       [ 84.21669  ],\n",
              "       [114.37781  ],\n",
              "       [  7.200593 ],\n",
              "       [ 66.179214 ],\n",
              "       [100.922714 ],\n",
              "       [120.72472  ],\n",
              "       [ 16.890375 ],\n",
              "       [ 50.999252 ],\n",
              "       [118.92592  ],\n",
              "       [105.99237  ],\n",
              "       [114.616486 ],\n",
              "       [ 21.30587  ],\n",
              "       [ 12.368479 ],\n",
              "       [116.42836  ],\n",
              "       [120.82124  ],\n",
              "       [ 70.781975 ],\n",
              "       [ 18.896667 ],\n",
              "       [119.574265 ],\n",
              "       [ 13.007662 ],\n",
              "       [ 40.470745 ],\n",
              "       [ 42.49874  ],\n",
              "       [104.697815 ],\n",
              "       [118.43436  ],\n",
              "       [ 57.696114 ],\n",
              "       [106.08461  ],\n",
              "       [ 93.81085  ]], dtype=float32)"
            ]
          },
          "metadata": {
            "tags": []
          },
          "execution_count": 47
        }
      ]
    },
    {
      "cell_type": "markdown",
      "metadata": {
        "id": "m0jvAVOZzQFM"
      },
      "source": [
        "## SHAP Interpretation"
      ]
    },
    {
      "cell_type": "code",
      "metadata": {
        "id": "PihOTkNwzVai"
      },
      "source": [
        ""
      ],
      "execution_count": null,
      "outputs": []
    },
    {
      "cell_type": "markdown",
      "metadata": {
        "id": "uXTSncqdzV9O"
      },
      "source": [
        "## Start Modelling for FD003 (Dataset 3)"
      ]
    },
    {
      "cell_type": "code",
      "metadata": {
        "id": "BFhn_LXvzfmX"
      },
      "source": [
        "seq_gen = (list(gen_sequence(train3_df[train3_df['id']==id], sequence_length, sequence_cols)) \n",
        "           for id in train3_df['id'].unique())\n",
        "\n",
        "# Generate a sequence with the gen_sequence function to get the 3-Dimensional Form \n",
        "# Convert to numpy array\n",
        "seq_array = np.concatenate(list(seq_gen)).astype(np.float32)"
      ],
      "execution_count": 48,
      "outputs": []
    },
    {
      "cell_type": "code",
      "metadata": {
        "colab": {
          "base_uri": "https://localhost:8080/"
        },
        "id": "SuHVsjSszjdf",
        "outputId": "96359a75-d4cc-4054-83ce-4e033be023d8"
      },
      "source": [
        "# Function to generate the RUL labels \n",
        "def gen_labels(id_df, seq_length, label):\n",
        "    data_matrix = id_df[label].values\n",
        "    num_elements = data_matrix.shape[0]\n",
        "    return data_matrix[seq_length:num_elements, :]\n",
        "\n",
        "# Generate the labels using the gen_labels function\n",
        "label_gen = [gen_labels(train3_df[train3_df['id']==id], sequence_length, ['RUL']) \n",
        "             for id in train3_df['id'].unique()]\n",
        "# Convert to numpy array\n",
        "label_array = np.concatenate(label_gen).astype(np.float32)\n",
        "label_array.shape"
      ],
      "execution_count": 49,
      "outputs": [
        {
          "output_type": "execute_result",
          "data": {
            "text/plain": [
              "(19720, 1)"
            ]
          },
          "metadata": {
            "tags": []
          },
          "execution_count": 49
        }
      ]
    },
    {
      "cell_type": "markdown",
      "metadata": {
        "id": "KXtC97pRzogK"
      },
      "source": [
        "## 3. Model Building"
      ]
    },
    {
      "cell_type": "markdown",
      "metadata": {
        "id": "PfsJ0dBDzpyz"
      },
      "source": [
        "* 3a. Defining R2 to be used as an evaluation metric\n",
        "> R2 is a statistical measures which gives an indication of closeness of fit."
      ]
    },
    {
      "cell_type": "code",
      "metadata": {
        "id": "mNvfBSupzrTi"
      },
      "source": [
        "# Defining R2 to be used as an evaluation metric in the Deep Learning Model Evaluation Metrics\n",
        "def r2_keras(y_true, y_pred):\n",
        "    SS_res =  K.sum(K.square( y_true - y_pred ))\n",
        "    SS_tot = K.sum(K.square( y_true - K.mean(y_true) ) )\n",
        "    return ( 1 - SS_res/(SS_tot + K.epsilon()) )"
      ],
      "execution_count": 50,
      "outputs": []
    },
    {
      "cell_type": "markdown",
      "metadata": {
        "id": "hDVkTCVfzs_0"
      },
      "source": [
        "## Deep Learning Architecture and Topology"
      ]
    },
    {
      "cell_type": "markdown",
      "metadata": {
        "id": "8jv1RMDszuzD"
      },
      "source": [
        "* 3b. Deep Learning Architecture consists of:\n",
        "<br> > Sequential Model\n",
        "<br> > Bi-LSTM Layer\n",
        "<br> > LSTM Layer\n",
        "<br> > Dropout Layers"
      ]
    },
    {
      "cell_type": "code",
      "metadata": {
        "colab": {
          "base_uri": "https://localhost:8080/"
        },
        "id": "2lUdpZMJzwYo",
        "outputId": "369e2ad3-96e2-4c0f-8eec-1fcb6c0a5bdb"
      },
      "source": [
        "# Building the Deep Learning Architecture\n",
        "\n",
        "# Defining the features to be fed into the input of the layers in the Deep Learning Model\n",
        "nb_features = seq_array.shape[2]\n",
        "nb_out = label_array.shape[1]\n",
        "\n",
        "# Sequential Model\n",
        "model = Sequential()\n",
        "# Add a Bi-LSTM Layer\n",
        "model.add(Bidirectional(LSTM(20, return_sequences=True), input_shape=(sequence_length, nb_features)))\n",
        "# Add a Dropout Layer after the Bi-LSTM Layer to minimize overfitting  \n",
        "model.add(Dropout(0.2))\n",
        "# Add a LSTM Layer\n",
        "model.add(LSTM(units=50,return_sequences=False, activation = 'tanh'))\n",
        "# Add a Dropout Layer after the LSTM Layer to minimize overfitting  \n",
        "model.add(Dropout(0.2))\n",
        "# Dense Layer\n",
        "model.add(Dense(units=nb_out))\n",
        "# Activation Function \n",
        "model.add(Activation(\"linear\"))\n",
        "# Compile model, set metrics for evaluation\n",
        "model.compile(loss='mean_squared_error', optimizer='rmsprop',metrics=['mae','mse',r2_keras])\n",
        "# For model observation\n",
        "print(model.summary())\n",
        "\n",
        "# Fit the Deep Learning network on our training data, early stopping is also applied\n",
        "history = model.fit(seq_array, label_array, epochs=100, batch_size=10, validation_split=0.05, verbose=2,\n",
        "          callbacks = [keras.callbacks.EarlyStopping(monitor='val_loss', min_delta=0, patience=10, verbose=0, mode='min'),\n",
        "                       keras.callbacks.ModelCheckpoint(model_path,monitor='val_loss', save_best_only=True, mode='min', verbose=0)])\n"
      ],
      "execution_count": 51,
      "outputs": [
        {
          "output_type": "stream",
          "text": [
            "Model: \"sequential_3\"\n",
            "_________________________________________________________________\n",
            "Layer (type)                 Output Shape              Param #   \n",
            "=================================================================\n",
            "bidirectional_3 (Bidirection (None, 50, 40)            7360      \n",
            "_________________________________________________________________\n",
            "dropout_6 (Dropout)          (None, 50, 40)            0         \n",
            "_________________________________________________________________\n",
            "lstm_7 (LSTM)                (None, 50)                18200     \n",
            "_________________________________________________________________\n",
            "dropout_7 (Dropout)          (None, 50)                0         \n",
            "_________________________________________________________________\n",
            "dense_3 (Dense)              (None, 1)                 51        \n",
            "_________________________________________________________________\n",
            "activation_3 (Activation)    (None, 1)                 0         \n",
            "=================================================================\n",
            "Total params: 25,611\n",
            "Trainable params: 25,611\n",
            "Non-trainable params: 0\n",
            "_________________________________________________________________\n",
            "None\n",
            "Epoch 1/100\n",
            "1874/1874 - 26s - loss: 3325.7129 - mae: 48.2957 - mse: 3325.7129 - r2_keras: -1.5536e+00 - val_loss: 747.0471 - val_mae: 24.6765 - val_mse: 747.0471 - val_r2_keras: -4.4428e+10\n",
            "Epoch 2/100\n",
            "1874/1874 - 20s - loss: 543.2288 - mae: 18.7322 - mse: 543.2288 - r2_keras: 0.5744 - val_loss: 156.3006 - val_mae: 10.7771 - val_mse: 156.3006 - val_r2_keras: -5.8124e+09\n",
            "Epoch 3/100\n",
            "1874/1874 - 20s - loss: 316.7741 - mae: 13.4387 - mse: 316.7741 - r2_keras: 0.7478 - val_loss: 119.6647 - val_mae: 8.3824 - val_mse: 119.6647 - val_r2_keras: -4.4808e+09\n",
            "Epoch 4/100\n",
            "1874/1874 - 20s - loss: 261.5656 - mae: 12.0884 - mse: 261.5656 - r2_keras: 0.7620 - val_loss: 307.8091 - val_mae: 13.3716 - val_mse: 307.8091 - val_r2_keras: -1.4813e+10\n",
            "Epoch 5/100\n",
            "1874/1874 - 20s - loss: 229.8045 - mae: 11.2538 - mse: 229.8045 - r2_keras: -3.7037e+06 - val_loss: 119.4494 - val_mae: 7.1161 - val_mse: 119.4494 - val_r2_keras: -1.4155e+09\n",
            "Epoch 6/100\n",
            "1874/1874 - 20s - loss: 212.5661 - mae: 10.7899 - mse: 212.5661 - r2_keras: 0.8339 - val_loss: 80.5347 - val_mae: 5.9391 - val_mse: 80.5347 - val_r2_keras: -1.5391e+09\n",
            "Epoch 7/100\n",
            "1874/1874 - 20s - loss: 197.7456 - mae: 10.3555 - mse: 197.7456 - r2_keras: 0.8442 - val_loss: 112.2466 - val_mae: 7.1346 - val_mse: 112.2466 - val_r2_keras: -2.1609e+09\n",
            "Epoch 8/100\n",
            "1874/1874 - 20s - loss: 185.4425 - mae: 10.0113 - mse: 185.4425 - r2_keras: -1.3582e+07 - val_loss: 86.2583 - val_mae: 6.6407 - val_mse: 86.2583 - val_r2_keras: -2.1658e+09\n",
            "Epoch 9/100\n",
            "1874/1874 - 20s - loss: 176.1275 - mae: 9.7689 - mse: 176.1275 - r2_keras: 0.8600 - val_loss: 67.7557 - val_mae: 5.9044 - val_mse: 67.7557 - val_r2_keras: -2.1670e+09\n",
            "Epoch 10/100\n",
            "1874/1874 - 20s - loss: 171.3196 - mae: 9.5775 - mse: 171.3196 - r2_keras: 0.8671 - val_loss: 161.9809 - val_mae: 7.9511 - val_mse: 161.9809 - val_r2_keras: -1.1215e+09\n",
            "Epoch 11/100\n",
            "1874/1874 - 20s - loss: 164.0181 - mae: 9.3357 - mse: 164.0181 - r2_keras: 0.8435 - val_loss: 98.0908 - val_mae: 6.0847 - val_mse: 98.0908 - val_r2_keras: -7.2020e+08\n",
            "Epoch 12/100\n",
            "1874/1874 - 20s - loss: 158.5285 - mae: 9.1639 - mse: 158.5285 - r2_keras: -3.8389e+06 - val_loss: 88.6424 - val_mae: 5.7876 - val_mse: 88.6424 - val_r2_keras: -7.0583e+08\n",
            "Epoch 13/100\n",
            "1874/1874 - 20s - loss: 149.8853 - mae: 8.9189 - mse: 149.8853 - r2_keras: 0.8751 - val_loss: 89.5640 - val_mae: 6.9846 - val_mse: 89.5640 - val_r2_keras: -2.8607e+09\n",
            "Epoch 14/100\n",
            "1874/1874 - 20s - loss: 145.1628 - mae: 8.8153 - mse: 145.1628 - r2_keras: 0.8862 - val_loss: 63.7311 - val_mae: 4.7787 - val_mse: 63.7310 - val_r2_keras: -5.4830e+08\n",
            "Epoch 15/100\n",
            "1874/1874 - 20s - loss: 140.0936 - mae: 8.6539 - mse: 140.0936 - r2_keras: 0.8858 - val_loss: 77.6884 - val_mae: 6.0397 - val_mse: 77.6884 - val_r2_keras: -1.3204e+09\n",
            "Epoch 16/100\n",
            "1874/1874 - 19s - loss: 137.8302 - mae: 8.5780 - mse: 137.8302 - r2_keras: 0.8823 - val_loss: 76.6112 - val_mae: 5.1780 - val_mse: 76.6112 - val_r2_keras: -3.3260e+08\n",
            "Epoch 17/100\n",
            "1874/1874 - 19s - loss: 136.1614 - mae: 8.5124 - mse: 136.1614 - r2_keras: -3.1925e+06 - val_loss: 98.8722 - val_mae: 6.6745 - val_mse: 98.8722 - val_r2_keras: -1.4900e+09\n",
            "Epoch 18/100\n",
            "1874/1874 - 19s - loss: 132.4639 - mae: 8.3668 - mse: 132.4639 - r2_keras: 0.8844 - val_loss: 115.1152 - val_mae: 6.5760 - val_mse: 115.1152 - val_r2_keras: -2.6102e+08\n",
            "Epoch 19/100\n",
            "1874/1874 - 19s - loss: 127.3346 - mae: 8.2458 - mse: 127.3346 - r2_keras: 0.8946 - val_loss: 141.6663 - val_mae: 6.8010 - val_mse: 141.6663 - val_r2_keras: -7.0595e+07\n",
            "Epoch 20/100\n",
            "1874/1874 - 19s - loss: 124.8813 - mae: 8.0972 - mse: 124.8813 - r2_keras: -4.7148e+06 - val_loss: 105.5902 - val_mae: 6.7449 - val_mse: 105.5902 - val_r2_keras: -1.2772e+09\n",
            "Epoch 21/100\n",
            "1874/1874 - 19s - loss: 125.0745 - mae: 8.1460 - mse: 125.0745 - r2_keras: 0.8976 - val_loss: 77.9304 - val_mae: 5.4431 - val_mse: 77.9304 - val_r2_keras: -1.3779e+08\n",
            "Epoch 22/100\n",
            "1874/1874 - 20s - loss: 121.9503 - mae: 8.0170 - mse: 121.9504 - r2_keras: 0.9010 - val_loss: 129.5156 - val_mae: 7.0507 - val_mse: 129.5156 - val_r2_keras: -6.2871e+07\n",
            "Epoch 23/100\n",
            "1874/1874 - 20s - loss: 120.4348 - mae: 7.9303 - mse: 120.4348 - r2_keras: 0.8976 - val_loss: 69.3425 - val_mae: 5.6646 - val_mse: 69.3425 - val_r2_keras: -5.7046e+08\n",
            "Epoch 24/100\n",
            "1874/1874 - 21s - loss: 116.5102 - mae: 7.8395 - mse: 116.5102 - r2_keras: 0.9006 - val_loss: 103.8440 - val_mae: 5.8653 - val_mse: 103.8440 - val_r2_keras: -2.7245e+08\n"
          ],
          "name": "stdout"
        }
      ]
    },
    {
      "cell_type": "markdown",
      "metadata": {
        "id": "UJ79EewxzzEX"
      },
      "source": [
        "* 3c. Training Data Metrics"
      ]
    },
    {
      "cell_type": "code",
      "metadata": {
        "colab": {
          "base_uri": "https://localhost:8080/"
        },
        "id": "t2RZhPRrz0Yn",
        "outputId": "0932d9f1-3524-47f8-aef9-9fc8de494531"
      },
      "source": [
        "# Metrics from fitting the model on our Training Data\n",
        "scores = model.evaluate(seq_array, label_array, verbose=1, batch_size=200)\n",
        "print('\\nMAE: {}'.format(scores[1]))\n",
        "print('\\nMSE: {}'.format(scores[2]))\n",
        "print('\\nR^2: {}'.format(scores[3]))\n"
      ],
      "execution_count": 52,
      "outputs": [
        {
          "output_type": "stream",
          "text": [
            "99/99 [==============================] - 1s 7ms/step - loss: 66.4785 - mae: 5.2333 - mse: 66.4785 - r2_keras: -129386352.0000\n",
            "\n",
            "MAE: 5.233305931091309\n",
            "\n",
            "MSE: 66.47845458984375\n",
            "\n",
            "R^2: -129386352.0\n"
          ],
          "name": "stdout"
        }
      ]
    },
    {
      "cell_type": "markdown",
      "metadata": {
        "id": "3USbp38Ez15w"
      },
      "source": [
        "* 3d. Preparation of Test Data to feed into our model for evaluation"
      ]
    },
    {
      "cell_type": "code",
      "metadata": {
        "id": "oGDqudEVz3VQ"
      },
      "source": [
        "# Preparing Test Data to be fed into our model for evaluation\n",
        "seq_array_test_last = [test3_df[test3_df['id']==id][sequence_cols].values[-sequence_length:] \n",
        "                       for id in test3_df['id'].unique() if len(test3_df[test3_df['id']==id]) >= sequence_length]\n",
        "\n",
        "seq_array_test_last = np.asarray(seq_array_test_last).astype(np.float32)"
      ],
      "execution_count": 53,
      "outputs": []
    },
    {
      "cell_type": "code",
      "metadata": {
        "id": "PwG2a-Q6z9uY"
      },
      "source": [
        "# Preparing Test Data to be fed into our model for evaluation\n",
        "y_mask = [len(test3_df[test3_df['id']==id]) >= sequence_length for id in test3_df['id'].unique()]\n",
        "label_array_test_last = test3_df.groupby('id')['RUL'].nth(-1)[y_mask].values\n",
        "label_array_test_last = label_array_test_last.reshape(label_array_test_last.shape[0],1).astype(np.float32)"
      ],
      "execution_count": 54,
      "outputs": []
    },
    {
      "cell_type": "markdown",
      "metadata": {
        "id": "-DWW5RC5z-Z3"
      },
      "source": [
        "* 3e. Testing Data Metrics"
      ]
    },
    {
      "cell_type": "code",
      "metadata": {
        "colab": {
          "base_uri": "https://localhost:8080/"
        },
        "id": "eQ2KcIInz_3P",
        "outputId": "be2f16a4-1a92-4b05-ada3-a57f5b013452"
      },
      "source": [
        "# Test Data Metrics after running our model\n",
        "scores_test = model.evaluate(seq_array_test_last, label_array_test_last, verbose = 1, batch_size = 200)\n",
        "print('\\nMAE: {}'.format(scores_test[1]))\n",
        "print('\\nMSE: {}'.format(scores_test[2]))\n",
        "print('\\nRMSE:')\n",
        "print(math.sqrt(scores_test[2]))\n",
        "print('\\nR2: {}'.format(scores_test[3]))"
      ],
      "execution_count": 55,
      "outputs": [
        {
          "output_type": "stream",
          "text": [
            "1/1 [==============================] - 0s 27ms/step - loss: 134.8845 - mae: 7.7826 - mse: 134.8845 - r2_keras: 0.9103\n",
            "\n",
            "MAE: 7.7826247215271\n",
            "\n",
            "MSE: 134.88446044921875\n",
            "\n",
            "RMSE:\n",
            "11.613976943718235\n",
            "\n",
            "R2: 0.9102503657341003\n"
          ],
          "name": "stdout"
        }
      ]
    },
    {
      "cell_type": "markdown",
      "metadata": {
        "id": "Wnq9dn-V0B2g"
      },
      "source": [
        "# Predicted Values"
      ]
    },
    {
      "cell_type": "code",
      "metadata": {
        "colab": {
          "base_uri": "https://localhost:8080/"
        },
        "id": "-qMzwj61z4im",
        "outputId": "c2b64394-b59a-4de3-9d5d-708cd01f45c6"
      },
      "source": [
        "# To obtain our model's prediction on the Test Data\n",
        "scores_test = model.predict(seq_array_test_last)\n",
        "scores_test"
      ],
      "execution_count": 56,
      "outputs": [
        {
          "output_type": "execute_result",
          "data": {
            "text/plain": [
              "array([[ 48.436153 ],\n",
              "       [ 57.07217  ],\n",
              "       [ 27.012762 ],\n",
              "       [120.51873  ],\n",
              "       [100.12328  ],\n",
              "       [116.63263  ],\n",
              "       [ 72.41417  ],\n",
              "       [ 73.4801   ],\n",
              "       [ 72.646    ],\n",
              "       [ 72.30218  ],\n",
              "       [ 99.22368  ],\n",
              "       [106.05203  ],\n",
              "       [113.527374 ],\n",
              "       [ 34.910446 ],\n",
              "       [112.31923  ],\n",
              "       [ 60.006824 ],\n",
              "       [122.11836  ],\n",
              "       [121.93682  ],\n",
              "       [119.441956 ],\n",
              "       [ 54.661667 ],\n",
              "       [ 20.888296 ],\n",
              "       [123.891594 ],\n",
              "       [ 79.32305  ],\n",
              "       [ 10.856264 ],\n",
              "       [ 63.68854  ],\n",
              "       [ 16.862486 ],\n",
              "       [118.051476 ],\n",
              "       [123.619995 ],\n",
              "       [114.86819  ],\n",
              "       [ 88.46875  ],\n",
              "       [ 93.534744 ],\n",
              "       [ 63.048042 ],\n",
              "       [ 86.18097  ],\n",
              "       [104.011024 ],\n",
              "       [ 96.56075  ],\n",
              "       [119.311264 ],\n",
              "       [ 26.888672 ],\n",
              "       [  7.751997 ],\n",
              "       [ 39.904865 ],\n",
              "       [124.483246 ],\n",
              "       [106.436226 ],\n",
              "       [111.33214  ],\n",
              "       [ 74.48852  ],\n",
              "       [123.796844 ],\n",
              "       [  9.559583 ],\n",
              "       [114.72381  ],\n",
              "       [ 60.19946  ],\n",
              "       [123.725464 ],\n",
              "       [ 17.947472 ],\n",
              "       [ 65.54487  ],\n",
              "       [ 91.73119  ],\n",
              "       [120.827705 ],\n",
              "       [ 52.68362  ],\n",
              "       [ 94.49616  ],\n",
              "       [ 63.30773  ],\n",
              "       [ 42.208866 ],\n",
              "       [ 45.76544  ],\n",
              "       [111.08613  ],\n",
              "       [124.02183  ],\n",
              "       [ 56.843296 ],\n",
              "       [115.56198  ],\n",
              "       [ 28.03605  ],\n",
              "       [124.91753  ],\n",
              "       [105.65381  ],\n",
              "       [ 96.54912  ],\n",
              "       [119.43442  ],\n",
              "       [122.196556 ],\n",
              "       [ 61.908737 ],\n",
              "       [ 39.805195 ],\n",
              "       [ 46.84384  ],\n",
              "       [117.44052  ],\n",
              "       [124.47746  ],\n",
              "       [ 44.66028  ],\n",
              "       [ 30.032984 ],\n",
              "       [ 86.69657  ],\n",
              "       [ 22.182138 ],\n",
              "       [ 22.193333 ],\n",
              "       [118.79184  ],\n",
              "       [ 17.63599  ],\n",
              "       [  5.5920477],\n",
              "       [112.312874 ],\n",
              "       [ 82.186195 ],\n",
              "       [ 66.67129  ],\n",
              "       [ 23.17429  ],\n",
              "       [ 79.96476  ],\n",
              "       [ 47.11932  ],\n",
              "       [ 52.52068  ],\n",
              "       [114.00318  ],\n",
              "       [ 14.456617 ],\n",
              "       [ 60.34792  ],\n",
              "       [  5.9312415],\n",
              "       [108.6544   ],\n",
              "       [108.01273  ],\n",
              "       [124.55085  ],\n",
              "       [ 19.957117 ],\n",
              "       [  8.965963 ],\n",
              "       [ 27.416342 ]], dtype=float32)"
            ]
          },
          "metadata": {
            "tags": []
          },
          "execution_count": 56
        }
      ]
    },
    {
      "cell_type": "markdown",
      "metadata": {
        "id": "76ma_DXi0F4V"
      },
      "source": [
        "## SHAP Interpretation"
      ]
    },
    {
      "cell_type": "code",
      "metadata": {
        "id": "mAAh8Zhl0E5g"
      },
      "source": [
        ""
      ],
      "execution_count": null,
      "outputs": []
    },
    {
      "cell_type": "markdown",
      "metadata": {
        "id": "yCXv14fU0IIo"
      },
      "source": [
        "## Start Modelling for FD004 (Dataset 4)"
      ]
    },
    {
      "cell_type": "code",
      "metadata": {
        "id": "9_H6uvb00LGO"
      },
      "source": [
        "seq_gen = (list(gen_sequence(train4_df[train4_df['id']==id], sequence_length, sequence_cols)) \n",
        "           for id in train4_df['id'].unique())\n",
        "\n",
        "# Generate a sequence with the gen_sequence function to get the 3-Dimensional Form \n",
        "# Convert to numpy array\n",
        "seq_array = np.concatenate(list(seq_gen)).astype(np.float32)"
      ],
      "execution_count": 57,
      "outputs": []
    },
    {
      "cell_type": "code",
      "metadata": {
        "colab": {
          "base_uri": "https://localhost:8080/"
        },
        "id": "cbRfDdR80Rau",
        "outputId": "95fe8934-be93-49d3-e1bf-71de4b883721"
      },
      "source": [
        "# Function to generate the RUL labels \n",
        "def gen_labels(id_df, seq_length, label):\n",
        "    data_matrix = id_df[label].values\n",
        "    num_elements = data_matrix.shape[0]\n",
        "    return data_matrix[seq_length:num_elements, :]\n",
        "\n",
        "# Generate the labels using the gen_labels function\n",
        "label_gen = [gen_labels(train4_df[train4_df['id']==id], sequence_length, ['RUL']) \n",
        "             for id in train4_df['id'].unique()]\n",
        "# Convert to numpy array\n",
        "label_array = np.concatenate(label_gen).astype(np.float32)\n",
        "label_array.shape"
      ],
      "execution_count": 58,
      "outputs": [
        {
          "output_type": "execute_result",
          "data": {
            "text/plain": [
              "(48799, 1)"
            ]
          },
          "metadata": {
            "tags": []
          },
          "execution_count": 58
        }
      ]
    },
    {
      "cell_type": "markdown",
      "metadata": {
        "id": "0cxyzN290VYA"
      },
      "source": [
        "## 3. Model Building"
      ]
    },
    {
      "cell_type": "markdown",
      "metadata": {
        "id": "RIjF58vk0Xdc"
      },
      "source": [
        "* 3a. Defining R2 to be used as an evaluation metric\n",
        "> R2 is a statistical measures which gives an indication of closeness of fit."
      ]
    },
    {
      "cell_type": "code",
      "metadata": {
        "id": "II40KUll0ZDn"
      },
      "source": [
        "# Defining R2 to be used as an evaluation metric in the Deep Learning Model Evaluation Metrics\n",
        "def r2_keras(y_true, y_pred):\n",
        "    SS_res =  K.sum(K.square( y_true - y_pred ))\n",
        "    SS_tot = K.sum(K.square( y_true - K.mean(y_true) ) )\n",
        "    return ( 1 - SS_res/(SS_tot + K.epsilon()) )"
      ],
      "execution_count": 59,
      "outputs": []
    },
    {
      "cell_type": "markdown",
      "metadata": {
        "id": "Fz2jmlrW0bV7"
      },
      "source": [
        "## Deep Learning Architecture and Topology"
      ]
    },
    {
      "cell_type": "markdown",
      "metadata": {
        "id": "eW6eA7SB0c0N"
      },
      "source": [
        "* 3b. Deep Learning Architecture consists of:\n",
        "<br> > Sequential Model\n",
        "<br> > Bi-LSTM Layer\n",
        "<br> > LSTM Layer\n",
        "<br> > Dropout Layers"
      ]
    },
    {
      "cell_type": "code",
      "metadata": {
        "colab": {
          "base_uri": "https://localhost:8080/"
        },
        "id": "d_FlKxXL0exT",
        "outputId": "b39e6093-3cae-4b66-c527-6450611c2728"
      },
      "source": [
        "# Building the Deep Learning Architecture\n",
        "\n",
        "# Defining the features to be fed into the input of the layers in the Deep Learning Model\n",
        "nb_features = seq_array.shape[2]\n",
        "nb_out = label_array.shape[1]\n",
        "\n",
        "# Sequential Model\n",
        "model = Sequential()\n",
        "# Add a Bi-LSTM Layer\n",
        "model.add(Bidirectional(LSTM(20, return_sequences=True), input_shape=(sequence_length, nb_features)))\n",
        "# Add a Dropout Layer after the Bi-LSTM Layer to minimize overfitting  \n",
        "model.add(Dropout(0.2))\n",
        "# Add a LSTM Layer\n",
        "model.add(LSTM(units=50,return_sequences=False, activation = 'tanh'))\n",
        "# Add a Dropout Layer after the LSTM Layer to minimize overfitting  \n",
        "model.add(Dropout(0.2))\n",
        "# Dense Layer\n",
        "model.add(Dense(units=nb_out))\n",
        "# Activation Function \n",
        "model.add(Activation(\"linear\"))\n",
        "# Compile model, set metrics for evaluation\n",
        "model.compile(loss='mean_squared_error', optimizer='rmsprop',metrics=['mae','mse',r2_keras])\n",
        "# For model observation\n",
        "print(model.summary())\n",
        "\n",
        "# Fit the Deep Learning network on our training data, early stopping is also applied\n",
        "history = model.fit(seq_array, label_array, epochs=100, batch_size=10, validation_split=0.05, verbose=2,\n",
        "          callbacks = [keras.callbacks.EarlyStopping(monitor='val_loss', min_delta=0, patience=10, verbose=0, mode='min'),\n",
        "                       keras.callbacks.ModelCheckpoint(model_path,monitor='val_loss', save_best_only=True, mode='min', verbose=0)])\n"
      ],
      "execution_count": 60,
      "outputs": [
        {
          "output_type": "stream",
          "text": [
            "Model: \"sequential_4\"\n",
            "_________________________________________________________________\n",
            "Layer (type)                 Output Shape              Param #   \n",
            "=================================================================\n",
            "bidirectional_4 (Bidirection (None, 50, 40)            7360      \n",
            "_________________________________________________________________\n",
            "dropout_8 (Dropout)          (None, 50, 40)            0         \n",
            "_________________________________________________________________\n",
            "lstm_9 (LSTM)                (None, 50)                18200     \n",
            "_________________________________________________________________\n",
            "dropout_9 (Dropout)          (None, 50)                0         \n",
            "_________________________________________________________________\n",
            "dense_4 (Dense)              (None, 1)                 51        \n",
            "_________________________________________________________________\n",
            "activation_4 (Activation)    (None, 1)                 0         \n",
            "=================================================================\n",
            "Total params: 25,611\n",
            "Trainable params: 25,611\n",
            "Non-trainable params: 0\n",
            "_________________________________________________________________\n",
            "None\n",
            "Epoch 1/100\n",
            "4636/4636 - 57s - loss: 2474.4209 - mae: 42.7321 - mse: 2474.4209 - r2_keras: -8.4003e-01 - val_loss: 1789.7324 - val_mae: 37.4009 - val_mse: 1789.7324 - val_r2_keras: -4.9664e+10\n",
            "Epoch 2/100\n",
            "4636/4636 - 50s - loss: 1789.9170 - mae: 37.4816 - mse: 1789.9170 - r2_keras: -2.5741e-01 - val_loss: 1791.8364 - val_mae: 37.3671 - val_mse: 1791.8364 - val_r2_keras: -4.8598e+10\n",
            "Epoch 3/100\n",
            "4636/4636 - 50s - loss: 1526.2716 - mae: 33.7260 - mse: 1526.2716 - r2_keras: -6.0638e-02 - val_loss: 875.3720 - val_mae: 24.4410 - val_mse: 875.3720 - val_r2_keras: -3.4399e+10\n",
            "Epoch 4/100\n",
            "4636/4636 - 50s - loss: 847.3320 - mae: 22.9811 - mse: 847.3320 - r2_keras: 0.3632 - val_loss: 889.5225 - val_mae: 22.3347 - val_mse: 889.5225 - val_r2_keras: -4.5698e+09\n",
            "Epoch 5/100\n",
            "4636/4636 - 50s - loss: 696.3948 - mae: 20.3814 - mse: 696.3948 - r2_keras: 0.4716 - val_loss: 617.1528 - val_mae: 18.3965 - val_mse: 617.1527 - val_r2_keras: -6.0220e+09\n",
            "Epoch 6/100\n",
            "4636/4636 - 50s - loss: 582.2714 - mae: 18.3295 - mse: 582.2713 - r2_keras: 0.5551 - val_loss: 372.1056 - val_mae: 15.1550 - val_mse: 372.1056 - val_r2_keras: -1.2420e+10\n",
            "Epoch 7/100\n",
            "4636/4636 - 50s - loss: 492.7848 - mae: 16.6214 - mse: 492.7848 - r2_keras: 0.5691 - val_loss: 338.9688 - val_mae: 14.7035 - val_mse: 338.9688 - val_r2_keras: -5.6225e+09\n",
            "Epoch 8/100\n",
            "4636/4636 - 50s - loss: 441.8729 - mae: 15.6311 - mse: 441.8729 - r2_keras: 0.6019 - val_loss: 948.2740 - val_mae: 21.0592 - val_mse: 948.2740 - val_r2_keras: -2.1867e+08\n",
            "Epoch 9/100\n",
            "4636/4636 - 49s - loss: 415.2108 - mae: 15.0694 - mse: 415.2108 - r2_keras: 0.6842 - val_loss: 274.9591 - val_mae: 11.6415 - val_mse: 274.9591 - val_r2_keras: -2.9824e+09\n",
            "Epoch 10/100\n",
            "4636/4636 - 50s - loss: 397.7710 - mae: 14.7412 - mse: 397.7709 - r2_keras: 0.6863 - val_loss: 266.2379 - val_mae: 12.2393 - val_mse: 266.2379 - val_r2_keras: -3.6225e+09\n",
            "Epoch 11/100\n",
            "4636/4636 - 50s - loss: 383.7010 - mae: 14.3985 - mse: 383.7010 - r2_keras: 0.6810 - val_loss: 238.5323 - val_mae: 11.7627 - val_mse: 238.5323 - val_r2_keras: -4.7219e+09\n",
            "Epoch 12/100\n",
            "4636/4636 - 49s - loss: 377.4467 - mae: 14.2888 - mse: 377.4467 - r2_keras: 0.7076 - val_loss: 246.4262 - val_mae: 11.1919 - val_mse: 246.4262 - val_r2_keras: -5.4760e+09\n",
            "Epoch 13/100\n",
            "4636/4636 - 49s - loss: 359.2751 - mae: 13.8883 - mse: 359.2751 - r2_keras: 0.7030 - val_loss: 267.2422 - val_mae: 11.9109 - val_mse: 267.2422 - val_r2_keras: -2.3370e+09\n",
            "Epoch 14/100\n",
            "4636/4636 - 49s - loss: 351.6518 - mae: 13.7171 - mse: 351.6518 - r2_keras: -2.7768e+06 - val_loss: 387.3965 - val_mae: 13.4202 - val_mse: 387.3965 - val_r2_keras: -3.4422e+09\n",
            "Epoch 15/100\n",
            "4636/4636 - 49s - loss: 346.5682 - mae: 13.5950 - mse: 346.5682 - r2_keras: 0.7206 - val_loss: 316.4192 - val_mae: 12.2524 - val_mse: 316.4192 - val_r2_keras: -1.4495e+09\n",
            "Epoch 16/100\n",
            "4636/4636 - 49s - loss: 362.3442 - mae: 13.8325 - mse: 362.3442 - r2_keras: 0.7132 - val_loss: 219.7988 - val_mae: 10.8277 - val_mse: 219.7988 - val_r2_keras: -3.0531e+09\n",
            "Epoch 17/100\n",
            "4636/4636 - 49s - loss: 331.7207 - mae: 13.2582 - mse: 331.7207 - r2_keras: 0.7328 - val_loss: 267.9781 - val_mae: 10.9994 - val_mse: 267.9781 - val_r2_keras: -2.6673e+09\n",
            "Epoch 18/100\n",
            "4636/4636 - 50s - loss: 326.0509 - mae: 13.1186 - mse: 326.0509 - r2_keras: -2.6561e+06 - val_loss: 249.1672 - val_mae: 11.4110 - val_mse: 249.1672 - val_r2_keras: -5.7230e+09\n",
            "Epoch 19/100\n",
            "4636/4636 - 50s - loss: 323.9489 - mae: 13.0606 - mse: 323.9489 - r2_keras: 0.7283 - val_loss: 243.2198 - val_mae: 11.4281 - val_mse: 243.2198 - val_r2_keras: -3.6080e+09\n",
            "Epoch 20/100\n",
            "4636/4636 - 49s - loss: 315.0062 - mae: 12.8884 - mse: 315.0062 - r2_keras: -3.0124e+06 - val_loss: 255.4248 - val_mae: 11.3212 - val_mse: 255.4248 - val_r2_keras: -1.5586e+09\n",
            "Epoch 21/100\n",
            "4636/4636 - 50s - loss: 313.3125 - mae: 12.8085 - mse: 313.3125 - r2_keras: 0.5668 - val_loss: 265.2354 - val_mae: 11.0585 - val_mse: 265.2354 - val_r2_keras: -1.8155e+09\n",
            "Epoch 22/100\n",
            "4636/4636 - 50s - loss: 310.5699 - mae: 12.7510 - mse: 310.5699 - r2_keras: 0.7521 - val_loss: 230.7189 - val_mae: 10.2190 - val_mse: 230.7189 - val_r2_keras: -3.0691e+09\n",
            "Epoch 23/100\n",
            "4636/4636 - 50s - loss: 309.3506 - mae: 12.7136 - mse: 309.3506 - r2_keras: 0.7565 - val_loss: 202.1250 - val_mae: 10.4150 - val_mse: 202.1250 - val_r2_keras: -4.6703e+09\n",
            "Epoch 24/100\n",
            "4636/4636 - 50s - loss: 303.4106 - mae: 12.6152 - mse: 303.4106 - r2_keras: 0.7520 - val_loss: 436.3183 - val_mae: 14.6683 - val_mse: 436.3183 - val_r2_keras: -1.6363e+09\n",
            "Epoch 25/100\n",
            "4636/4636 - 50s - loss: 301.8223 - mae: 12.6121 - mse: 301.8223 - r2_keras: 0.7570 - val_loss: 346.4212 - val_mae: 12.1781 - val_mse: 346.4212 - val_r2_keras: -7.4160e+08\n",
            "Epoch 26/100\n",
            "4636/4636 - 50s - loss: 295.8383 - mae: 12.4524 - mse: 295.8383 - r2_keras: 0.7585 - val_loss: 232.5716 - val_mae: 10.8173 - val_mse: 232.5716 - val_r2_keras: -4.1260e+09\n",
            "Epoch 27/100\n",
            "4636/4636 - 50s - loss: 296.0551 - mae: 12.4366 - mse: 296.0551 - r2_keras: -7.4133e+06 - val_loss: 285.5304 - val_mae: 11.9573 - val_mse: 285.5304 - val_r2_keras: -2.1440e+09\n",
            "Epoch 28/100\n",
            "4636/4636 - 50s - loss: 289.9882 - mae: 12.2702 - mse: 289.9882 - r2_keras: 0.7701 - val_loss: 233.8732 - val_mae: 11.3603 - val_mse: 233.8732 - val_r2_keras: -2.4304e+09\n",
            "Epoch 29/100\n",
            "4636/4636 - 49s - loss: 286.9642 - mae: 12.1856 - mse: 286.9642 - r2_keras: 0.7658 - val_loss: 211.6160 - val_mae: 9.9017 - val_mse: 211.6160 - val_r2_keras: -7.7008e+08\n",
            "Epoch 30/100\n",
            "4636/4636 - 49s - loss: 283.8290 - mae: 12.1161 - mse: 283.8290 - r2_keras: 0.7632 - val_loss: 265.1221 - val_mae: 11.5991 - val_mse: 265.1221 - val_r2_keras: -2.0202e+09\n",
            "Epoch 31/100\n",
            "4636/4636 - 49s - loss: 280.4959 - mae: 12.0307 - mse: 280.4959 - r2_keras: 0.7456 - val_loss: 209.8398 - val_mae: 10.4077 - val_mse: 209.8398 - val_r2_keras: -4.0717e+09\n",
            "Epoch 32/100\n",
            "4636/4636 - 49s - loss: 278.3826 - mae: 11.9887 - mse: 278.3826 - r2_keras: 0.7644 - val_loss: 304.4442 - val_mae: 12.0367 - val_mse: 304.4441 - val_r2_keras: -8.7872e+08\n",
            "Epoch 33/100\n",
            "4636/4636 - 50s - loss: 273.3576 - mae: 11.8920 - mse: 273.3576 - r2_keras: -2.3645e+06 - val_loss: 178.8199 - val_mae: 9.2251 - val_mse: 178.8199 - val_r2_keras: -2.1803e+09\n",
            "Epoch 34/100\n",
            "4636/4636 - 50s - loss: 272.4855 - mae: 11.8630 - mse: 272.4855 - r2_keras: 0.7830 - val_loss: 184.5520 - val_mae: 9.5351 - val_mse: 184.5520 - val_r2_keras: -1.7125e+09\n",
            "Epoch 35/100\n",
            "4636/4636 - 50s - loss: 271.2264 - mae: 11.7956 - mse: 271.2264 - r2_keras: -4.7212e+06 - val_loss: 241.5965 - val_mae: 11.3204 - val_mse: 241.5965 - val_r2_keras: -2.3966e+09\n",
            "Epoch 36/100\n",
            "4636/4636 - 50s - loss: 264.9434 - mae: 11.6841 - mse: 264.9434 - r2_keras: 0.7890 - val_loss: 206.4178 - val_mae: 10.0413 - val_mse: 206.4178 - val_r2_keras: -3.6869e+09\n",
            "Epoch 37/100\n",
            "4636/4636 - 50s - loss: 268.3442 - mae: 11.7442 - mse: 268.3442 - r2_keras: 0.7856 - val_loss: 198.4594 - val_mae: 9.6972 - val_mse: 198.4594 - val_r2_keras: -2.2669e+09\n",
            "Epoch 38/100\n",
            "4636/4636 - 50s - loss: 260.7144 - mae: 11.5739 - mse: 260.7144 - r2_keras: 0.7952 - val_loss: 307.4129 - val_mae: 11.8510 - val_mse: 307.4129 - val_r2_keras: -1.0404e+09\n",
            "Epoch 39/100\n",
            "4636/4636 - 50s - loss: 260.8602 - mae: 11.5694 - mse: 260.8602 - r2_keras: 0.7900 - val_loss: 266.9474 - val_mae: 11.3974 - val_mse: 266.9474 - val_r2_keras: -1.4223e+09\n",
            "Epoch 40/100\n",
            "4636/4636 - 50s - loss: 255.5845 - mae: 11.4362 - mse: 255.5845 - r2_keras: 0.8018 - val_loss: 200.4003 - val_mae: 10.1764 - val_mse: 200.4003 - val_r2_keras: -1.9577e+09\n",
            "Epoch 41/100\n",
            "4636/4636 - 50s - loss: 253.1959 - mae: 11.3848 - mse: 253.1959 - r2_keras: 0.7946 - val_loss: 229.3659 - val_mae: 11.3776 - val_mse: 229.3659 - val_r2_keras: -2.5682e+09\n",
            "Epoch 42/100\n",
            "4636/4636 - 50s - loss: 248.9919 - mae: 11.3027 - mse: 248.9919 - r2_keras: 0.7949 - val_loss: 245.4838 - val_mae: 11.2346 - val_mse: 245.4837 - val_r2_keras: -3.0941e+09\n",
            "Epoch 43/100\n",
            "4636/4636 - 50s - loss: 248.9458 - mae: 11.3029 - mse: 248.9458 - r2_keras: 0.7429 - val_loss: 214.8962 - val_mae: 10.3397 - val_mse: 214.8962 - val_r2_keras: -1.3210e+09\n"
          ],
          "name": "stdout"
        }
      ]
    },
    {
      "cell_type": "markdown",
      "metadata": {
        "id": "_rJ47EL10hh3"
      },
      "source": [
        "* 3c. Training Data Metrics"
      ]
    },
    {
      "cell_type": "code",
      "metadata": {
        "colab": {
          "base_uri": "https://localhost:8080/"
        },
        "id": "iw-KKFQC0gwk",
        "outputId": "cd974dd4-ee7f-471a-ac78-509f6fa976ff"
      },
      "source": [
        "# Metrics from fitting the model on our Training Data\n",
        "scores = model.evaluate(seq_array, label_array, verbose=1, batch_size=200)\n",
        "print('\\nMAE: {}'.format(scores[1]))\n",
        "print('\\nMSE: {}'.format(scores[2]))\n",
        "print('\\nR^2: {}'.format(scores[3]))\n"
      ],
      "execution_count": 61,
      "outputs": [
        {
          "output_type": "stream",
          "text": [
            "244/244 [==============================] - 3s 8ms/step - loss: 177.6508 - mae: 9.1428 - mse: 177.6508 - r2_keras: -949122240.0000\n",
            "\n",
            "MAE: 9.142804145812988\n",
            "\n",
            "MSE: 177.65078735351562\n",
            "\n",
            "R^2: -949122240.0\n"
          ],
          "name": "stdout"
        }
      ]
    },
    {
      "cell_type": "markdown",
      "metadata": {
        "id": "za8oUAX20k39"
      },
      "source": [
        "* 3d. Preparation of Test Data to feed into our model for evaluation"
      ]
    },
    {
      "cell_type": "code",
      "metadata": {
        "id": "jxOU6VxV0mra"
      },
      "source": [
        "# Preparing Test Data to be fed into our model for evaluation\n",
        "seq_array_test_last = [test4_df[test4_df['id']==id][sequence_cols].values[-sequence_length:] \n",
        "                       for id in test4_df['id'].unique() if len(test4_df[test4_df['id']==id]) >= sequence_length]\n",
        "\n",
        "seq_array_test_last = np.asarray(seq_array_test_last).astype(np.float32)"
      ],
      "execution_count": 62,
      "outputs": []
    },
    {
      "cell_type": "code",
      "metadata": {
        "id": "uo04khkQ0uU6"
      },
      "source": [
        "# Preparing Test Data to be fed into our model for evaluation\n",
        "y_mask = [len(test4_df[test4_df['id']==id]) >= sequence_length for id in test4_df['id'].unique()]\n",
        "label_array_test_last = test4_df.groupby('id')['RUL'].nth(-1)[y_mask].values\n",
        "label_array_test_last = label_array_test_last.reshape(label_array_test_last.shape[0],1).astype(np.float32)"
      ],
      "execution_count": 63,
      "outputs": []
    },
    {
      "cell_type": "markdown",
      "metadata": {
        "id": "6cahOfAN0k6R"
      },
      "source": [
        "* 3e. Testing Data Metrics"
      ]
    },
    {
      "cell_type": "code",
      "metadata": {
        "colab": {
          "base_uri": "https://localhost:8080/"
        },
        "id": "iUfpicWf01xK",
        "outputId": "b7ae43e2-4b58-4239-d32c-d63c06ff4bea"
      },
      "source": [
        "# Test Data Metrics after running our model\n",
        "scores_test = model.evaluate(seq_array_test_last, label_array_test_last, verbose = 1, batch_size = 200)\n",
        "print('\\nMAE: {}'.format(scores_test[1]))\n",
        "print('\\nMSE: {}'.format(scores_test[2]))\n",
        "print('\\nRMSE:')\n",
        "print(math.sqrt(scores_test[2]))\n",
        "print('\\nR2: {}'.format(scores_test[3]))"
      ],
      "execution_count": 64,
      "outputs": [
        {
          "output_type": "stream",
          "text": [
            "2/2 [==============================] - 0s 11ms/step - loss: 250.1741 - mae: 11.0894 - mse: 250.1741 - r2_keras: 0.8500\n",
            "\n",
            "MAE: 11.089444160461426\n",
            "\n",
            "MSE: 250.1741180419922\n",
            "\n",
            "RMSE:\n",
            "15.816893438409206\n",
            "\n",
            "R2: 0.8499964475631714\n"
          ],
          "name": "stdout"
        }
      ]
    },
    {
      "cell_type": "markdown",
      "metadata": {
        "id": "XUdc_jLU03kJ"
      },
      "source": [
        "# Predicted Values"
      ]
    },
    {
      "cell_type": "code",
      "metadata": {
        "colab": {
          "base_uri": "https://localhost:8080/"
        },
        "id": "mHrVok6V0404",
        "outputId": "29478e29-2c0b-4e28-8379-8819e76b51f0"
      },
      "source": [
        "# To obtain our model's prediction on the Test Data\n",
        "scores_test = model.predict(seq_array_test_last)\n",
        "scores_test"
      ],
      "execution_count": 65,
      "outputs": [
        {
          "output_type": "execute_result",
          "data": {
            "text/plain": [
              "array([[ 29.080185 ],\n",
              "       [ 52.346947 ],\n",
              "       [112.67549  ],\n",
              "       [ 71.822365 ],\n",
              "       [115.254616 ],\n",
              "       [115.09222  ],\n",
              "       [118.607574 ],\n",
              "       [ 15.954175 ],\n",
              "       [113.55596  ],\n",
              "       [121.93168  ],\n",
              "       [ 12.3877735],\n",
              "       [ 78.630646 ],\n",
              "       [ 87.45328  ],\n",
              "       [ 20.36472  ],\n",
              "       [116.643974 ],\n",
              "       [112.00534  ],\n",
              "       [ 88.45602  ],\n",
              "       [ 77.534164 ],\n",
              "       [ 98.08247  ],\n",
              "       [ 12.6991005],\n",
              "       [ 26.00375  ],\n",
              "       [107.78147  ],\n",
              "       [ 48.339046 ],\n",
              "       [ 93.71492  ],\n",
              "       [ 50.749146 ],\n",
              "       [ 84.864525 ],\n",
              "       [115.01509  ],\n",
              "       [  8.279421 ],\n",
              "       [ 28.43695  ],\n",
              "       [121.74033  ],\n",
              "       [108.06415  ],\n",
              "       [ 33.911465 ],\n",
              "       [ 62.681705 ],\n",
              "       [ 73.41527  ],\n",
              "       [  7.5769997],\n",
              "       [ 89.20286  ],\n",
              "       [ 13.759588 ],\n",
              "       [108.55032  ],\n",
              "       [ 31.700512 ],\n",
              "       [ 72.12372  ],\n",
              "       [ 53.56328  ],\n",
              "       [117.02004  ],\n",
              "       [ 36.421642 ],\n",
              "       [ 49.91694  ],\n",
              "       [ 27.847187 ],\n",
              "       [ 81.76015  ],\n",
              "       [120.70359  ],\n",
              "       [123.75507  ],\n",
              "       [121.3734   ],\n",
              "       [ 92.350266 ],\n",
              "       [121.87015  ],\n",
              "       [ 61.328926 ],\n",
              "       [118.3792   ],\n",
              "       [ 10.307662 ],\n",
              "       [116.908424 ],\n",
              "       [ 68.64877  ],\n",
              "       [ 35.639717 ],\n",
              "       [116.636475 ],\n",
              "       [ 60.480408 ],\n",
              "       [ 12.979585 ],\n",
              "       [113.175    ],\n",
              "       [ 57.20847  ],\n",
              "       [ 40.738457 ],\n",
              "       [ 11.173433 ],\n",
              "       [ 39.55297  ],\n",
              "       [ 19.646849 ],\n",
              "       [121.25549  ],\n",
              "       [ 25.241592 ],\n",
              "       [111.645515 ],\n",
              "       [118.23544  ],\n",
              "       [ 41.10206  ],\n",
              "       [ 74.03067  ],\n",
              "       [ 91.78863  ],\n",
              "       [ 80.34426  ],\n",
              "       [122.421326 ],\n",
              "       [ 17.376858 ],\n",
              "       [118.89952  ],\n",
              "       [122.70982  ],\n",
              "       [111.879074 ],\n",
              "       [ 73.67142  ],\n",
              "       [120.41746  ],\n",
              "       [ 54.011536 ],\n",
              "       [ 99.98843  ],\n",
              "       [ 85.60567  ],\n",
              "       [ 67.2881   ],\n",
              "       [ 87.97251  ],\n",
              "       [121.11436  ],\n",
              "       [117.317085 ],\n",
              "       [108.47464  ],\n",
              "       [ 91.65053  ],\n",
              "       [120.047646 ],\n",
              "       [119.84521  ],\n",
              "       [ 45.949543 ],\n",
              "       [  9.900361 ],\n",
              "       [  7.2594414],\n",
              "       [ 12.926172 ],\n",
              "       [  7.7256784],\n",
              "       [123.842735 ],\n",
              "       [ 94.393845 ],\n",
              "       [ 74.012985 ],\n",
              "       [ 49.76224  ],\n",
              "       [116.12627  ],\n",
              "       [123.59256  ],\n",
              "       [ 75.97981  ],\n",
              "       [ 25.003036 ],\n",
              "       [ 91.51392  ],\n",
              "       [ 21.68458  ],\n",
              "       [ 23.608624 ],\n",
              "       [117.08223  ],\n",
              "       [  4.918234 ],\n",
              "       [113.82488  ],\n",
              "       [ 10.598358 ],\n",
              "       [101.418564 ],\n",
              "       [ 99.93801  ],\n",
              "       [ 23.416931 ],\n",
              "       [123.58949  ],\n",
              "       [ 33.503685 ],\n",
              "       [ 68.19803  ],\n",
              "       [ 20.687462 ],\n",
              "       [120.478775 ],\n",
              "       [119.207756 ],\n",
              "       [118.56124  ],\n",
              "       [ 96.22728  ],\n",
              "       [ 74.64252  ],\n",
              "       [116.51258  ],\n",
              "       [123.159744 ],\n",
              "       [ 38.138252 ],\n",
              "       [ 18.528173 ],\n",
              "       [119.732    ],\n",
              "       [ 91.76995  ],\n",
              "       [ 92.94802  ],\n",
              "       [122.18155  ],\n",
              "       [109.99604  ],\n",
              "       [122.15434  ],\n",
              "       [ 74.28208  ],\n",
              "       [ 69.376465 ],\n",
              "       [123.61642  ],\n",
              "       [ 91.15131  ],\n",
              "       [ 99.69935  ],\n",
              "       [ 74.987724 ],\n",
              "       [ 41.15385  ],\n",
              "       [ 29.839756 ],\n",
              "       [ 99.81271  ],\n",
              "       [114.925224 ],\n",
              "       [ 35.804184 ],\n",
              "       [  9.871617 ],\n",
              "       [119.01133  ],\n",
              "       [  7.3958244],\n",
              "       [ 19.232792 ],\n",
              "       [112.74062  ],\n",
              "       [ 99.82991  ],\n",
              "       [ 80.46476  ],\n",
              "       [112.0328   ],\n",
              "       [102.04863  ],\n",
              "       [120.73446  ],\n",
              "       [120.40343  ],\n",
              "       [ 92.578636 ],\n",
              "       [ 80.40914  ],\n",
              "       [ 21.000874 ],\n",
              "       [  9.040208 ],\n",
              "       [ 16.396471 ],\n",
              "       [ 70.95343  ],\n",
              "       [103.98136  ],\n",
              "       [ 22.555521 ],\n",
              "       [113.95137  ],\n",
              "       [ 20.221817 ],\n",
              "       [ 34.41019  ],\n",
              "       [ 21.598085 ],\n",
              "       [118.97241  ],\n",
              "       [  5.726221 ],\n",
              "       [ 13.954552 ],\n",
              "       [ 38.700935 ],\n",
              "       [ 26.747135 ],\n",
              "       [108.21492  ],\n",
              "       [100.53888  ],\n",
              "       [ 46.351555 ],\n",
              "       [121.51287  ],\n",
              "       [105.97695  ],\n",
              "       [103.1981   ],\n",
              "       [ 22.464165 ],\n",
              "       [109.492325 ],\n",
              "       [119.80309  ],\n",
              "       [ 33.116867 ],\n",
              "       [ 16.410004 ],\n",
              "       [ 75.98285  ],\n",
              "       [ 69.63213  ],\n",
              "       [112.69528  ],\n",
              "       [  9.937426 ],\n",
              "       [123.66627  ],\n",
              "       [108.41406  ],\n",
              "       [110.42474  ],\n",
              "       [118.211105 ],\n",
              "       [ 80.62734  ],\n",
              "       [ 22.053524 ],\n",
              "       [108.59774  ],\n",
              "       [122.355034 ],\n",
              "       [ 84.86751  ],\n",
              "       [ 18.567722 ],\n",
              "       [ 80.96532  ],\n",
              "       [120.907776 ],\n",
              "       [ 17.076662 ],\n",
              "       [ 70.290016 ],\n",
              "       [121.69134  ],\n",
              "       [ 46.91178  ],\n",
              "       [121.21143  ],\n",
              "       [ 96.40669  ],\n",
              "       [ 41.35091  ],\n",
              "       [ 53.95986  ],\n",
              "       [ 19.133587 ],\n",
              "       [120.71851  ],\n",
              "       [123.7633   ],\n",
              "       [122.042    ],\n",
              "       [ 92.36285  ],\n",
              "       [ 33.04718  ],\n",
              "       [121.33719  ],\n",
              "       [115.40441  ],\n",
              "       [ 84.02384  ],\n",
              "       [ 21.436628 ],\n",
              "       [ 78.1116   ],\n",
              "       [ 15.598264 ],\n",
              "       [ 15.765355 ],\n",
              "       [ 35.61051  ],\n",
              "       [107.28805  ],\n",
              "       [ 90.04995  ],\n",
              "       [ 37.07209  ],\n",
              "       [123.029655 ],\n",
              "       [108.09399  ],\n",
              "       [ 23.606398 ]], dtype=float32)"
            ]
          },
          "metadata": {
            "tags": []
          },
          "execution_count": 65
        }
      ]
    },
    {
      "cell_type": "markdown",
      "metadata": {
        "id": "BIRRQUs207Hx"
      },
      "source": [
        "## SHAP Interpretation"
      ]
    },
    {
      "cell_type": "code",
      "metadata": {
        "id": "iszUJNYb0_aU"
      },
      "source": [
        ""
      ],
      "execution_count": null,
      "outputs": []
    }
  ]
}