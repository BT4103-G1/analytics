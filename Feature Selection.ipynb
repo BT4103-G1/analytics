{
 "cells": [
  {
   "cell_type": "code",
   "execution_count": 68,
   "metadata": {},
   "outputs": [],
   "source": [
    "import pandas as pd\n",
    "import numpy as np\n",
    "from sklearn.ensemble import RandomForestRegressor\n",
    "from sklearn.feature_selection import RFE\n",
    "from sklearn.feature_selection import SelectKBest\n",
    "from sklearn.feature_selection import chi2\n",
    "from sklearn.linear_model import Lasso, LogisticRegression\n",
    "from sklearn.feature_selection import SelectFromModel\n",
    "from sklearn.preprocessing import StandardScaler"
   ]
  },
  {
   "cell_type": "code",
   "execution_count": 29,
   "metadata": {},
   "outputs": [],
   "source": [
    "from sklearn.linear_model import LogisticRegression\n",
    "from sklearn_pandas import DataFrameMapper"
   ]
  },
  {
   "cell_type": "code",
   "execution_count": 30,
   "metadata": {},
   "outputs": [],
   "source": [
    "# Data\n",
    "df_train = pd.read_csv(\"CMaps/train_FD001.txt\", sep=\" \", header=None)\n",
    "df_test = pd.read_csv(\"CMaps/test_FD001.txt\", sep=\" \", header=None)\n",
    "df_rul = pd.read_csv(\"CMaps/RUL_FD001.txt\", sep=\" \", header=None)"
   ]
  },
  {
   "cell_type": "code",
   "execution_count": 31,
   "metadata": {},
   "outputs": [
    {
     "name": "stdout",
     "output_type": "stream",
     "text": [
      "Train: (20631, 28)\n",
      "Test: (13096, 28)\n",
      "RUL: (100, 2)\n"
     ]
    }
   ],
   "source": [
    "print(f\"Train: {df_train.shape}\")\n",
    "print(f\"Test: {df_test.shape}\")\n",
    "print(f\"RUL: {df_rul.shape}\")"
   ]
  },
  {
   "cell_type": "code",
   "execution_count": 32,
   "metadata": {},
   "outputs": [],
   "source": [
    "columns = ['Engine_ID', 'Cycle',\n",
    "          'ALT', 'Mach', 'TRA',\n",
    "          'T2', 'T24', 'T30', 'T50',\n",
    "           'P2', 'P15', 'P30',\n",
    "           'Nf', 'Nc', 'epr', 'Ps30', 'phi',\n",
    "           'NRf', 'NRc', 'BPR', 'farB',\n",
    "           'htBleed', 'Nf_dmd', 'PCNfR_dmd',\n",
    "           'W31', 'W32', \"SD_22\", \"SD_23\"\n",
    "          ]"
   ]
  },
  {
   "cell_type": "code",
   "execution_count": 33,
   "metadata": {},
   "outputs": [],
   "source": [
    "df_train.columns = columns\n",
    "df_test.columns = columns"
   ]
  },
  {
   "cell_type": "code",
   "execution_count": 34,
   "metadata": {},
   "outputs": [
    {
     "name": "stdout",
     "output_type": "stream",
     "text": [
      "df_train unique engines: 100\n",
      "df_test unique engines: 100\n"
     ]
    }
   ],
   "source": [
    "# Count number of unique engines\n",
    "print(f\"df_train unique engines: {df_train['Engine_ID'].nunique()}\")\n",
    "print(f\"df_test unique engines: {df_test['Engine_ID'].nunique()}\")"
   ]
  },
  {
   "cell_type": "code",
   "execution_count": 35,
   "metadata": {},
   "outputs": [
    {
     "name": "stdout",
     "output_type": "stream",
     "text": [
      "df_rul engines count: 100\n"
     ]
    }
   ],
   "source": [
    "print(f\"df_rul engines count: {len(df_rul)}\")"
   ]
  },
  {
   "cell_type": "code",
   "execution_count": 36,
   "metadata": {},
   "outputs": [],
   "source": [
    "#function for preparing training data and forming a RUL column with information about the remaining\n",
    "# before breaking cycles\n",
    "def prepare_train_data(data, factor = 0):\n",
    "    df = data.copy()\n",
    "    fd_RUL = df.groupby('Engine_ID')['Cycle'].max().reset_index()\n",
    "    fd_RUL = pd.DataFrame(fd_RUL)\n",
    "    fd_RUL.columns = ['Engine_ID','max']\n",
    "    df = df.merge(fd_RUL, on=['Engine_ID'], how='left')\n",
    "    df['RUL'] = df['max'] - df['Cycle']\n",
    "    df.drop(columns=['max'],inplace = True)\n",
    "    \n",
    "    return df[df['Cycle'] > factor]"
   ]
  },
  {
   "cell_type": "code",
   "execution_count": 37,
   "metadata": {},
   "outputs": [],
   "source": [
    "df_train = prepare_train_data(df_train, factor = 0)"
   ]
  },
  {
   "cell_type": "code",
   "execution_count": 77,
   "metadata": {},
   "outputs": [
    {
     "name": "stdout",
     "output_type": "stream",
     "text": [
      "100\n"
     ]
    }
   ],
   "source": [
    "# Add RUL to df_test\n",
    "\n",
    "df_test = df_test.groupby('Engine_ID').last().reset_index()\n",
    "print(len(df_test))\n",
    "\n",
    "# Add max RUL to df_test\n",
    "# Make list of df_rul\n",
    "max_rul = df_rul[0].tolist() #len = 100\n",
    "\n",
    "# Create actual RUL column: MAX_RUL - Cycle\n",
    "df_test[\"RUL\"] = max_rul"
   ]
  },
  {
   "cell_type": "code",
   "execution_count": 38,
   "metadata": {},
   "outputs": [
    {
     "data": {
      "text/html": [
       "<div>\n",
       "<style scoped>\n",
       "    .dataframe tbody tr th:only-of-type {\n",
       "        vertical-align: middle;\n",
       "    }\n",
       "\n",
       "    .dataframe tbody tr th {\n",
       "        vertical-align: top;\n",
       "    }\n",
       "\n",
       "    .dataframe thead th {\n",
       "        text-align: right;\n",
       "    }\n",
       "</style>\n",
       "<table border=\"1\" class=\"dataframe\">\n",
       "  <thead>\n",
       "    <tr style=\"text-align: right;\">\n",
       "      <th></th>\n",
       "      <th>Engine_ID</th>\n",
       "      <th>Cycle</th>\n",
       "      <th>ALT</th>\n",
       "      <th>Mach</th>\n",
       "      <th>TRA</th>\n",
       "      <th>T2</th>\n",
       "      <th>T24</th>\n",
       "      <th>T30</th>\n",
       "      <th>T50</th>\n",
       "      <th>P2</th>\n",
       "      <th>...</th>\n",
       "      <th>BPR</th>\n",
       "      <th>farB</th>\n",
       "      <th>htBleed</th>\n",
       "      <th>Nf_dmd</th>\n",
       "      <th>PCNfR_dmd</th>\n",
       "      <th>W31</th>\n",
       "      <th>W32</th>\n",
       "      <th>SD_22</th>\n",
       "      <th>SD_23</th>\n",
       "      <th>RUL</th>\n",
       "    </tr>\n",
       "  </thead>\n",
       "  <tbody>\n",
       "    <tr>\n",
       "      <th>0</th>\n",
       "      <td>1</td>\n",
       "      <td>1</td>\n",
       "      <td>-0.0007</td>\n",
       "      <td>-0.0004</td>\n",
       "      <td>100.0</td>\n",
       "      <td>518.67</td>\n",
       "      <td>641.82</td>\n",
       "      <td>1589.70</td>\n",
       "      <td>1400.60</td>\n",
       "      <td>14.62</td>\n",
       "      <td>...</td>\n",
       "      <td>8.4195</td>\n",
       "      <td>0.03</td>\n",
       "      <td>392</td>\n",
       "      <td>2388</td>\n",
       "      <td>100.0</td>\n",
       "      <td>39.06</td>\n",
       "      <td>23.4190</td>\n",
       "      <td>NaN</td>\n",
       "      <td>NaN</td>\n",
       "      <td>191</td>\n",
       "    </tr>\n",
       "    <tr>\n",
       "      <th>1</th>\n",
       "      <td>1</td>\n",
       "      <td>2</td>\n",
       "      <td>0.0019</td>\n",
       "      <td>-0.0003</td>\n",
       "      <td>100.0</td>\n",
       "      <td>518.67</td>\n",
       "      <td>642.15</td>\n",
       "      <td>1591.82</td>\n",
       "      <td>1403.14</td>\n",
       "      <td>14.62</td>\n",
       "      <td>...</td>\n",
       "      <td>8.4318</td>\n",
       "      <td>0.03</td>\n",
       "      <td>392</td>\n",
       "      <td>2388</td>\n",
       "      <td>100.0</td>\n",
       "      <td>39.00</td>\n",
       "      <td>23.4236</td>\n",
       "      <td>NaN</td>\n",
       "      <td>NaN</td>\n",
       "      <td>190</td>\n",
       "    </tr>\n",
       "    <tr>\n",
       "      <th>2</th>\n",
       "      <td>1</td>\n",
       "      <td>3</td>\n",
       "      <td>-0.0043</td>\n",
       "      <td>0.0003</td>\n",
       "      <td>100.0</td>\n",
       "      <td>518.67</td>\n",
       "      <td>642.35</td>\n",
       "      <td>1587.99</td>\n",
       "      <td>1404.20</td>\n",
       "      <td>14.62</td>\n",
       "      <td>...</td>\n",
       "      <td>8.4178</td>\n",
       "      <td>0.03</td>\n",
       "      <td>390</td>\n",
       "      <td>2388</td>\n",
       "      <td>100.0</td>\n",
       "      <td>38.95</td>\n",
       "      <td>23.3442</td>\n",
       "      <td>NaN</td>\n",
       "      <td>NaN</td>\n",
       "      <td>189</td>\n",
       "    </tr>\n",
       "    <tr>\n",
       "      <th>3</th>\n",
       "      <td>1</td>\n",
       "      <td>4</td>\n",
       "      <td>0.0007</td>\n",
       "      <td>0.0000</td>\n",
       "      <td>100.0</td>\n",
       "      <td>518.67</td>\n",
       "      <td>642.35</td>\n",
       "      <td>1582.79</td>\n",
       "      <td>1401.87</td>\n",
       "      <td>14.62</td>\n",
       "      <td>...</td>\n",
       "      <td>8.3682</td>\n",
       "      <td>0.03</td>\n",
       "      <td>392</td>\n",
       "      <td>2388</td>\n",
       "      <td>100.0</td>\n",
       "      <td>38.88</td>\n",
       "      <td>23.3739</td>\n",
       "      <td>NaN</td>\n",
       "      <td>NaN</td>\n",
       "      <td>188</td>\n",
       "    </tr>\n",
       "    <tr>\n",
       "      <th>4</th>\n",
       "      <td>1</td>\n",
       "      <td>5</td>\n",
       "      <td>-0.0019</td>\n",
       "      <td>-0.0002</td>\n",
       "      <td>100.0</td>\n",
       "      <td>518.67</td>\n",
       "      <td>642.37</td>\n",
       "      <td>1582.85</td>\n",
       "      <td>1406.22</td>\n",
       "      <td>14.62</td>\n",
       "      <td>...</td>\n",
       "      <td>8.4294</td>\n",
       "      <td>0.03</td>\n",
       "      <td>393</td>\n",
       "      <td>2388</td>\n",
       "      <td>100.0</td>\n",
       "      <td>38.90</td>\n",
       "      <td>23.4044</td>\n",
       "      <td>NaN</td>\n",
       "      <td>NaN</td>\n",
       "      <td>187</td>\n",
       "    </tr>\n",
       "    <tr>\n",
       "      <th>...</th>\n",
       "      <td>...</td>\n",
       "      <td>...</td>\n",
       "      <td>...</td>\n",
       "      <td>...</td>\n",
       "      <td>...</td>\n",
       "      <td>...</td>\n",
       "      <td>...</td>\n",
       "      <td>...</td>\n",
       "      <td>...</td>\n",
       "      <td>...</td>\n",
       "      <td>...</td>\n",
       "      <td>...</td>\n",
       "      <td>...</td>\n",
       "      <td>...</td>\n",
       "      <td>...</td>\n",
       "      <td>...</td>\n",
       "      <td>...</td>\n",
       "      <td>...</td>\n",
       "      <td>...</td>\n",
       "      <td>...</td>\n",
       "      <td>...</td>\n",
       "    </tr>\n",
       "    <tr>\n",
       "      <th>20626</th>\n",
       "      <td>100</td>\n",
       "      <td>196</td>\n",
       "      <td>-0.0004</td>\n",
       "      <td>-0.0003</td>\n",
       "      <td>100.0</td>\n",
       "      <td>518.67</td>\n",
       "      <td>643.49</td>\n",
       "      <td>1597.98</td>\n",
       "      <td>1428.63</td>\n",
       "      <td>14.62</td>\n",
       "      <td>...</td>\n",
       "      <td>8.4956</td>\n",
       "      <td>0.03</td>\n",
       "      <td>397</td>\n",
       "      <td>2388</td>\n",
       "      <td>100.0</td>\n",
       "      <td>38.49</td>\n",
       "      <td>22.9735</td>\n",
       "      <td>NaN</td>\n",
       "      <td>NaN</td>\n",
       "      <td>4</td>\n",
       "    </tr>\n",
       "    <tr>\n",
       "      <th>20627</th>\n",
       "      <td>100</td>\n",
       "      <td>197</td>\n",
       "      <td>-0.0016</td>\n",
       "      <td>-0.0005</td>\n",
       "      <td>100.0</td>\n",
       "      <td>518.67</td>\n",
       "      <td>643.54</td>\n",
       "      <td>1604.50</td>\n",
       "      <td>1433.58</td>\n",
       "      <td>14.62</td>\n",
       "      <td>...</td>\n",
       "      <td>8.5139</td>\n",
       "      <td>0.03</td>\n",
       "      <td>395</td>\n",
       "      <td>2388</td>\n",
       "      <td>100.0</td>\n",
       "      <td>38.30</td>\n",
       "      <td>23.1594</td>\n",
       "      <td>NaN</td>\n",
       "      <td>NaN</td>\n",
       "      <td>3</td>\n",
       "    </tr>\n",
       "    <tr>\n",
       "      <th>20628</th>\n",
       "      <td>100</td>\n",
       "      <td>198</td>\n",
       "      <td>0.0004</td>\n",
       "      <td>0.0000</td>\n",
       "      <td>100.0</td>\n",
       "      <td>518.67</td>\n",
       "      <td>643.42</td>\n",
       "      <td>1602.46</td>\n",
       "      <td>1428.18</td>\n",
       "      <td>14.62</td>\n",
       "      <td>...</td>\n",
       "      <td>8.5646</td>\n",
       "      <td>0.03</td>\n",
       "      <td>398</td>\n",
       "      <td>2388</td>\n",
       "      <td>100.0</td>\n",
       "      <td>38.44</td>\n",
       "      <td>22.9333</td>\n",
       "      <td>NaN</td>\n",
       "      <td>NaN</td>\n",
       "      <td>2</td>\n",
       "    </tr>\n",
       "    <tr>\n",
       "      <th>20629</th>\n",
       "      <td>100</td>\n",
       "      <td>199</td>\n",
       "      <td>-0.0011</td>\n",
       "      <td>0.0003</td>\n",
       "      <td>100.0</td>\n",
       "      <td>518.67</td>\n",
       "      <td>643.23</td>\n",
       "      <td>1605.26</td>\n",
       "      <td>1426.53</td>\n",
       "      <td>14.62</td>\n",
       "      <td>...</td>\n",
       "      <td>8.5389</td>\n",
       "      <td>0.03</td>\n",
       "      <td>395</td>\n",
       "      <td>2388</td>\n",
       "      <td>100.0</td>\n",
       "      <td>38.29</td>\n",
       "      <td>23.0640</td>\n",
       "      <td>NaN</td>\n",
       "      <td>NaN</td>\n",
       "      <td>1</td>\n",
       "    </tr>\n",
       "    <tr>\n",
       "      <th>20630</th>\n",
       "      <td>100</td>\n",
       "      <td>200</td>\n",
       "      <td>-0.0032</td>\n",
       "      <td>-0.0005</td>\n",
       "      <td>100.0</td>\n",
       "      <td>518.67</td>\n",
       "      <td>643.85</td>\n",
       "      <td>1600.38</td>\n",
       "      <td>1432.14</td>\n",
       "      <td>14.62</td>\n",
       "      <td>...</td>\n",
       "      <td>8.5036</td>\n",
       "      <td>0.03</td>\n",
       "      <td>396</td>\n",
       "      <td>2388</td>\n",
       "      <td>100.0</td>\n",
       "      <td>38.37</td>\n",
       "      <td>23.0522</td>\n",
       "      <td>NaN</td>\n",
       "      <td>NaN</td>\n",
       "      <td>0</td>\n",
       "    </tr>\n",
       "  </tbody>\n",
       "</table>\n",
       "<p>20631 rows × 29 columns</p>\n",
       "</div>"
      ],
      "text/plain": [
       "       Engine_ID  Cycle     ALT    Mach    TRA      T2     T24      T30  \\\n",
       "0              1      1 -0.0007 -0.0004  100.0  518.67  641.82  1589.70   \n",
       "1              1      2  0.0019 -0.0003  100.0  518.67  642.15  1591.82   \n",
       "2              1      3 -0.0043  0.0003  100.0  518.67  642.35  1587.99   \n",
       "3              1      4  0.0007  0.0000  100.0  518.67  642.35  1582.79   \n",
       "4              1      5 -0.0019 -0.0002  100.0  518.67  642.37  1582.85   \n",
       "...          ...    ...     ...     ...    ...     ...     ...      ...   \n",
       "20626        100    196 -0.0004 -0.0003  100.0  518.67  643.49  1597.98   \n",
       "20627        100    197 -0.0016 -0.0005  100.0  518.67  643.54  1604.50   \n",
       "20628        100    198  0.0004  0.0000  100.0  518.67  643.42  1602.46   \n",
       "20629        100    199 -0.0011  0.0003  100.0  518.67  643.23  1605.26   \n",
       "20630        100    200 -0.0032 -0.0005  100.0  518.67  643.85  1600.38   \n",
       "\n",
       "           T50     P2  ...     BPR  farB  htBleed  Nf_dmd  PCNfR_dmd    W31  \\\n",
       "0      1400.60  14.62  ...  8.4195  0.03      392    2388      100.0  39.06   \n",
       "1      1403.14  14.62  ...  8.4318  0.03      392    2388      100.0  39.00   \n",
       "2      1404.20  14.62  ...  8.4178  0.03      390    2388      100.0  38.95   \n",
       "3      1401.87  14.62  ...  8.3682  0.03      392    2388      100.0  38.88   \n",
       "4      1406.22  14.62  ...  8.4294  0.03      393    2388      100.0  38.90   \n",
       "...        ...    ...  ...     ...   ...      ...     ...        ...    ...   \n",
       "20626  1428.63  14.62  ...  8.4956  0.03      397    2388      100.0  38.49   \n",
       "20627  1433.58  14.62  ...  8.5139  0.03      395    2388      100.0  38.30   \n",
       "20628  1428.18  14.62  ...  8.5646  0.03      398    2388      100.0  38.44   \n",
       "20629  1426.53  14.62  ...  8.5389  0.03      395    2388      100.0  38.29   \n",
       "20630  1432.14  14.62  ...  8.5036  0.03      396    2388      100.0  38.37   \n",
       "\n",
       "           W32  SD_22  SD_23  RUL  \n",
       "0      23.4190    NaN    NaN  191  \n",
       "1      23.4236    NaN    NaN  190  \n",
       "2      23.3442    NaN    NaN  189  \n",
       "3      23.3739    NaN    NaN  188  \n",
       "4      23.4044    NaN    NaN  187  \n",
       "...        ...    ...    ...  ...  \n",
       "20626  22.9735    NaN    NaN    4  \n",
       "20627  23.1594    NaN    NaN    3  \n",
       "20628  22.9333    NaN    NaN    2  \n",
       "20629  23.0640    NaN    NaN    1  \n",
       "20630  23.0522    NaN    NaN    0  \n",
       "\n",
       "[20631 rows x 29 columns]"
      ]
     },
     "metadata": {},
     "output_type": "display_data"
    }
   ],
   "source": [
    "display(df_train)"
   ]
  },
  {
   "cell_type": "code",
   "execution_count": 39,
   "metadata": {},
   "outputs": [],
   "source": [
    "df_train = df_train[['Engine_ID', 'Cycle',\n",
    "          'ALT', 'Mach', 'TRA',\n",
    "          'T2', 'T24', 'T30', 'T50',\n",
    "           'P2', 'P15', 'P30',\n",
    "           'Nf', 'Nc', 'epr', 'Ps30', 'phi',\n",
    "           'NRf', 'NRc', 'BPR', 'farB',\n",
    "           'htBleed', 'Nf_dmd', 'PCNfR_dmd',\n",
    "           'W31', 'W32', 'RUL']]"
   ]
  },
  {
   "cell_type": "code",
   "execution_count": 40,
   "metadata": {},
   "outputs": [],
   "source": [
    "response_column = \"RUL\"\n",
    "training_columns = list(df_train.columns)\n",
    "training_columns.remove('RUL')\n",
    "training_columns.remove('Engine_ID')\n",
    "training_columns.remove('Cycle')"
   ]
  },
  {
   "cell_type": "code",
   "execution_count": null,
   "metadata": {},
   "outputs": [],
   "source": []
  },
  {
   "cell_type": "markdown",
   "metadata": {},
   "source": [
    "### 1. Feature Ranking Using Sklearn Feature Selection (Top 8)"
   ]
  },
  {
   "cell_type": "code",
   "execution_count": 41,
   "metadata": {},
   "outputs": [],
   "source": [
    "# Set mapper\n",
    "df_mapper = DataFrameMapper([(training_columns, None), (response_column, None)])"
   ]
  },
  {
   "cell_type": "code",
   "execution_count": 42,
   "metadata": {},
   "outputs": [],
   "source": [
    "# Train data - pandas to sklearn\n",
    "train = df_mapper.fit_transform(df_train)"
   ]
  },
  {
   "cell_type": "code",
   "execution_count": 43,
   "metadata": {},
   "outputs": [],
   "source": [
    "column_count = len(train[0, :])\n",
    "# train\n",
    "xx = train[:, 0:column_count-1]\n",
    "# response\n",
    "yy = train[:, column_count-1]"
   ]
  },
  {
   "cell_type": "code",
   "execution_count": 51,
   "metadata": {},
   "outputs": [
    {
     "name": "stderr",
     "output_type": "stream",
     "text": [
      "/Users/edison/opt/anaconda3/lib/python3.8/site-packages/sklearn/utils/validation.py:70: FutureWarning: Pass n_features_to_select=8 as keyword args. From version 1.0 (renaming of 0.25) passing these as positional arguments will result in an error\n",
      "  warnings.warn(f\"Pass {args_msg} as keyword args. From version \"\n"
     ]
    }
   ],
   "source": [
    "model = RandomForestRegressor(max_depth=20, n_estimators=50)\n",
    "rfe = RFE(model, 8)\n",
    "fit = rfe.fit(xx, yy)"
   ]
  },
  {
   "cell_type": "code",
   "execution_count": 63,
   "metadata": {},
   "outputs": [
    {
     "name": "stdout",
     "output_type": "stream",
     "text": [
      "Num Features: 8 \n",
      "\n",
      "Selected Features: \n",
      " [False False False False False False  True False False  True False  True\n",
      " False  True  True False  True  True False False False False False  True] \n",
      "\n",
      "Feature Ranking: [ 5  8 17 15  3  2  1 12 10  1  7  1 16  1  1  6  1  1 11  9 13 14  4  1]\n"
     ]
    }
   ],
   "source": [
    "print(f\"Num Features: {fit.n_features_} \\n\")\n",
    "print(f\"Selected Features: \\n {fit.support_} \\n\")\n",
    "print(f\"Feature Ranking: {fit.ranking_}\")"
   ]
  },
  {
   "cell_type": "code",
   "execution_count": 66,
   "metadata": {},
   "outputs": [
    {
     "name": "stdout",
     "output_type": "stream",
     "text": [
      "['T50', 'P30', 'Nc', 'Ps30', 'phi', 'NRc', 'BPR', 'W32']\n"
     ]
    }
   ],
   "source": [
    "top_features = []\n",
    "pointer = 1\n",
    "index =0\n",
    "while len(top_features) < 8:\n",
    "    for i in range(len(fit.ranking_)):\n",
    "        if fit.ranking_[i] == pointer:\n",
    "            top_features.append(training_columns[i])\n",
    "    pointer += 1\n",
    "\n",
    "print(top_features)"
   ]
  },
  {
   "cell_type": "code",
   "execution_count": null,
   "metadata": {},
   "outputs": [],
   "source": []
  },
  {
   "cell_type": "code",
   "execution_count": null,
   "metadata": {},
   "outputs": [],
   "source": []
  },
  {
   "cell_type": "markdown",
   "metadata": {},
   "source": [
    "### 2. Regularization"
   ]
  },
  {
   "cell_type": "code",
   "execution_count": 90,
   "metadata": {},
   "outputs": [],
   "source": [
    "features = [\n",
    "          'ALT', 'Mach', 'TRA',\n",
    "          'T2', 'T24', 'T30', 'T50',\n",
    "           'P2', 'P15', 'P30',\n",
    "           'Nf', 'Nc', 'epr', 'Ps30', 'phi',\n",
    "           'NRf', 'NRc', 'BPR', 'farB',\n",
    "           'htBleed', 'Nf_dmd', 'PCNfR_dmd',\n",
    "           'W31', 'W32'\n",
    "          ]\n",
    "\n",
    "output = ['RUL']"
   ]
  },
  {
   "cell_type": "code",
   "execution_count": 91,
   "metadata": {},
   "outputs": [],
   "source": [
    "X_train = df_train[features]\n",
    "X_test = df_test[features]\n",
    "\n",
    "y_train = df_train[output]\n",
    "y_test = df_test[output]"
   ]
  },
  {
   "cell_type": "code",
   "execution_count": 92,
   "metadata": {},
   "outputs": [
    {
     "data": {
      "text/plain": [
       "StandardScaler()"
      ]
     },
     "execution_count": 92,
     "metadata": {},
     "output_type": "execute_result"
    }
   ],
   "source": [
    "scaler = StandardScaler()\n",
    "scaler.fit(X_train.fillna(0))"
   ]
  },
  {
   "cell_type": "code",
   "execution_count": 93,
   "metadata": {},
   "outputs": [
    {
     "name": "stderr",
     "output_type": "stream",
     "text": [
      "/Users/edison/opt/anaconda3/lib/python3.8/site-packages/sklearn/utils/validation.py:63: DataConversionWarning: A column-vector y was passed when a 1d array was expected. Please change the shape of y to (n_samples, ), for example using ravel().\n",
      "  return f(*args, **kwargs)\n",
      "/Users/edison/opt/anaconda3/lib/python3.8/site-packages/sklearn/linear_model/_logistic.py:763: ConvergenceWarning: lbfgs failed to converge (status=1):\n",
      "STOP: TOTAL NO. of ITERATIONS REACHED LIMIT.\n",
      "\n",
      "Increase the number of iterations (max_iter) or scale the data as shown in:\n",
      "    https://scikit-learn.org/stable/modules/preprocessing.html\n",
      "Please also refer to the documentation for alternative solver options:\n",
      "    https://scikit-learn.org/stable/modules/linear_model.html#logistic-regression\n",
      "  n_iter_i = _check_optimize_result(\n"
     ]
    },
    {
     "data": {
      "text/plain": [
       "SelectFromModel(estimator=LogisticRegression(C=1))"
      ]
     },
     "execution_count": 93,
     "metadata": {},
     "output_type": "execute_result"
    }
   ],
   "source": [
    "sel_ = SelectFromModel(LogisticRegression(C=1, penalty='l2'))\n",
    "\n",
    "sel_.fit(scaler.transform(X_train.fillna(0)), y_train)"
   ]
  },
  {
   "cell_type": "code",
   "execution_count": 94,
   "metadata": {},
   "outputs": [
    {
     "data": {
      "text/plain": [
       "array([False, False, False, False,  True, False,  True,  True, False,\n",
       "        True,  True,  True, False,  True,  True,  True,  True,  True,\n",
       "        True, False, False, False, False,  True])"
      ]
     },
     "execution_count": 94,
     "metadata": {},
     "output_type": "execute_result"
    }
   ],
   "source": [
    "sel_.get_support()"
   ]
  },
  {
   "cell_type": "code",
   "execution_count": 95,
   "metadata": {},
   "outputs": [
    {
     "name": "stdout",
     "output_type": "stream",
     "text": [
      "total features: 24\n",
      "selected features: 13\n",
      "features with coefficients shrank to zero: 1810\n"
     ]
    }
   ],
   "source": [
    "selected_feat = X_train.columns[(sel_.get_support())]\n",
    "print('total features: {}'.format((X_train.shape[1])))\n",
    "print('selected features: {}'.format(len(selected_feat)))\n",
    "print('features with coefficients shrank to zero: {}'.format(\n",
    "      np.sum(sel_.estimator_.coef_ == 0)))"
   ]
  },
  {
   "cell_type": "code",
   "execution_count": null,
   "metadata": {},
   "outputs": [],
   "source": []
  },
  {
   "cell_type": "code",
   "execution_count": null,
   "metadata": {},
   "outputs": [],
   "source": []
  },
  {
   "cell_type": "code",
   "execution_count": null,
   "metadata": {},
   "outputs": [],
   "source": []
  },
  {
   "cell_type": "code",
   "execution_count": 102,
   "metadata": {},
   "outputs": [
    {
     "data": {
      "text/plain": [
       "['BPR', 'NRc', 'Nc', 'P30', 'Ps30', 'T50', 'W32', 'phi']"
      ]
     },
     "execution_count": 102,
     "metadata": {},
     "output_type": "execute_result"
    }
   ],
   "source": [
    "# Sklearn feature selection (8)\n",
    "top_features"
   ]
  },
  {
   "cell_type": "code",
   "execution_count": 104,
   "metadata": {},
   "outputs": [
    {
     "data": {
      "text/plain": [
       "['T24',\n",
       " 'T50',\n",
       " 'P2',\n",
       " 'P30',\n",
       " 'Nf',\n",
       " 'Nc',\n",
       " 'Ps30',\n",
       " 'phi',\n",
       " 'NRf',\n",
       " 'NRc',\n",
       " 'BPR',\n",
       " 'farB',\n",
       " 'W32']"
      ]
     },
     "execution_count": 104,
     "metadata": {},
     "output_type": "execute_result"
    }
   ],
   "source": [
    "# Regularisation (13)\n",
    "x = selected_feat.tolist()\n",
    "x"
   ]
  },
  {
   "cell_type": "code",
   "execution_count": null,
   "metadata": {},
   "outputs": [],
   "source": []
  },
  {
   "cell_type": "code",
   "execution_count": null,
   "metadata": {},
   "outputs": [],
   "source": []
  }
 ],
 "metadata": {
  "kernelspec": {
   "display_name": "Python 3",
   "language": "python",
   "name": "python3"
  },
  "language_info": {
   "codemirror_mode": {
    "name": "ipython",
    "version": 3
   },
   "file_extension": ".py",
   "mimetype": "text/x-python",
   "name": "python",
   "nbconvert_exporter": "python",
   "pygments_lexer": "ipython3",
   "version": "3.8.3"
  }
 },
 "nbformat": 4,
 "nbformat_minor": 4
}
