{
  "nbformat": 4,
  "nbformat_minor": 0,
  "metadata": {
    "colab": {
      "name": "[Final] good Deep-learning (DataSet2)  (Modelling for Capstone) ",
      "provenance": [],
      "collapsed_sections": []
    },
    "kernelspec": {
      "name": "python3",
      "display_name": "Python 3"
    },
    "accelerator": "GPU"
  },
  "cells": [
    {
      "cell_type": "markdown",
      "metadata": {
        "id": "ZR-TduwL5m4Z"
      },
      "source": [
        "## 1. Import Relevant Libraries and Reading of Data"
      ]
    },
    {
      "cell_type": "markdown",
      "metadata": {
        "id": "thz_jf7D2Gky"
      },
      "source": [
        "* 1a. Importing Relevant Libraries"
      ]
    },
    {
      "cell_type": "code",
      "metadata": {
        "id": "H2c_xCew5rkx"
      },
      "source": [
        "# Import Required Libaries\n",
        "import keras\n",
        "import keras.backend as K\n",
        "from keras.layers.core import Activation\n",
        "from keras.models import Sequential,load_model\n",
        "from keras.layers import Dense, Dropout, LSTM\n",
        "from tensorflow.keras.layers import LSTM, Dense, Dropout, Masking, TimeDistributed\n",
        "\n",
        "import pandas as pd\n",
        "import numpy as np\n",
        "import matplotlib.pyplot as plt\n",
        "import os\n",
        "from sklearn import preprocessing\n",
        "\n",
        "from keras.layers import Bidirectional\n",
        "\n",
        "import math "
      ],
      "execution_count": 50,
      "outputs": []
    },
    {
      "cell_type": "markdown",
      "metadata": {
        "id": "ucybXgp72VqS"
      },
      "source": [
        "* 1b. Reading in the Data:\n",
        "-> Training Data\n",
        "-> Testing Data\n",
        "-> True Labels (RUL) for the Testing Data"
      ]
    },
    {
      "cell_type": "code",
      "metadata": {
        "id": "ve7h1KnM5zeO"
      },
      "source": [
        "# Reading in the data (txt files)\n",
        "\n",
        "# Train Data\n",
        "train_df = pd.read_csv(\"/content/train_FD002.txt\", sep=\" \", header=None)\n",
        "# Test Data\n",
        "test_df = pd.read_csv(\"/content/test_FD002.txt\", sep=\" \", header=None)\n",
        "# True RUL Data for the Test Set\n",
        "truth_df = pd.read_csv(\"/content/RUL_FD002.txt\", sep=\" \", header=None)"
      ],
      "execution_count": 51,
      "outputs": []
    },
    {
      "cell_type": "markdown",
      "metadata": {
        "id": "ghG_80mg5t-E"
      },
      "source": [
        "* 1c. We set a seed for Reproducibility of Results"
      ]
    },
    {
      "cell_type": "code",
      "metadata": {
        "id": "P1iFWcBtAk_D"
      },
      "source": [
        "np.random.seed(1234)  \n",
        "PYTHONHASHSEED = 0"
      ],
      "execution_count": 52,
      "outputs": []
    },
    {
      "cell_type": "markdown",
      "metadata": {
        "id": "kg53D_xCAnpY"
      },
      "source": [
        "* 1d. Create a path to save the Deep Learning model output "
      ]
    },
    {
      "cell_type": "code",
      "metadata": {
        "id": "TOEy7RJ3AlcL"
      },
      "source": [
        "# define a path to save model\n",
        "model_path = '/content/Output/regression_model.h5'"
      ],
      "execution_count": 53,
      "outputs": []
    },
    {
      "cell_type": "markdown",
      "metadata": {
        "id": "y-QwvxhLA85I"
      },
      "source": [
        "## 2. Data Preprocessing\n",
        "- Drop the last 2 columns which consists of all null values\n",
        "- Rename columns according to the Engine ID, Cycle, the 3 respective Operating Settings and the 21 Operating Sensors.\n",
        "- Derive the RUL from the train data. This is because the RUL for the train data is not explicity provided.\n",
        "- MinMax Normalisation to transform our features' values to a value between 0 and 1; 0 represents the minimum output value of the sensor value, while 1 represents the maximum output value of the sensor value.\n",
        "- Clipping the upper limit of the RUL of aircrafts to mimic a more accurate degradation pattern of the aircraft engine with increasing usage.\n",
        "- Transform the data into a form (3-Dimensional Form) that can be fed into the deep learning model. "
      ]
    },
    {
      "cell_type": "markdown",
      "metadata": {
        "id": "swkjjtsw2z62"
      },
      "source": [
        "* 2a. Drop the last 2 columns for Training, Testing and True Labels Dataframes"
      ]
    },
    {
      "cell_type": "code",
      "metadata": {
        "id": "mwohCRTRO3iA"
      },
      "source": [
        "# Drop the last 2 columns for Train, Test and True RUL Dataframes\n",
        "train_df.drop(train_df.columns[[26, 27]], axis=1, inplace=True)\n",
        "test_df.drop(test_df.columns[[26, 27]], axis=1, inplace=True)\n",
        "truth_df.drop(truth_df.columns[[1]], axis=1, inplace=True)"
      ],
      "execution_count": 54,
      "outputs": []
    },
    {
      "cell_type": "markdown",
      "metadata": {
        "id": "oX8ustEm25Qx"
      },
      "source": [
        "* 2b. Rename Columns in this form: \n",
        "-> Engine ID\n",
        "-> 3 Operatinh Settings\n",
        "-> 21 Sensors"
      ]
    },
    {
      "cell_type": "code",
      "metadata": {
        "id": "QE6dyXzp23G_"
      },
      "source": [
        "# Rename columns into readable forms, namely, by: \n",
        "# [Engine ID, Operational Settings, Sensors]\n",
        "\n",
        "\n",
        "train_df.columns = ['id', 'cycle', 'setting1', 'setting2', 'setting3', 's1', 's2', 's3',\n",
        "                     's4', 's5', 's6', 's7', 's8', 's9', 's10', 's11', 's12', 's13', 's14',\n",
        "                     's15', 's16', 's17', 's18', 's19', 's20', 's21']\n",
        "train_df = train_df.sort_values(['id','cycle'])\n",
        "\n",
        "\n",
        "test_df.columns = ['id', 'cycle', 'setting1', 'setting2', 'setting3', 's1', 's2', 's3',\n",
        "                     's4', 's5', 's6', 's7', 's8', 's9', 's10', 's11', 's12', 's13', 's14',\n",
        "                     's15', 's16', 's17', 's18', 's19', 's20', 's21']\n"
      ],
      "execution_count": 55,
      "outputs": []
    },
    {
      "cell_type": "markdown",
      "metadata": {
        "id": "dQI_x7RO3OdL"
      },
      "source": [
        "* 2c. Derive RUL for the Training Data"
      ]
    },
    {
      "cell_type": "code",
      "metadata": {
        "id": "M60YfXIzP5sH"
      },
      "source": [
        "# Derive the RUL for the Train Data\n",
        "def extract_rul(data, factor = 0):\n",
        "\n",
        "    # Get the total number of cycles for each unit, i.e. Each Engine ID\n",
        "    rul = pd.DataFrame(data.groupby('id')['cycle'].max()).reset_index()\n",
        "    rul.columns = ['id', 'max']\n",
        "\n",
        "    # Merge the maximum cycle into the original dataframe\n",
        "    data = data.merge(rul, on=['id'], how='left')\n",
        "\n",
        "    # Actual calculation of RUL\n",
        "    data['RUL'] = data['max'] - data['cycle']\n",
        "\n",
        "    # Drop the 'max' column, which is now redundant\n",
        "    data.drop(columns=['max'], axis = 1, inplace = True)\n",
        "  \n",
        "    return data[data['cycle'] > factor]\n",
        "\n",
        "# Apply the function on the training data\n",
        "train_df = extract_rul(train_df, factor = 0)"
      ],
      "execution_count": 56,
      "outputs": []
    },
    {
      "cell_type": "markdown",
      "metadata": {
        "id": "--EaD7hR3XI_"
      },
      "source": [
        "* 2d. Clipping the maximum RUL to aircraft engines for Training Data \n",
        "> This is to accurately mimic the degradation of aircraft engines after a certain period of usage"
      ]
    },
    {
      "cell_type": "code",
      "metadata": {
        "id": "-uP-P1xSRIXw"
      },
      "source": [
        "# Clipping the maximum RUL to aircraft engines (for train data)\n",
        "train_df['RUL'] = train_df['RUL'].clip(upper=125)"
      ],
      "execution_count": 57,
      "outputs": []
    },
    {
      "cell_type": "markdown",
      "metadata": {
        "id": "IAlEFLfR3i4N"
      },
      "source": [
        "* 2e. MinMax Normalisation of Training Data"
      ]
    },
    {
      "cell_type": "code",
      "metadata": {
        "id": "esDY2KYs3Q8b"
      },
      "source": [
        "# MinMax normalization of Operational Settings and Sensor Values (from 0 to 1) for train set\n",
        "train_df['cycle_norm'] = train_df['cycle']\n",
        "cols_normalize = train_df.columns.difference(['id','cycle','RUL'])\n",
        "min_max_scaler = preprocessing.MinMaxScaler()\n",
        "norm_train_df = pd.DataFrame(min_max_scaler.fit_transform(train_df[cols_normalize]), \n",
        "                             columns=cols_normalize, \n",
        "                             index=train_df.index)\n",
        "join_df = train_df[train_df.columns.difference(cols_normalize)].join(norm_train_df)\n",
        "train_df = join_df.reindex(columns = train_df.columns)\n",
        "\n",
        "# MinMax normalization of Operational Settings and Sensor Values (from 0 to 1) for test set\n",
        "test_df['cycle_norm'] = test_df['cycle']\n",
        "norm_test_df = pd.DataFrame(min_max_scaler.transform(test_df[cols_normalize]), \n",
        "                            columns=cols_normalize, \n",
        "                            index=test_df.index)\n",
        "test_join_df = test_df[test_df.columns.difference(cols_normalize)].join(norm_test_df)\n",
        "test_df = test_join_df.reindex(columns = test_df.columns)\n",
        "test_df = test_df.reset_index(drop=True)\n",
        "\n",
        "\n",
        "\n"
      ],
      "execution_count": 58,
      "outputs": []
    },
    {
      "cell_type": "code",
      "metadata": {
        "id": "p8wBrqgxSFlh"
      },
      "source": [
        "# Generate labels (the RUL) for the Test Data using the dataset containing the true RUL for the Test Data.\n",
        "rul = pd.DataFrame(test_df.groupby('id')['cycle'].max()).reset_index()\n",
        "rul.columns = ['id', 'max']\n",
        "# rename column in Truth Dataframe\n",
        "truth_df.columns = ['rul_init']\n",
        "# assign the RUL to the Engine IDs by adding a column in Truth Dataframe\n",
        "truth_df['id'] = truth_df.index + 1\n",
        "# assign RUL to a newly-named column, max\n",
        "truth_df['max'] = rul['max'] + truth_df['rul_init']\n",
        "truth_df.drop('rul_init', axis=1, inplace=True)\n",
        "\n",
        "# Merge Truth Dataframe with Test Dataframe to put the actual RUL together with the data in Test Dataframe\n",
        "# Merge based on Engine ID\n",
        "test_df = test_df.merge(truth_df, on=['id'], how='left')\n",
        "# Final RUL matched to Engine ID\n",
        "test_df['RUL'] = test_df['max'] - test_df['cycle']\n",
        "\n",
        "# Clipping the maximum RUL to aircraft engines.\n",
        "test_df['RUL'] = test_df['RUL'].clip(upper=125)\n",
        "test_df.drop('max', axis=1, inplace=True)"
      ],
      "execution_count": 59,
      "outputs": []
    },
    {
      "cell_type": "code",
      "metadata": {
        "id": "dg1KaBYi2VB7"
      },
      "source": [
        "# Transforming data into a form that can be fed in to the Deep Learning Model \n",
        "# The Form is a(3 Dimensional Form): (samples, time steps, features) \n",
        "\n",
        "# Assign sequence length of 50 (why?)\n",
        "sequence_length = 50\n",
        "def gen_sequence(id_df, seq_length, seq_cols):\n",
        "    data_matrix = id_df[seq_cols].values\n",
        "    num_elements = data_matrix.shape[0]\n",
        "    for start, stop in zip(range(0, num_elements-seq_length), range(seq_length, num_elements)):\n",
        "        yield data_matrix[start:stop, :]"
      ],
      "execution_count": 60,
      "outputs": []
    },
    {
      "cell_type": "code",
      "metadata": {
        "id": "yye0wym13it6"
      },
      "source": [
        "# Feature columns consists of the Operational Settings and Sensor Columns \n",
        "sensor_cols = ['s' + str(i) for i in range(1,22)]\n",
        "sequence_cols = ['setting1', 'setting2', 'setting3', 'cycle_norm']\n",
        "sequence_cols.extend(sensor_cols)\n",
        "\n",
        "seq_gen = (list(gen_sequence(train_df[train_df['id']==id], sequence_length, sequence_cols)) \n",
        "           for id in train_df['id'].unique())\n",
        "\n",
        "# Generate a sequence with the gen_sequence function to get the 3-Dimensional Form \n",
        "# Convert to numpy array\n",
        "seq_array = np.concatenate(list(seq_gen)).astype(np.float32)"
      ],
      "execution_count": 61,
      "outputs": []
    },
    {
      "cell_type": "code",
      "metadata": {
        "colab": {
          "base_uri": "https://localhost:8080/"
        },
        "id": "w6r-9he23t06",
        "outputId": "6a2721b2-8f11-40db-fa2b-66c57d5cd24e"
      },
      "source": [
        "# Generate the RUL labels \n",
        "def gen_labels(id_df, seq_length, label):\n",
        "    data_matrix = id_df[label].values\n",
        "    num_elements = data_matrix.shape[0]\n",
        "    return data_matrix[seq_length:num_elements, :]\n",
        "\n",
        "# Generate the labels using the gen_labels function\n",
        "label_gen = [gen_labels(train_df[train_df['id']==id], sequence_length, ['RUL']) \n",
        "             for id in train_df['id'].unique()]\n",
        "# Convert to numpy array\n",
        "label_array = np.concatenate(label_gen).astype(np.float32)\n",
        "label_array.shape"
      ],
      "execution_count": 62,
      "outputs": [
        {
          "output_type": "execute_result",
          "data": {
            "text/plain": [
              "(40759, 1)"
            ]
          },
          "metadata": {
            "tags": []
          },
          "execution_count": 62
        }
      ]
    },
    {
      "cell_type": "markdown",
      "metadata": {
        "id": "60gq0BSyMFxX"
      },
      "source": [
        "## 3. Model Building"
      ]
    },
    {
      "cell_type": "code",
      "metadata": {
        "id": "Qf1ssR9A4Ec2"
      },
      "source": [
        "# Defining R2 to be used as an evaluation metric in the Deep Learning Model Evaluation Metrics\n",
        "def r2_keras(y_true, y_pred):\n",
        "    SS_res =  K.sum(K.square( y_true - y_pred ))\n",
        "    SS_tot = K.sum(K.square( y_true - K.mean(y_true) ) )\n",
        "    return ( 1 - SS_res/(SS_tot + K.epsilon()) )"
      ],
      "execution_count": 63,
      "outputs": []
    },
    {
      "cell_type": "markdown",
      "metadata": {
        "id": "YAwRm9W9UiLB"
      },
      "source": [
        "## Deep Learning Architecture and Topology"
      ]
    },
    {
      "cell_type": "code",
      "metadata": {
        "colab": {
          "base_uri": "https://localhost:8080/"
        },
        "id": "6QiNrt2VugfV",
        "outputId": "e7999ba2-6946-4ed5-c82e-28e66a4d97c9"
      },
      "source": [
        "# Building the Deep Learning Architecture\n",
        "\n",
        "# Defining the features to be fed into the input of the layers in the Deep Learning Model\n",
        "nb_features = seq_array.shape[2]\n",
        "nb_out = label_array.shape[1]\n",
        "\n",
        "# Sequential Model\n",
        "model = Sequential()\n",
        "# Add a Bi-LSTM Layer\n",
        "model.add(Bidirectional(LSTM(20, return_sequences=True), input_shape=(sequence_length, nb_features)))\n",
        "# Add a Dropout Layer after the Bi-LSTM Layer to minimize overfitting  \n",
        "model.add(Dropout(0.2))\n",
        "# Add a LSTM Layer\n",
        "model.add(LSTM(units=50,return_sequences=False, activation = 'tanh'))\n",
        "# Add a Dropout Layer after the LSTM Layer to minimize overfitting  \n",
        "model.add(Dropout(0.2))\n",
        "# Dense Layer\n",
        "model.add(Dense(units=nb_out))\n",
        "# Activation Function \n",
        "model.add(Activation(\"linear\"))\n",
        "# Compile model, set metrics for evaluation\n",
        "model.compile(loss='mean_squared_error', optimizer='rmsprop',metrics=['mse',r2_keras])\n",
        "# For model observation\n",
        "print(model.summary())\n",
        "\n",
        "# Fit the Deep Learning network on our training data\n",
        "history = model.fit(seq_array, label_array, epochs=5, batch_size=10, validation_split=0.05, verbose=2,\n",
        "          callbacks = [keras.callbacks.EarlyStopping(monitor='val_loss', min_delta=0, patience=10, verbose=0, mode='min'),\n",
        "                       keras.callbacks.ModelCheckpoint(model_path,monitor='val_loss', save_best_only=True, mode='min', verbose=0)])\n"
      ],
      "execution_count": 64,
      "outputs": [
        {
          "output_type": "stream",
          "text": [
            "Model: \"sequential_2\"\n",
            "_________________________________________________________________\n",
            "Layer (type)                 Output Shape              Param #   \n",
            "=================================================================\n",
            "bidirectional_2 (Bidirection (None, 50, 40)            7360      \n",
            "_________________________________________________________________\n",
            "dropout_4 (Dropout)          (None, 50, 40)            0         \n",
            "_________________________________________________________________\n",
            "lstm_5 (LSTM)                (None, 50)                18200     \n",
            "_________________________________________________________________\n",
            "dropout_5 (Dropout)          (None, 50)                0         \n",
            "_________________________________________________________________\n",
            "dense_2 (Dense)              (None, 1)                 51        \n",
            "_________________________________________________________________\n",
            "activation_2 (Activation)    (None, 1)                 0         \n",
            "=================================================================\n",
            "Total params: 25,611\n",
            "Trainable params: 25,611\n",
            "Non-trainable params: 0\n",
            "_________________________________________________________________\n",
            "None\n",
            "Epoch 1/5\n",
            "3873/3873 - 41s - loss: 2224.0815 - mse: 2224.0815 - r2_keras: -6.7626e+05 - val_loss: 1821.9824 - val_mse: 1821.9824 - val_r2_keras: -7.2842e+10\n",
            "Epoch 2/5\n",
            "3873/3873 - 37s - loss: 1577.2397 - mse: 1577.2397 - r2_keras: -5.4277e+05 - val_loss: 1214.1323 - val_mse: 1214.1323 - val_r2_keras: -3.1587e+10\n",
            "Epoch 3/5\n",
            "3873/3873 - 37s - loss: 827.0851 - mse: 827.0851 - r2_keras: -2.7672e+06 - val_loss: 1075.5343 - val_mse: 1075.5343 - val_r2_keras: -1.7496e+10\n",
            "Epoch 4/5\n",
            "3873/3873 - 36s - loss: 721.6514 - mse: 721.6514 - r2_keras: -7.2198e+03 - val_loss: 792.1639 - val_mse: 792.1639 - val_r2_keras: -3.0387e+10\n",
            "Epoch 5/5\n",
            "3873/3873 - 36s - loss: 632.1671 - mse: 632.1671 - r2_keras: -3.3535e+06 - val_loss: 575.3926 - val_mse: 575.3926 - val_r2_keras: -1.5276e+10\n"
          ],
          "name": "stdout"
        }
      ]
    },
    {
      "cell_type": "code",
      "metadata": {
        "colab": {
          "base_uri": "https://localhost:8080/"
        },
        "id": "NxCoSBIU6KIS",
        "outputId": "bb9db533-03d5-4ea6-8118-962fc2ee1d45"
      },
      "source": [
        "# Metrics from fitting the model on our Training Data\n",
        "scores = model.evaluate(seq_array, label_array, verbose=1, batch_size=200)\n",
        "print('\\nMSE: {}'.format(scores[1]))\n",
        "print('\\nR^2: {}'.format(scores[2]))"
      ],
      "execution_count": 65,
      "outputs": [
        {
          "output_type": "stream",
          "text": [
            "204/204 [==============================] - 1s 6ms/step - loss: 498.8837 - mse: 498.8837 - r2_keras: 0.6191\n",
            "\n",
            "MSE: 498.88372802734375\n",
            "\n",
            "R^2: 0.6191354393959045\n"
          ],
          "name": "stdout"
        }
      ]
    },
    {
      "cell_type": "code",
      "metadata": {
        "colab": {
          "base_uri": "https://localhost:8080/"
        },
        "id": "kX9Si6OrU7js",
        "outputId": "0d3242d6-1e05-4107-dc4d-5b04ea4ade79"
      },
      "source": [
        "# Adjusted R2 score\n",
        "def adjusted_r2(r2, p, n):\n",
        "  numerator = (1-r2)*(n-1)\n",
        "  denom = n - p - 1\n",
        "  result = 1 - (numerator/denom)\n",
        "  return result\n",
        "\n",
        "print('Adjusted R2:')\n",
        "print(adjusted_r2(scores[2], nb_features, len(label_array)))\n",
        "\n"
      ],
      "execution_count": 66,
      "outputs": [
        {
          "output_type": "stream",
          "text": [
            "Adjusted R2:\n",
            "0.6189016826381135\n"
          ],
          "name": "stdout"
        }
      ]
    },
    {
      "cell_type": "code",
      "metadata": {
        "id": "zdTs1FAP6UXP"
      },
      "source": [
        "# Preparing Test Data to be fed into our model for evaluation\n",
        "seq_array_test_last = [test_df[test_df['id']==id][sequence_cols].values[-sequence_length:] \n",
        "                       for id in test_df['id'].unique() if len(test_df[test_df['id']==id]) >= sequence_length]\n",
        "\n",
        "seq_array_test_last = np.asarray(seq_array_test_last).astype(np.float32)"
      ],
      "execution_count": 67,
      "outputs": []
    },
    {
      "cell_type": "code",
      "metadata": {
        "id": "I_1VG4pA7ISQ"
      },
      "source": [
        "# Preparing Test Data to be fed into our model for evaluation\n",
        "y_mask = [len(test_df[test_df['id']==id]) >= sequence_length for id in test_df['id'].unique()]\n",
        "label_array_test_last = test_df.groupby('id')['RUL'].nth(-1)[y_mask].values\n",
        "label_array_test_last = label_array_test_last.reshape(label_array_test_last.shape[0],1).astype(np.float32)"
      ],
      "execution_count": 68,
      "outputs": []
    },
    {
      "cell_type": "code",
      "metadata": {
        "colab": {
          "base_uri": "https://localhost:8080/"
        },
        "id": "XkPBwLRy7Jat",
        "outputId": "cac7f0a2-251a-4904-ed8f-b81f0167bab5"
      },
      "source": [
        "# Test Data Metrics after running our model\n",
        "scores_test = model.evaluate(seq_array_test_last, label_array_test_last, verbose = 1, batch_size = 200)\n",
        "print('\\nMSE: {}'.format(scores_test[1]))\n",
        "print('\\nR^2: {}'.format(scores_test[2]))\n",
        "print('\\nRMSE:')\n",
        "print(math.sqrt(scores_test[1]))"
      ],
      "execution_count": 69,
      "outputs": [
        {
          "output_type": "stream",
          "text": [
            "2/2 [==============================] - 0s 8ms/step - loss: 388.4691 - mse: 388.4691 - r2_keras: 0.7658\n",
            "\n",
            "MSE: 388.4690856933594\n",
            "\n",
            "R^2: 0.7658010125160217\n",
            "\n",
            "RMSE:\n",
            "19.709619115887534\n"
          ],
          "name": "stdout"
        }
      ]
    },
    {
      "cell_type": "code",
      "metadata": {
        "colab": {
          "base_uri": "https://localhost:8080/"
        },
        "id": "ALDR7gbrI6Ve",
        "outputId": "f9e1754f-f2d1-45e7-94f7-2ffafc706b8e"
      },
      "source": [
        "# To obtain our model's prediction on the Test Data\n",
        "scores_test = model.predict(seq_array_test_last)\n",
        "scores_test\n"
      ],
      "execution_count": 70,
      "outputs": [
        {
          "output_type": "execute_result",
          "data": {
            "text/plain": [
              "array([[  6.7662206],\n",
              "       [116.90077  ],\n",
              "       [ 97.342735 ],\n",
              "       [107.206276 ],\n",
              "       [ 15.140278 ],\n",
              "       [114.28436  ],\n",
              "       [ 11.647469 ],\n",
              "       [ 38.184948 ],\n",
              "       [ 11.585176 ],\n",
              "       [ 98.84564  ],\n",
              "       [ 24.801308 ],\n",
              "       [114.18645  ],\n",
              "       [ 45.5145   ],\n",
              "       [  8.982037 ],\n",
              "       [ 39.126545 ],\n",
              "       [103.864525 ],\n",
              "       [ 90.57275  ],\n",
              "       [ 31.114506 ],\n",
              "       [ 94.58545  ],\n",
              "       [ 53.60908  ],\n",
              "       [ 18.05445  ],\n",
              "       [ 73.65123  ],\n",
              "       [ 85.2809   ],\n",
              "       [110.72077  ],\n",
              "       [116.268875 ],\n",
              "       [104.1035   ],\n",
              "       [ 82.9159   ],\n",
              "       [103.01494  ],\n",
              "       [ 15.835787 ],\n",
              "       [ 55.29033  ],\n",
              "       [116.35204  ],\n",
              "       [112.56723  ],\n",
              "       [ 81.361374 ],\n",
              "       [ 48.412544 ],\n",
              "       [ 60.772785 ],\n",
              "       [ 51.31762  ],\n",
              "       [ 27.467094 ],\n",
              "       [ 47.50279  ],\n",
              "       [ 44.66049  ],\n",
              "       [ 30.419733 ],\n",
              "       [ 11.280405 ],\n",
              "       [ 94.93619  ],\n",
              "       [113.30233  ],\n",
              "       [ 36.202633 ],\n",
              "       [113.11177  ],\n",
              "       [ 18.52511  ],\n",
              "       [ 31.11544  ],\n",
              "       [ 80.916885 ],\n",
              "       [112.762665 ],\n",
              "       [ 98.63943  ],\n",
              "       [114.68276  ],\n",
              "       [114.18523  ],\n",
              "       [ 24.59813  ],\n",
              "       [ 84.15547  ],\n",
              "       [112.6436   ],\n",
              "       [ 22.243677 ],\n",
              "       [ 60.61329  ],\n",
              "       [ 10.595673 ],\n",
              "       [ 12.092403 ],\n",
              "       [115.834564 ],\n",
              "       [ 98.465546 ],\n",
              "       [ 79.16854  ],\n",
              "       [ 94.18981  ],\n",
              "       [  8.982258 ],\n",
              "       [115.454025 ],\n",
              "       [ 94.63126  ],\n",
              "       [ 66.944984 ],\n",
              "       [104.834526 ],\n",
              "       [ 84.8192   ],\n",
              "       [ 24.56012  ],\n",
              "       [113.259346 ],\n",
              "       [ 81.90983  ],\n",
              "       [ 95.08777  ],\n",
              "       [  6.4811234],\n",
              "       [112.97637  ],\n",
              "       [108.04417  ],\n",
              "       [ 22.176437 ],\n",
              "       [ 29.842089 ],\n",
              "       [110.41541  ],\n",
              "       [ 31.813808 ],\n",
              "       [ 94.02336  ],\n",
              "       [115.65009  ],\n",
              "       [ 12.677073 ],\n",
              "       [ 13.833448 ],\n",
              "       [ 98.622154 ],\n",
              "       [115.71678  ],\n",
              "       [ 94.03257  ],\n",
              "       [108.96831  ],\n",
              "       [ 78.778656 ],\n",
              "       [ 11.274937 ],\n",
              "       [104.423386 ],\n",
              "       [ 12.914663 ],\n",
              "       [ 38.655766 ],\n",
              "       [ 29.284218 ],\n",
              "       [  9.19414  ],\n",
              "       [ 95.17258  ],\n",
              "       [116.001305 ],\n",
              "       [114.14561  ],\n",
              "       [ 71.12742  ],\n",
              "       [ 93.96693  ],\n",
              "       [ 38.43978  ],\n",
              "       [ 80.2323   ],\n",
              "       [ 25.30148  ],\n",
              "       [ 63.08714  ],\n",
              "       [ 97.63144  ],\n",
              "       [ 65.04046  ],\n",
              "       [ 16.952469 ],\n",
              "       [116.18538  ],\n",
              "       [ 99.19938  ],\n",
              "       [ 92.5577   ],\n",
              "       [ 31.046923 ],\n",
              "       [114.8245   ],\n",
              "       [116.12623  ],\n",
              "       [  9.930536 ],\n",
              "       [111.85406  ],\n",
              "       [108.79419  ],\n",
              "       [ 82.54685  ],\n",
              "       [ 85.50596  ],\n",
              "       [ 89.32412  ],\n",
              "       [ 97.21908  ],\n",
              "       [113.96588  ],\n",
              "       [ 57.386726 ],\n",
              "       [ 79.69169  ],\n",
              "       [ 15.319338 ],\n",
              "       [105.79717  ],\n",
              "       [111.4058   ],\n",
              "       [ 72.362915 ],\n",
              "       [  9.107138 ],\n",
              "       [ 81.294975 ],\n",
              "       [ 50.617756 ],\n",
              "       [111.48346  ],\n",
              "       [ 35.009342 ],\n",
              "       [ 91.84273  ],\n",
              "       [ 54.581764 ],\n",
              "       [ 98.666954 ],\n",
              "       [ 30.335651 ],\n",
              "       [112.94627  ],\n",
              "       [ 22.997278 ],\n",
              "       [112.64055  ],\n",
              "       [ 23.376362 ],\n",
              "       [ 77.47488  ],\n",
              "       [108.15774  ],\n",
              "       [ 99.99861  ],\n",
              "       [115.65391  ],\n",
              "       [115.02023  ],\n",
              "       [114.01226  ],\n",
              "       [103.16693  ],\n",
              "       [ 22.712667 ],\n",
              "       [ 11.629978 ],\n",
              "       [ 62.733715 ],\n",
              "       [ 19.107695 ],\n",
              "       [ 85.305885 ],\n",
              "       [ 71.33132  ],\n",
              "       [  8.072374 ],\n",
              "       [107.30179  ],\n",
              "       [112.15354  ],\n",
              "       [ 97.89866  ],\n",
              "       [110.69116  ],\n",
              "       [109.3488   ],\n",
              "       [ 32.66293  ],\n",
              "       [ 69.60323  ],\n",
              "       [ 32.61335  ],\n",
              "       [116.640915 ],\n",
              "       [111.69241  ],\n",
              "       [ 33.997448 ],\n",
              "       [ 10.120945 ],\n",
              "       [117.093994 ],\n",
              "       [ 69.25066  ],\n",
              "       [ 84.98493  ],\n",
              "       [ 50.14292  ],\n",
              "       [ 20.395283 ],\n",
              "       [ 87.28606  ],\n",
              "       [115.98074  ],\n",
              "       [ 46.741768 ],\n",
              "       [ 12.290205 ],\n",
              "       [110.053246 ],\n",
              "       [108.70682  ],\n",
              "       [ 85.841034 ],\n",
              "       [ 24.121553 ],\n",
              "       [105.37307  ],\n",
              "       [ 16.83092  ],\n",
              "       [ 19.181911 ],\n",
              "       [117.64579  ],\n",
              "       [ 87.62818  ],\n",
              "       [101.54684  ],\n",
              "       [116.837845 ],\n",
              "       [ 94.88365  ],\n",
              "       [101.568794 ],\n",
              "       [116.3756   ],\n",
              "       [101.61618  ],\n",
              "       [100.54269  ],\n",
              "       [ 51.56264  ],\n",
              "       [ 87.501274 ],\n",
              "       [ 10.79981  ],\n",
              "       [ 57.19854  ],\n",
              "       [ 15.938253 ],\n",
              "       [ 38.7531   ],\n",
              "       [ 71.78863  ],\n",
              "       [ 55.615307 ],\n",
              "       [111.89142  ],\n",
              "       [113.38838  ],\n",
              "       [100.6897   ],\n",
              "       [ 82.92959  ],\n",
              "       [117.14273  ],\n",
              "       [116.95837  ],\n",
              "       [ 29.347004 ],\n",
              "       [ 25.916624 ],\n",
              "       [ 93.94383  ],\n",
              "       [  8.90143  ],\n",
              "       [103.43673  ],\n",
              "       [100.52525  ],\n",
              "       [ 12.117397 ],\n",
              "       [ 56.797398 ],\n",
              "       [ 94.75984  ],\n",
              "       [102.413925 ],\n",
              "       [ 20.050491 ],\n",
              "       [ 42.82248  ],\n",
              "       [109.91281  ],\n",
              "       [ 94.60352  ],\n",
              "       [116.911575 ],\n",
              "       [ 14.783539 ],\n",
              "       [ 10.337392 ],\n",
              "       [110.5787   ],\n",
              "       [110.45476  ],\n",
              "       [ 88.86257  ],\n",
              "       [ 10.481443 ],\n",
              "       [113.578636 ],\n",
              "       [ 10.636166 ],\n",
              "       [ 77.46203  ],\n",
              "       [ 53.90303  ],\n",
              "       [ 96.40171  ],\n",
              "       [115.74564  ],\n",
              "       [ 60.986702 ],\n",
              "       [105.505196 ],\n",
              "       [ 97.226585 ]], dtype=float32)"
            ]
          },
          "metadata": {
            "tags": []
          },
          "execution_count": 70
        }
      ]
    },
    {
      "cell_type": "code",
      "metadata": {
        "colab": {
          "base_uri": "https://localhost:8080/"
        },
        "id": "0_iO9f0vWg3v",
        "outputId": "c8d44282-518d-4f3c-a3e5-1e97495f22a5"
      },
      "source": [
        "test_df.id.unique()"
      ],
      "execution_count": 71,
      "outputs": [
        {
          "output_type": "execute_result",
          "data": {
            "text/plain": [
              "array([  1,   2,   3,   4,   5,   6,   7,   8,   9,  10,  11,  12,  13,\n",
              "        14,  15,  16,  17,  18,  19,  20,  21,  22,  23,  24,  25,  26,\n",
              "        27,  28,  29,  30,  31,  32,  33,  34,  35,  36,  37,  38,  39,\n",
              "        40,  41,  42,  43,  44,  45,  46,  47,  48,  49,  50,  51,  52,\n",
              "        53,  54,  55,  56,  57,  58,  59,  60,  61,  62,  63,  64,  65,\n",
              "        66,  67,  68,  69,  70,  71,  72,  73,  74,  75,  76,  77,  78,\n",
              "        79,  80,  81,  82,  83,  84,  85,  86,  87,  88,  89,  90,  91,\n",
              "        92,  93,  94,  95,  96,  97,  98,  99, 100, 101, 102, 103, 104,\n",
              "       105, 106, 107, 108, 109, 110, 111, 112, 113, 114, 115, 116, 117,\n",
              "       118, 119, 120, 121, 122, 123, 124, 125, 126, 127, 128, 129, 130,\n",
              "       131, 132, 133, 134, 135, 136, 137, 138, 139, 140, 141, 142, 143,\n",
              "       144, 145, 146, 147, 148, 149, 150, 151, 152, 153, 154, 155, 156,\n",
              "       157, 158, 159, 160, 161, 162, 163, 164, 165, 166, 167, 168, 169,\n",
              "       170, 171, 172, 173, 174, 175, 176, 177, 178, 179, 180, 181, 182,\n",
              "       183, 184, 185, 186, 187, 188, 189, 190, 191, 192, 193, 194, 195,\n",
              "       196, 197, 198, 199, 200, 201, 202, 203, 204, 205, 206, 207, 208,\n",
              "       209, 210, 211, 212, 213, 214, 215, 216, 217, 218, 219, 220, 221,\n",
              "       222, 223, 224, 225, 226, 227, 228, 229, 230, 231, 232, 233, 234,\n",
              "       235, 236, 237, 238, 239, 240, 241, 242, 243, 244, 245, 246, 247,\n",
              "       248, 249, 250, 251, 252, 253, 254, 255, 256, 257, 258, 259])"
            ]
          },
          "metadata": {
            "tags": []
          },
          "execution_count": 71
        }
      ]
    },
    {
      "cell_type": "code",
      "metadata": {
        "colab": {
          "base_uri": "https://localhost:8080/"
        },
        "id": "kMJMIj1VKeol",
        "outputId": "c3cc89c4-fd02-4616-e4bc-ec148fc869f0"
      },
      "source": [
        "from sklearn.metrics import mean_squared_error\n",
        "rms = mean_squared_error(label_array_test_last, scores_test, squared=False)\n",
        "rms"
      ],
      "execution_count": 72,
      "outputs": [
        {
          "output_type": "execute_result",
          "data": {
            "text/plain": [
              "19.70962"
            ]
          },
          "metadata": {
            "tags": []
          },
          "execution_count": 72
        }
      ]
    },
    {
      "cell_type": "code",
      "metadata": {
        "id": "mPguKb1_NMd3",
        "colab": {
          "base_uri": "https://localhost:8080/"
        },
        "outputId": "424ba2b6-18f6-4985-d7d3-56c1f6e4fdef"
      },
      "source": [
        "from sklearn.metrics import mean_squared_error, mean_absolute_error, r2_score\n",
        "print(r2_score(label_array_test_last, scores_test))"
      ],
      "execution_count": 73,
      "outputs": [
        {
          "output_type": "stream",
          "text": [
            "0.7827949367023176\n"
          ],
          "name": "stdout"
        }
      ]
    }
  ]
}