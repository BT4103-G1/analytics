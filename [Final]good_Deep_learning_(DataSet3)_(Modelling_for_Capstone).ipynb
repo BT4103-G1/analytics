{
  "nbformat": 4,
  "nbformat_minor": 0,
  "metadata": {
    "colab": {
      "name": "[Final]good Deep-learning (DataSet3)  (Modelling for Capstone) ",
      "provenance": [],
      "collapsed_sections": []
    },
    "kernelspec": {
      "name": "python3",
      "display_name": "Python 3"
    },
    "accelerator": "GPU"
  },
  "cells": [
    {
      "cell_type": "markdown",
      "metadata": {
        "id": "ZR-TduwL5m4Z"
      },
      "source": [
        "## 1. Import Relevant Libraries and Reading of Data"
      ]
    },
    {
      "cell_type": "markdown",
      "metadata": {
        "id": "thz_jf7D2Gky"
      },
      "source": [
        "* 1a. Importing Relevant Libraries"
      ]
    },
    {
      "cell_type": "code",
      "metadata": {
        "id": "H2c_xCew5rkx"
      },
      "source": [
        "# Import Required Libaries\n",
        "import keras\n",
        "import keras.backend as K\n",
        "from keras.layers.core import Activation\n",
        "from keras.models import Sequential,load_model\n",
        "from keras.layers import Dense, Dropout, LSTM\n",
        "from tensorflow.keras.layers import LSTM, Dense, Dropout, Masking, TimeDistributed\n",
        "\n",
        "import pandas as pd\n",
        "import numpy as np\n",
        "import matplotlib.pyplot as plt\n",
        "import os\n",
        "from sklearn import preprocessing\n",
        "\n",
        "from keras.layers import Bidirectional\n",
        "\n",
        "import math "
      ],
      "execution_count": 25,
      "outputs": []
    },
    {
      "cell_type": "markdown",
      "metadata": {
        "id": "ucybXgp72VqS"
      },
      "source": [
        "* 1b. Reading in the Data:\n",
        "-> Training Data\n",
        "-> Testing Data\n",
        "-> True Labels (RUL) for the Testing Data"
      ]
    },
    {
      "cell_type": "code",
      "metadata": {
        "id": "ve7h1KnM5zeO"
      },
      "source": [
        "# Reading in the data (txt files)\n",
        "\n",
        "# Train Data\n",
        "train_df = pd.read_csv(\"/content/train_FD003.txt\", sep=\" \", header=None)\n",
        "# Test Data\n",
        "test_df = pd.read_csv(\"/content/test_FD003.txt\", sep=\" \", header=None)\n",
        "# True RUL Data for the Test Set\n",
        "truth_df = pd.read_csv(\"/content/RUL_FD003.txt\", sep=\" \", header=None)"
      ],
      "execution_count": 26,
      "outputs": []
    },
    {
      "cell_type": "markdown",
      "metadata": {
        "id": "ghG_80mg5t-E"
      },
      "source": [
        "* 1c. We set a seed for Reproducibility of Results"
      ]
    },
    {
      "cell_type": "code",
      "metadata": {
        "id": "P1iFWcBtAk_D"
      },
      "source": [
        "np.random.seed(1234)  \n",
        "PYTHONHASHSEED = 0"
      ],
      "execution_count": 27,
      "outputs": []
    },
    {
      "cell_type": "markdown",
      "metadata": {
        "id": "kg53D_xCAnpY"
      },
      "source": [
        "* 1d. Create a path to save the Deep Learning model output "
      ]
    },
    {
      "cell_type": "code",
      "metadata": {
        "id": "TOEy7RJ3AlcL"
      },
      "source": [
        "# define a path to save model\n",
        "model_path = '/content/Output/regression_model.h5'"
      ],
      "execution_count": 28,
      "outputs": []
    },
    {
      "cell_type": "markdown",
      "metadata": {
        "id": "y-QwvxhLA85I"
      },
      "source": [
        "## 2. Data Preprocessing\n",
        "- Drop the last 2 columns which consists of all null values\n",
        "- Rename columns according to the Engine ID, Cycle, the 3 respective Operating Settings and the 21 Operating Sensors.\n",
        "- Derive the RUL from the train data. This is because the RUL for the train data is not explicity provided.\n",
        "- MinMax Normalisation to transform our features' values to a value between 0 and 1; 0 represents the minimum output value of the sensor value, while 1 represents the maximum output value of the sensor value.\n",
        "- Clipping the upper limit of the RUL of aircrafts to mimic a more accurate degradation pattern of the aircraft engine with increasing usage.\n",
        "- Transform the data into a form (3-Dimensional Form) that can be fed into the deep learning model. "
      ]
    },
    {
      "cell_type": "markdown",
      "metadata": {
        "id": "swkjjtsw2z62"
      },
      "source": [
        "* 2a. Drop the last 2 columns for Training, Testing and True Labels Dataframes"
      ]
    },
    {
      "cell_type": "code",
      "metadata": {
        "id": "mwohCRTRO3iA"
      },
      "source": [
        "# Drop the last 2 columns for Train, Test and True RUL Dataframes\n",
        "train_df.drop(train_df.columns[[26, 27]], axis=1, inplace=True)\n",
        "test_df.drop(test_df.columns[[26, 27]], axis=1, inplace=True)\n",
        "truth_df.drop(truth_df.columns[[1]], axis=1, inplace=True)"
      ],
      "execution_count": 29,
      "outputs": []
    },
    {
      "cell_type": "markdown",
      "metadata": {
        "id": "oX8ustEm25Qx"
      },
      "source": [
        "* 2b. Rename Columns in this form: \n",
        "-> Engine ID\n",
        "-> 3 Operatinh Settings\n",
        "-> 21 Sensors"
      ]
    },
    {
      "cell_type": "code",
      "metadata": {
        "id": "QE6dyXzp23G_"
      },
      "source": [
        "# Rename columns into readable forms, namely, by: \n",
        "# [Engine ID, Operational Settings, Sensors]\n",
        "\n",
        "\n",
        "train_df.columns = ['id', 'cycle', 'setting1', 'setting2', 'setting3', 's1', 's2', 's3',\n",
        "                     's4', 's5', 's6', 's7', 's8', 's9', 's10', 's11', 's12', 's13', 's14',\n",
        "                     's15', 's16', 's17', 's18', 's19', 's20', 's21']\n",
        "train_df = train_df.sort_values(['id','cycle'])\n",
        "\n",
        "\n",
        "test_df.columns = ['id', 'cycle', 'setting1', 'setting2', 'setting3', 's1', 's2', 's3',\n",
        "                     's4', 's5', 's6', 's7', 's8', 's9', 's10', 's11', 's12', 's13', 's14',\n",
        "                     's15', 's16', 's17', 's18', 's19', 's20', 's21']\n"
      ],
      "execution_count": 30,
      "outputs": []
    },
    {
      "cell_type": "markdown",
      "metadata": {
        "id": "dQI_x7RO3OdL"
      },
      "source": [
        "* 2c. Derive RUL for the Training Data"
      ]
    },
    {
      "cell_type": "code",
      "metadata": {
        "id": "M60YfXIzP5sH"
      },
      "source": [
        "# Derive the RUL for the Train Data\n",
        "def extract_rul(data, factor = 0):\n",
        "\n",
        "    # Get the total number of cycles for each unit, i.e. Each Engine ID\n",
        "    rul = pd.DataFrame(data.groupby('id')['cycle'].max()).reset_index()\n",
        "    rul.columns = ['id', 'max']\n",
        "\n",
        "    # Merge the maximum cycle into the original dataframe\n",
        "    data = data.merge(rul, on=['id'], how='left')\n",
        "\n",
        "    # Actual calculation of RUL\n",
        "    data['RUL'] = data['max'] - data['cycle']\n",
        "\n",
        "    # Drop the 'max' column, which is now redundant\n",
        "    data.drop(columns=['max'], axis = 1, inplace = True)\n",
        "  \n",
        "    return data[data['cycle'] > factor]\n",
        "\n",
        "# Apply the function on the training data\n",
        "train_df = extract_rul(train_df, factor = 0)"
      ],
      "execution_count": 31,
      "outputs": []
    },
    {
      "cell_type": "markdown",
      "metadata": {
        "id": "--EaD7hR3XI_"
      },
      "source": [
        "* 2d. Clipping the maximum RUL to aircraft engines for Training Data \n",
        "> This is to accurately mimic the degradation of aircraft engines after a certain period of usage"
      ]
    },
    {
      "cell_type": "code",
      "metadata": {
        "id": "-uP-P1xSRIXw"
      },
      "source": [
        "# Clipping the maximum RUL to aircraft engines (for train data)\n",
        "train_df['RUL'] = train_df['RUL'].clip(upper=125)"
      ],
      "execution_count": 32,
      "outputs": []
    },
    {
      "cell_type": "markdown",
      "metadata": {
        "id": "IAlEFLfR3i4N"
      },
      "source": [
        "* 2e. MinMax Normalisation of Training Data"
      ]
    },
    {
      "cell_type": "code",
      "metadata": {
        "id": "esDY2KYs3Q8b"
      },
      "source": [
        "# MinMax normalization of Operational Settings and Sensor Values (from 0 to 1) for train set\n",
        "train_df['cycle_norm'] = train_df['cycle']\n",
        "cols_normalize = train_df.columns.difference(['id','cycle','RUL'])\n",
        "min_max_scaler = preprocessing.MinMaxScaler()\n",
        "norm_train_df = pd.DataFrame(min_max_scaler.fit_transform(train_df[cols_normalize]), \n",
        "                             columns=cols_normalize, \n",
        "                             index=train_df.index)\n",
        "join_df = train_df[train_df.columns.difference(cols_normalize)].join(norm_train_df)\n",
        "train_df = join_df.reindex(columns = train_df.columns)\n",
        "\n",
        "# MinMax normalization of Operational Settings and Sensor Values (from 0 to 1) for test set\n",
        "test_df['cycle_norm'] = test_df['cycle']\n",
        "norm_test_df = pd.DataFrame(min_max_scaler.transform(test_df[cols_normalize]), \n",
        "                            columns=cols_normalize, \n",
        "                            index=test_df.index)\n",
        "test_join_df = test_df[test_df.columns.difference(cols_normalize)].join(norm_test_df)\n",
        "test_df = test_join_df.reindex(columns = test_df.columns)\n",
        "test_df = test_df.reset_index(drop=True)\n",
        "\n",
        "\n",
        "\n"
      ],
      "execution_count": 33,
      "outputs": []
    },
    {
      "cell_type": "code",
      "metadata": {
        "id": "p8wBrqgxSFlh"
      },
      "source": [
        "# Generate labels (the RUL) for the Test Data using the dataset containing the true RUL for the Test Data.\n",
        "rul = pd.DataFrame(test_df.groupby('id')['cycle'].max()).reset_index()\n",
        "rul.columns = ['id', 'max']\n",
        "# rename column in Truth Dataframe\n",
        "truth_df.columns = ['rul_init']\n",
        "# assign the RUL to the Engine IDs by adding a column in Truth Dataframe\n",
        "truth_df['id'] = truth_df.index + 1\n",
        "# assign RUL to a newly-named column, max\n",
        "truth_df['max'] = rul['max'] + truth_df['rul_init']\n",
        "truth_df.drop('rul_init', axis=1, inplace=True)\n",
        "\n",
        "# Merge Truth Dataframe with Test Dataframe to put the actual RUL together with the data in Test Dataframe\n",
        "# Merge based on Engine ID\n",
        "test_df = test_df.merge(truth_df, on=['id'], how='left')\n",
        "# Final RUL matched to Engine ID\n",
        "test_df['RUL'] = test_df['max'] - test_df['cycle']\n",
        "\n",
        "# Clipping the maximum RUL to aircraft engines.\n",
        "test_df['RUL'] = test_df['RUL'].clip(upper=125)\n",
        "test_df.drop('max', axis=1, inplace=True)"
      ],
      "execution_count": 34,
      "outputs": []
    },
    {
      "cell_type": "code",
      "metadata": {
        "id": "dg1KaBYi2VB7"
      },
      "source": [
        "# Transforming data into a form that can be fed in to the Deep Learning Model \n",
        "# The Form is a(3 Dimensional Form): (samples, time steps, features) \n",
        "\n",
        "# Assign sequence length of 50 (why?)\n",
        "sequence_length = 50\n",
        "def gen_sequence(id_df, seq_length, seq_cols):\n",
        "    data_matrix = id_df[seq_cols].values\n",
        "    num_elements = data_matrix.shape[0]\n",
        "    for start, stop in zip(range(0, num_elements-seq_length), range(seq_length, num_elements)):\n",
        "        yield data_matrix[start:stop, :]"
      ],
      "execution_count": 35,
      "outputs": []
    },
    {
      "cell_type": "code",
      "metadata": {
        "id": "yye0wym13it6"
      },
      "source": [
        "# Feature columns consists of the Operational Settings and Sensor Columns \n",
        "sensor_cols = ['s' + str(i) for i in range(1,22)]\n",
        "sequence_cols = ['setting1', 'setting2', 'setting3', 'cycle_norm']\n",
        "sequence_cols.extend(sensor_cols)\n",
        "\n",
        "seq_gen = (list(gen_sequence(train_df[train_df['id']==id], sequence_length, sequence_cols)) \n",
        "           for id in train_df['id'].unique())\n",
        "\n",
        "# Generate a sequence with the gen_sequence function to get the 3-Dimensional Form \n",
        "# Convert to numpy array\n",
        "seq_array = np.concatenate(list(seq_gen)).astype(np.float32)"
      ],
      "execution_count": 36,
      "outputs": []
    },
    {
      "cell_type": "code",
      "metadata": {
        "id": "w6r-9he23t06",
        "colab": {
          "base_uri": "https://localhost:8080/"
        },
        "outputId": "b2b762b3-1b2d-43a2-accb-32b421267894"
      },
      "source": [
        "# Generate the RUL labels \n",
        "def gen_labels(id_df, seq_length, label):\n",
        "    data_matrix = id_df[label].values\n",
        "    num_elements = data_matrix.shape[0]\n",
        "    return data_matrix[seq_length:num_elements, :]\n",
        "\n",
        "# Generate the labels using the gen_labels function\n",
        "label_gen = [gen_labels(train_df[train_df['id']==id], sequence_length, ['RUL']) \n",
        "             for id in train_df['id'].unique()]\n",
        "# Convert to numpy array\n",
        "label_array = np.concatenate(label_gen).astype(np.float32)\n",
        "label_array.shape"
      ],
      "execution_count": 37,
      "outputs": [
        {
          "output_type": "execute_result",
          "data": {
            "text/plain": [
              "(19720, 1)"
            ]
          },
          "metadata": {
            "tags": []
          },
          "execution_count": 37
        }
      ]
    },
    {
      "cell_type": "markdown",
      "metadata": {
        "id": "60gq0BSyMFxX"
      },
      "source": [
        "## 3. Model Building"
      ]
    },
    {
      "cell_type": "code",
      "metadata": {
        "id": "Qf1ssR9A4Ec2"
      },
      "source": [
        "# Defining R2 to be used as an evaluation metric in the Deep Learning Model Evaluation Metrics\n",
        "def r2_keras(y_true, y_pred):\n",
        "    SS_res =  K.sum(K.square( y_true - y_pred ))\n",
        "    SS_tot = K.sum(K.square( y_true - K.mean(y_true) ) )\n",
        "    return ( 1 - SS_res/(SS_tot + K.epsilon()) )"
      ],
      "execution_count": 38,
      "outputs": []
    },
    {
      "cell_type": "markdown",
      "metadata": {
        "id": "YAwRm9W9UiLB"
      },
      "source": [
        "## Deep Learning Architecture and Topology"
      ]
    },
    {
      "cell_type": "code",
      "metadata": {
        "id": "6QiNrt2VugfV",
        "colab": {
          "base_uri": "https://localhost:8080/"
        },
        "outputId": "90d17c6e-f552-40f6-945d-34f40e349c92"
      },
      "source": [
        "# Building the Deep Learning Architecture\n",
        "\n",
        "# Defining the features to be fed into the input of the layers in the Deep Learning Model\n",
        "nb_features = seq_array.shape[2]\n",
        "nb_out = label_array.shape[1]\n",
        "\n",
        "# Sequential Model\n",
        "model = Sequential()\n",
        "# Add a Bi-LSTM Layer\n",
        "model.add(Bidirectional(LSTM(20, return_sequences=True), input_shape=(sequence_length, nb_features)))\n",
        "# Add a Dropout Layer after the Bi-LSTM Layer to minimize overfitting  \n",
        "model.add(Dropout(0.2))\n",
        "# Add a LSTM Layer\n",
        "model.add(LSTM(units=50,return_sequences=False, activation = 'tanh'))\n",
        "# Add a Dropout Layer after the LSTM Layer to minimize overfitting  \n",
        "model.add(Dropout(0.2))\n",
        "# Dense Layer\n",
        "model.add(Dense(units=nb_out))\n",
        "# Activation Function \n",
        "model.add(Activation(\"linear\"))\n",
        "# Compile model, set metrics for evaluation\n",
        "model.compile(loss='mean_squared_error', optimizer='rmsprop',metrics=['mse',r2_keras])\n",
        "# For model observation\n",
        "print(model.summary())\n",
        "\n",
        "# Fit the Deep Learning network on our training data\n",
        "history = model.fit(seq_array, label_array, epochs=5, batch_size=10, validation_split=0.05, verbose=2,\n",
        "          callbacks = [keras.callbacks.EarlyStopping(monitor='val_loss', min_delta=0, patience=10, verbose=0, mode='min'),\n",
        "                       keras.callbacks.ModelCheckpoint(model_path,monitor='val_loss', save_best_only=True, mode='min', verbose=0)])\n"
      ],
      "execution_count": 39,
      "outputs": [
        {
          "output_type": "stream",
          "text": [
            "Model: \"sequential\"\n",
            "_________________________________________________________________\n",
            "Layer (type)                 Output Shape              Param #   \n",
            "=================================================================\n",
            "bidirectional (Bidirectional (None, 50, 40)            7360      \n",
            "_________________________________________________________________\n",
            "dropout (Dropout)            (None, 50, 40)            0         \n",
            "_________________________________________________________________\n",
            "lstm_1 (LSTM)                (None, 50)                18200     \n",
            "_________________________________________________________________\n",
            "dropout_1 (Dropout)          (None, 50)                0         \n",
            "_________________________________________________________________\n",
            "dense (Dense)                (None, 1)                 51        \n",
            "_________________________________________________________________\n",
            "activation (Activation)      (None, 1)                 0         \n",
            "=================================================================\n",
            "Total params: 25,611\n",
            "Trainable params: 25,611\n",
            "Non-trainable params: 0\n",
            "_________________________________________________________________\n",
            "None\n",
            "Epoch 1/5\n",
            "1874/1874 - 49s - loss: 3458.9346 - mse: 3458.9346 - r2_keras: -1.6427e+00 - val_loss: 1808.6221 - val_mse: 1808.6221 - val_r2_keras: -7.3761e+10\n",
            "Epoch 2/5\n",
            "1874/1874 - 15s - loss: 1227.2290 - mse: 1227.2290 - r2_keras: -6.5780e+06 - val_loss: 259.4928 - val_mse: 259.4928 - val_r2_keras: -7.4465e+09\n",
            "Epoch 3/5\n",
            "1874/1874 - 15s - loss: 343.0552 - mse: 343.0552 - r2_keras: 0.7378 - val_loss: 93.7085 - val_mse: 93.7085 - val_r2_keras: -3.7578e+09\n",
            "Epoch 4/5\n",
            "1874/1874 - 15s - loss: 263.2714 - mse: 263.2714 - r2_keras: -6.5561e+06 - val_loss: 158.3060 - val_mse: 158.3060 - val_r2_keras: -2.6011e+09\n",
            "Epoch 5/5\n",
            "1874/1874 - 15s - loss: 230.4307 - mse: 230.4307 - r2_keras: 0.8247 - val_loss: 160.2527 - val_mse: 160.2527 - val_r2_keras: -6.0934e+09\n"
          ],
          "name": "stdout"
        }
      ]
    },
    {
      "cell_type": "code",
      "metadata": {
        "id": "NxCoSBIU6KIS",
        "colab": {
          "base_uri": "https://localhost:8080/"
        },
        "outputId": "89965089-baae-428c-fdb3-c2ab1d076552"
      },
      "source": [
        "# Metrics from fitting the model on our Training Data\n",
        "scores = model.evaluate(seq_array, label_array, verbose=1, batch_size=200)\n",
        "print('\\nMSE: {}'.format(scores[1]))\n",
        "print('\\nR^2: {}'.format(scores[2]))"
      ],
      "execution_count": 40,
      "outputs": [
        {
          "output_type": "stream",
          "text": [
            "99/99 [==============================] - 1s 5ms/step - loss: 221.9662 - mse: 221.9662 - r2_keras: -5597253632.0000\n",
            "\n",
            "MSE: 221.96617126464844\n",
            "\n",
            "R^2: -5597253632.0\n"
          ],
          "name": "stdout"
        }
      ]
    },
    {
      "cell_type": "code",
      "metadata": {
        "id": "kX9Si6OrU7js",
        "colab": {
          "base_uri": "https://localhost:8080/"
        },
        "outputId": "eb966e2f-a68f-4fcb-cc08-52e2583e8a9b"
      },
      "source": [
        "# Adjusted R2 score\n",
        "def adjusted_r2(r2, p, n):\n",
        "  numerator = (1-r2)*(n-1)\n",
        "  denom = n - p - 1\n",
        "  result = 1 - (numerator/denom)\n",
        "  return result\n",
        "\n",
        "print('Adjusted R2:')\n",
        "print(adjusted_r2(scores[2], nb_features, len(label_array)))\n",
        "\n"
      ],
      "execution_count": 41,
      "outputs": [
        {
          "output_type": "stream",
          "text": [
            "Adjusted R2:\n",
            "-5604358909.791459\n"
          ],
          "name": "stdout"
        }
      ]
    },
    {
      "cell_type": "code",
      "metadata": {
        "id": "zdTs1FAP6UXP"
      },
      "source": [
        "# Preparing Test Data to be fed into our model for evaluation\n",
        "seq_array_test_last = [test_df[test_df['id']==id][sequence_cols].values[-sequence_length:] \n",
        "                       for id in test_df['id'].unique() if len(test_df[test_df['id']==id]) >= sequence_length]\n",
        "\n",
        "seq_array_test_last = np.asarray(seq_array_test_last).astype(np.float32)"
      ],
      "execution_count": 42,
      "outputs": []
    },
    {
      "cell_type": "code",
      "metadata": {
        "id": "I_1VG4pA7ISQ"
      },
      "source": [
        "# Preparing Test Data to be fed into our model for evaluation\n",
        "y_mask = [len(test_df[test_df['id']==id]) >= sequence_length for id in test_df['id'].unique()]\n",
        "label_array_test_last = test_df.groupby('id')['RUL'].nth(-1)[y_mask].values\n",
        "label_array_test_last = label_array_test_last.reshape(label_array_test_last.shape[0],1).astype(np.float32)"
      ],
      "execution_count": 43,
      "outputs": []
    },
    {
      "cell_type": "code",
      "metadata": {
        "id": "XkPBwLRy7Jat",
        "colab": {
          "base_uri": "https://localhost:8080/"
        },
        "outputId": "52a1b140-35d5-44a1-913f-124dd67eb87e"
      },
      "source": [
        "# Test Data Metrics after running our model\n",
        "scores_test = model.evaluate(seq_array_test_last, label_array_test_last, verbose = 1, batch_size = 200)\n",
        "print('\\nMSE: {}'.format(scores_test[1]))\n",
        "print('\\nR^2: {}'.format(scores_test[2]))\n",
        "print('\\nRMSE:')\n",
        "print(math.sqrt(scores_test[1]))"
      ],
      "execution_count": 44,
      "outputs": [
        {
          "output_type": "stream",
          "text": [
            "1/1 [==============================] - 0s 25ms/step - loss: 228.3019 - mse: 228.3019 - r2_keras: 0.8481\n",
            "\n",
            "MSE: 228.30191040039062\n",
            "\n",
            "R^2: 0.8480921387672424\n",
            "\n",
            "RMSE:\n",
            "15.109662815575687\n"
          ],
          "name": "stdout"
        }
      ]
    },
    {
      "cell_type": "code",
      "metadata": {
        "id": "ALDR7gbrI6Ve",
        "colab": {
          "base_uri": "https://localhost:8080/"
        },
        "outputId": "de7d36c7-bc90-4061-f267-db1413bb5105"
      },
      "source": [
        "# To obtain our model's prediction on the Test Data\n",
        "scores_test = model.predict(seq_array_test_last)\n",
        "scores_test\n"
      ],
      "execution_count": 45,
      "outputs": [
        {
          "output_type": "execute_result",
          "data": {
            "text/plain": [
              "array([[ 45.59301  ],\n",
              "       [ 54.25246  ],\n",
              "       [ 17.454966 ],\n",
              "       [102.832756 ],\n",
              "       [108.98795  ],\n",
              "       [ 98.41044  ],\n",
              "       [ 55.82561  ],\n",
              "       [ 50.501015 ],\n",
              "       [ 60.0296   ],\n",
              "       [ 70.06868  ],\n",
              "       [ 58.523163 ],\n",
              "       [ 88.71854  ],\n",
              "       [ 90.82914  ],\n",
              "       [ 17.291576 ],\n",
              "       [ 89.9603   ],\n",
              "       [ 94.75428  ],\n",
              "       [110.68817  ],\n",
              "       [117.84451  ],\n",
              "       [106.41461  ],\n",
              "       [ 58.15326  ],\n",
              "       [  9.060607 ],\n",
              "       [113.96473  ],\n",
              "       [ 72.30793  ],\n",
              "       [  4.3880835],\n",
              "       [ 47.29133  ],\n",
              "       [  8.846269 ],\n",
              "       [102.22849  ],\n",
              "       [120.81131  ],\n",
              "       [107.77544  ],\n",
              "       [ 76.4725   ],\n",
              "       [ 82.918015 ],\n",
              "       [ 32.069084 ],\n",
              "       [ 71.90406  ],\n",
              "       [ 66.76957  ],\n",
              "       [102.80639  ],\n",
              "       [117.83958  ],\n",
              "       [ 22.067345 ],\n",
              "       [  4.683601 ],\n",
              "       [ 33.91605  ],\n",
              "       [108.97425  ],\n",
              "       [ 68.238144 ],\n",
              "       [110.78332  ],\n",
              "       [ 48.71296  ],\n",
              "       [120.39005  ],\n",
              "       [  6.4143963],\n",
              "       [103.09667  ],\n",
              "       [ 32.825035 ],\n",
              "       [122.12341  ],\n",
              "       [  3.9542036],\n",
              "       [ 85.27776  ],\n",
              "       [ 85.8415   ],\n",
              "       [115.30425  ],\n",
              "       [ 47.08841  ],\n",
              "       [ 70.09762  ],\n",
              "       [ 59.446102 ],\n",
              "       [ 42.150433 ],\n",
              "       [ 37.228912 ],\n",
              "       [ 86.32813  ],\n",
              "       [121.157585 ],\n",
              "       [ 57.495914 ],\n",
              "       [118.03261  ],\n",
              "       [ 22.47836  ],\n",
              "       [119.230156 ],\n",
              "       [ 69.27882  ],\n",
              "       [ 91.41385  ],\n",
              "       [118.1332   ],\n",
              "       [116.85601  ],\n",
              "       [ 69.69816  ],\n",
              "       [ 24.114544 ],\n",
              "       [ 45.97818  ],\n",
              "       [114.28799  ],\n",
              "       [122.38317  ],\n",
              "       [ 45.70137  ],\n",
              "       [ 23.761553 ],\n",
              "       [ 75.99018  ],\n",
              "       [ 14.898651 ],\n",
              "       [  8.3217325],\n",
              "       [120.978325 ],\n",
              "       [ 11.033158 ],\n",
              "       [  5.649781 ],\n",
              "       [ 85.090904 ],\n",
              "       [ 85.29883  ],\n",
              "       [ 76.66646  ],\n",
              "       [  7.949356 ],\n",
              "       [ 66.95396  ],\n",
              "       [ 46.943134 ],\n",
              "       [ 42.863777 ],\n",
              "       [ 83.417725 ],\n",
              "       [  7.667386 ],\n",
              "       [ 73.15384  ],\n",
              "       [  4.1055975],\n",
              "       [ 98.86448  ],\n",
              "       [ 71.0354   ],\n",
              "       [119.90268  ],\n",
              "       [  4.1251106],\n",
              "       [  5.8859234],\n",
              "       [ 20.63831  ]], dtype=float32)"
            ]
          },
          "metadata": {
            "tags": []
          },
          "execution_count": 45
        }
      ]
    },
    {
      "cell_type": "code",
      "metadata": {
        "id": "0_iO9f0vWg3v",
        "colab": {
          "base_uri": "https://localhost:8080/"
        },
        "outputId": "5edebd7a-6ccf-42f9-c057-19682072f1d4"
      },
      "source": [
        "test_df.id.unique()"
      ],
      "execution_count": 46,
      "outputs": [
        {
          "output_type": "execute_result",
          "data": {
            "text/plain": [
              "array([  1,   2,   3,   4,   5,   6,   7,   8,   9,  10,  11,  12,  13,\n",
              "        14,  15,  16,  17,  18,  19,  20,  21,  22,  23,  24,  25,  26,\n",
              "        27,  28,  29,  30,  31,  32,  33,  34,  35,  36,  37,  38,  39,\n",
              "        40,  41,  42,  43,  44,  45,  46,  47,  48,  49,  50,  51,  52,\n",
              "        53,  54,  55,  56,  57,  58,  59,  60,  61,  62,  63,  64,  65,\n",
              "        66,  67,  68,  69,  70,  71,  72,  73,  74,  75,  76,  77,  78,\n",
              "        79,  80,  81,  82,  83,  84,  85,  86,  87,  88,  89,  90,  91,\n",
              "        92,  93,  94,  95,  96,  97,  98,  99, 100])"
            ]
          },
          "metadata": {
            "tags": []
          },
          "execution_count": 46
        }
      ]
    },
    {
      "cell_type": "code",
      "metadata": {
        "id": "kMJMIj1VKeol",
        "colab": {
          "base_uri": "https://localhost:8080/"
        },
        "outputId": "c47b6f8a-ce3a-4a7d-899e-da21f4a4d7b8"
      },
      "source": [
        "from sklearn.metrics import mean_squared_error\n",
        "rms = mean_squared_error(label_array_test_last, scores_test, squared=False)\n",
        "rms"
      ],
      "execution_count": 47,
      "outputs": [
        {
          "output_type": "execute_result",
          "data": {
            "text/plain": [
              "15.109663"
            ]
          },
          "metadata": {
            "tags": []
          },
          "execution_count": 47
        }
      ]
    },
    {
      "cell_type": "code",
      "metadata": {
        "id": "mPguKb1_NMd3",
        "colab": {
          "base_uri": "https://localhost:8080/"
        },
        "outputId": "66a60dfe-20d1-4092-e596-b153019e1145"
      },
      "source": [
        "from sklearn.metrics import mean_squared_error, mean_absolute_error, r2_score\n",
        "print(r2_score(label_array_test_last, scores_test))"
      ],
      "execution_count": 48,
      "outputs": [
        {
          "output_type": "stream",
          "text": [
            "0.8480921097400107\n"
          ],
          "name": "stdout"
        }
      ]
    }
  ]
}