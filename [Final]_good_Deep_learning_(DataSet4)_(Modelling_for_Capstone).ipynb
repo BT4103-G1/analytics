{
 "cells": [
  {
   "cell_type": "markdown",
   "metadata": {
    "id": "ZR-TduwL5m4Z"
   },
   "source": [
    "## 1. Import Relevant Libraries and Reading of Data"
   ]
  },
  {
   "cell_type": "markdown",
   "metadata": {
    "id": "thz_jf7D2Gky"
   },
   "source": [
    "* 1a. Importing Relevant Libraries"
   ]
  },
  {
   "cell_type": "code",
   "execution_count": 75,
   "metadata": {
    "id": "H2c_xCew5rkx"
   },
   "outputs": [],
   "source": [
    "# Import Required Libaries\n",
    "import keras\n",
    "import keras.backend as K\n",
    "from keras.layers.core import Activation\n",
    "from keras.models import Sequential,load_model\n",
    "from keras.layers import Dense, Dropout, LSTM\n",
    "from tensorflow.keras.layers import LSTM, Dense, Dropout, Masking, TimeDistributed\n",
    "\n",
    "import pandas as pd\n",
    "import numpy as np\n",
    "import matplotlib.pyplot as plt\n",
    "import os\n",
    "from sklearn import preprocessing\n",
    "\n",
    "from keras.layers import Bidirectional\n",
    "\n",
    "import math "
   ]
  },
  {
   "cell_type": "markdown",
   "metadata": {
    "id": "ucybXgp72VqS"
   },
   "source": [
    "* 1b. Reading in the Data:\n",
    "-> Training Data\n",
    "-> Testing Data\n",
    "-> True Labels (RUL) for the Testing Data"
   ]
  },
  {
   "cell_type": "code",
   "execution_count": 76,
   "metadata": {
    "id": "ve7h1KnM5zeO"
   },
   "outputs": [],
   "source": [
    "# Reading in the data (txt files)\n",
    "\n",
    "# Train Data\n",
    "train_df = pd.read_csv(\"/content/train_FD004.txt\", sep=\" \", header=None)\n",
    "# Test Data\n",
    "test_df = pd.read_csv(\"/content/test_FD004.txt\", sep=\" \", header=None)\n",
    "# True RUL Data for the Test Set\n",
    "truth_df = pd.read_csv(\"/content/RUL_FD004.txt\", sep=\" \", header=None)"
   ]
  },
  {
   "cell_type": "markdown",
   "metadata": {
    "id": "ghG_80mg5t-E"
   },
   "source": [
    "* 1c. We set a seed for Reproducibility of Results"
   ]
  },
  {
   "cell_type": "code",
   "execution_count": 77,
   "metadata": {
    "id": "P1iFWcBtAk_D"
   },
   "outputs": [],
   "source": [
    "np.random.seed(1234)  \n",
    "PYTHONHASHSEED = 0"
   ]
  },
  {
   "cell_type": "markdown",
   "metadata": {
    "id": "kg53D_xCAnpY"
   },
   "source": [
    "* 1d. Create a path to save the Deep Learning model output "
   ]
  },
  {
   "cell_type": "code",
   "execution_count": 78,
   "metadata": {
    "id": "TOEy7RJ3AlcL"
   },
   "outputs": [],
   "source": [
    "# define a path to save model\n",
    "model_path = '/content/Output/regression_model.h5'"
   ]
  },
  {
   "cell_type": "markdown",
   "metadata": {
    "id": "y-QwvxhLA85I"
   },
   "source": [
    "## 2. Data Preprocessing\n",
    "- Drop the last 2 columns which consists of all null values\n",
    "- Rename columns according to the Engine ID, Cycle, the 3 respective Operating Settings and the 21 Operating Sensors.\n",
    "- Derive the RUL from the train data. This is because the RUL for the train data is not explicity provided.\n",
    "- MinMax Normalisation to transform our features' values to a value between 0 and 1; 0 represents the minimum output value of the sensor value, while 1 represents the maximum output value of the sensor value.\n",
    "- Clipping the upper limit of the RUL of aircrafts to mimic a more accurate degradation pattern of the aircraft engine with increasing usage.\n",
    "- Transform the data into a form (3-Dimensional Form) that can be fed into the deep learning model. "
   ]
  },
  {
   "cell_type": "markdown",
   "metadata": {
    "id": "swkjjtsw2z62"
   },
   "source": [
    "* 2a. Drop the last 2 columns for Training, Testing and True Labels Dataframes"
   ]
  },
  {
   "cell_type": "code",
   "execution_count": 79,
   "metadata": {
    "id": "mwohCRTRO3iA"
   },
   "outputs": [],
   "source": [
    "# Drop the last 2 columns for Train, Test and True RUL Dataframes\n",
    "train_df.drop(train_df.columns[[26, 27]], axis=1, inplace=True)\n",
    "test_df.drop(test_df.columns[[26, 27]], axis=1, inplace=True)\n",
    "truth_df.drop(truth_df.columns[[1]], axis=1, inplace=True)"
   ]
  },
  {
   "cell_type": "markdown",
   "metadata": {
    "id": "oX8ustEm25Qx"
   },
   "source": [
    "* 2b. Rename Columns in this form: \n",
    "-> Engine ID\n",
    "-> 3 Operatinh Settings\n",
    "-> 21 Sensors"
   ]
  },
  {
   "cell_type": "code",
   "execution_count": 80,
   "metadata": {
    "id": "QE6dyXzp23G_"
   },
   "outputs": [],
   "source": [
    "# Rename columns into readable forms, namely, by: \n",
    "# [Engine ID, Operational Settings, Sensors]\n",
    "\n",
    "\n",
    "train_df.columns = ['id', 'cycle', 'setting1', 'setting2', 'setting3', 's1', 's2', 's3',\n",
    "                     's4', 's5', 's6', 's7', 's8', 's9', 's10', 's11', 's12', 's13', 's14',\n",
    "                     's15', 's16', 's17', 's18', 's19', 's20', 's21']\n",
    "train_df = train_df.sort_values(['id','cycle'])\n",
    "\n",
    "\n",
    "test_df.columns = ['id', 'cycle', 'setting1', 'setting2', 'setting3', 's1', 's2', 's3',\n",
    "                     's4', 's5', 's6', 's7', 's8', 's9', 's10', 's11', 's12', 's13', 's14',\n",
    "                     's15', 's16', 's17', 's18', 's19', 's20', 's21']\n"
   ]
  },
  {
   "cell_type": "markdown",
   "metadata": {
    "id": "dQI_x7RO3OdL"
   },
   "source": [
    "* 2c. Derive RUL for the Training Data"
   ]
  },
  {
   "cell_type": "code",
   "execution_count": 81,
   "metadata": {
    "id": "M60YfXIzP5sH"
   },
   "outputs": [],
   "source": [
    "# Derive the RUL for the Train Data\n",
    "def extract_rul(data, factor = 0):\n",
    "\n",
    "    # Get the total number of cycles for each unit, i.e. Each Engine ID\n",
    "    rul = pd.DataFrame(data.groupby('id')['cycle'].max()).reset_index()\n",
    "    rul.columns = ['id', 'max']\n",
    "\n",
    "    # Merge the maximum cycle into the original dataframe\n",
    "    data = data.merge(rul, on=['id'], how='left')\n",
    "\n",
    "    # Actual calculation of RUL\n",
    "    data['RUL'] = data['max'] - data['cycle']\n",
    "\n",
    "    # Drop the 'max' column, which is now redundant\n",
    "    data.drop(columns=['max'], axis = 1, inplace = True)\n",
    "  \n",
    "    return data[data['cycle'] > factor]\n",
    "\n",
    "# Apply the function on the training data\n",
    "train_df = extract_rul(train_df, factor = 0)"
   ]
  },
  {
   "cell_type": "markdown",
   "metadata": {
    "id": "--EaD7hR3XI_"
   },
   "source": [
    "* 2d. Clipping the maximum RUL to aircraft engines for Training Data \n",
    "> This is to accurately mimic the degradation of aircraft engines after a certain period of usage"
   ]
  },
  {
   "cell_type": "code",
   "execution_count": 82,
   "metadata": {
    "id": "-uP-P1xSRIXw"
   },
   "outputs": [],
   "source": [
    "# Clipping the maximum RUL to aircraft engines (for train data)\n",
    "train_df['RUL'] = train_df['RUL'].clip(upper=125)"
   ]
  },
  {
   "cell_type": "markdown",
   "metadata": {
    "id": "IAlEFLfR3i4N"
   },
   "source": [
    "* 2e. MinMax Normalisation of Training Data"
   ]
  },
  {
   "cell_type": "code",
   "execution_count": 83,
   "metadata": {
    "id": "esDY2KYs3Q8b"
   },
   "outputs": [],
   "source": [
    "# MinMax normalization of Operational Settings and Sensor Values (from 0 to 1) for train set\n",
    "train_df['cycle_norm'] = train_df['cycle']\n",
    "cols_normalize = train_df.columns.difference(['id','cycle','RUL'])\n",
    "min_max_scaler = preprocessing.MinMaxScaler()\n",
    "norm_train_df = pd.DataFrame(min_max_scaler.fit_transform(train_df[cols_normalize]), \n",
    "                             columns=cols_normalize, \n",
    "                             index=train_df.index)\n",
    "join_df = train_df[train_df.columns.difference(cols_normalize)].join(norm_train_df)\n",
    "train_df = join_df.reindex(columns = train_df.columns)\n",
    "\n",
    "# MinMax normalization of Operational Settings and Sensor Values (from 0 to 1) for test set\n",
    "test_df['cycle_norm'] = test_df['cycle']\n",
    "norm_test_df = pd.DataFrame(min_max_scaler.transform(test_df[cols_normalize]), \n",
    "                            columns=cols_normalize, \n",
    "                            index=test_df.index)\n",
    "test_join_df = test_df[test_df.columns.difference(cols_normalize)].join(norm_test_df)\n",
    "test_df = test_join_df.reindex(columns = test_df.columns)\n",
    "test_df = test_df.reset_index(drop=True)\n",
    "\n",
    "\n",
    "\n"
   ]
  },
  {
   "cell_type": "code",
   "execution_count": 84,
   "metadata": {
    "id": "p8wBrqgxSFlh"
   },
   "outputs": [],
   "source": [
    "# Generate labels (the RUL) for the Test Data using the dataset containing the true RUL for the Test Data.\n",
    "rul = pd.DataFrame(test_df.groupby('id')['cycle'].max()).reset_index()\n",
    "rul.columns = ['id', 'max']\n",
    "# rename column in Truth Dataframe\n",
    "truth_df.columns = ['rul_init']\n",
    "# assign the RUL to the Engine IDs by adding a column in Truth Dataframe\n",
    "truth_df['id'] = truth_df.index + 1\n",
    "# assign RUL to a newly-named column, max\n",
    "truth_df['max'] = rul['max'] + truth_df['rul_init']\n",
    "truth_df.drop('rul_init', axis=1, inplace=True)\n",
    "\n",
    "# Merge Truth Dataframe with Test Dataframe to put the actual RUL together with the data in Test Dataframe\n",
    "# Merge based on Engine ID\n",
    "test_df = test_df.merge(truth_df, on=['id'], how='left')\n",
    "# Final RUL matched to Engine ID\n",
    "test_df['RUL'] = test_df['max'] - test_df['cycle']\n",
    "\n",
    "# Clipping the maximum RUL to aircraft engines.\n",
    "test_df['RUL'] = test_df['RUL'].clip(upper=125)\n",
    "test_df.drop('max', axis=1, inplace=True)"
   ]
  },
  {
   "cell_type": "code",
   "execution_count": 85,
   "metadata": {
    "id": "dg1KaBYi2VB7"
   },
   "outputs": [],
   "source": [
    "# Transforming data into a form that can be fed in to the Deep Learning Model \n",
    "# The Form is a(3 Dimensional Form): (samples, time steps, features) \n",
    "\n",
    "# Assign sequence length of 50 (why?)\n",
    "sequence_length = 50\n",
    "def gen_sequence(id_df, seq_length, seq_cols):\n",
    "    data_matrix = id_df[seq_cols].values\n",
    "    num_elements = data_matrix.shape[0]\n",
    "    for start, stop in zip(range(0, num_elements-seq_length), range(seq_length, num_elements)):\n",
    "        yield data_matrix[start:stop, :]"
   ]
  },
  {
   "cell_type": "code",
   "execution_count": 86,
   "metadata": {
    "id": "yye0wym13it6"
   },
   "outputs": [],
   "source": [
    "# Feature columns consists of the Operational Settings and Sensor Columns \n",
    "sensor_cols = ['s' + str(i) for i in range(1,22)]\n",
    "sequence_cols = ['setting1', 'setting2', 'setting3', 'cycle_norm']\n",
    "sequence_cols.extend(sensor_cols)\n",
    "\n",
    "seq_gen = (list(gen_sequence(train_df[train_df['id']==id], sequence_length, sequence_cols)) \n",
    "           for id in train_df['id'].unique())\n",
    "\n",
    "# Generate a sequence with the gen_sequence function to get the 3-Dimensional Form \n",
    "# Convert to numpy array\n",
    "seq_array = np.concatenate(list(seq_gen)).astype(np.float32)"
   ]
  },
  {
   "cell_type": "code",
   "execution_count": 87,
   "metadata": {
    "colab": {
     "base_uri": "https://localhost:8080/"
    },
    "id": "w6r-9he23t06",
    "outputId": "2b058add-c4b9-49bd-b449-cea5d95e66d6"
   },
   "outputs": [
    {
     "data": {
      "text/plain": [
       "(48799, 1)"
      ]
     },
     "execution_count": 87,
     "metadata": {
      "tags": []
     },
     "output_type": "execute_result"
    }
   ],
   "source": [
    "# Generate the RUL labels \n",
    "def gen_labels(id_df, seq_length, label):\n",
    "    data_matrix = id_df[label].values\n",
    "    num_elements = data_matrix.shape[0]\n",
    "    return data_matrix[seq_length:num_elements, :]\n",
    "\n",
    "# Generate the labels using the gen_labels function\n",
    "label_gen = [gen_labels(train_df[train_df['id']==id], sequence_length, ['RUL']) \n",
    "             for id in train_df['id'].unique()]\n",
    "# Convert to numpy array\n",
    "label_array = np.concatenate(label_gen).astype(np.float32)\n",
    "label_array.shape"
   ]
  },
  {
   "cell_type": "markdown",
   "metadata": {
    "id": "60gq0BSyMFxX"
   },
   "source": [
    "## 3. Model Building"
   ]
  },
  {
   "cell_type": "code",
   "execution_count": 88,
   "metadata": {
    "id": "Qf1ssR9A4Ec2"
   },
   "outputs": [],
   "source": [
    "# Defining R2 to be used as an evaluation metric in the Deep Learning Model Evaluation Metrics\n",
    "def r2_keras(y_true, y_pred):\n",
    "    SS_res =  K.sum(K.square( y_true - y_pred ))\n",
    "    SS_tot = K.sum(K.square( y_true - K.mean(y_true) ) )\n",
    "    return ( 1 - SS_res/(SS_tot + K.epsilon()) )"
   ]
  },
  {
   "cell_type": "markdown",
   "metadata": {
    "id": "YAwRm9W9UiLB"
   },
   "source": [
    "## Deep Learning Architecture and Topology"
   ]
  },
  {
   "cell_type": "code",
   "execution_count": 89,
   "metadata": {
    "colab": {
     "base_uri": "https://localhost:8080/"
    },
    "id": "6QiNrt2VugfV",
    "outputId": "da5c0d19-cec8-4d8a-e586-c6cc36a4345d"
   },
   "outputs": [
    {
     "name": "stdout",
     "output_type": "stream",
     "text": [
      "Model: \"sequential_3\"\n",
      "_________________________________________________________________\n",
      "Layer (type)                 Output Shape              Param #   \n",
      "=================================================================\n",
      "bidirectional_3 (Bidirection (None, 50, 40)            7360      \n",
      "_________________________________________________________________\n",
      "dropout_6 (Dropout)          (None, 50, 40)            0         \n",
      "_________________________________________________________________\n",
      "lstm_7 (LSTM)                (None, 50)                18200     \n",
      "_________________________________________________________________\n",
      "dropout_7 (Dropout)          (None, 50)                0         \n",
      "_________________________________________________________________\n",
      "dense_3 (Dense)              (None, 1)                 51        \n",
      "_________________________________________________________________\n",
      "activation_3 (Activation)    (None, 1)                 0         \n",
      "=================================================================\n",
      "Total params: 25,611\n",
      "Trainable params: 25,611\n",
      "Non-trainable params: 0\n",
      "_________________________________________________________________\n",
      "None\n",
      "Epoch 1/5\n",
      "4636/4636 - 42s - loss: 2262.1511 - mse: 2262.1511 - r2_keras: -8.2546e-01 - val_loss: 1279.2153 - val_mse: 1279.2153 - val_r2_keras: -1.2523e+10\n",
      "Epoch 2/5\n",
      "4636/4636 - 38s - loss: 958.8745 - mse: 958.8745 - r2_keras: 0.2804 - val_loss: 761.5052 - val_mse: 761.5052 - val_r2_keras: -1.9860e+10\n",
      "Epoch 3/5\n",
      "4636/4636 - 38s - loss: 761.1247 - mse: 761.1247 - r2_keras: 0.4247 - val_loss: 624.5723 - val_mse: 624.5723 - val_r2_keras: -1.4987e+10\n",
      "Epoch 4/5\n",
      "4636/4636 - 38s - loss: 671.2716 - mse: 671.2716 - r2_keras: -1.3913e+07 - val_loss: 953.3662 - val_mse: 953.3662 - val_r2_keras: -3.1658e+09\n",
      "Epoch 5/5\n",
      "4636/4636 - 38s - loss: 580.7578 - mse: 580.7578 - r2_keras: -1.8248e+07 - val_loss: 486.1125 - val_mse: 486.1125 - val_r2_keras: -7.0563e+09\n"
     ]
    }
   ],
   "source": [
    "# Building the Deep Learning Architecture\n",
    "\n",
    "# Defining the features to be fed into the input of the layers in the Deep Learning Model\n",
    "nb_features = seq_array.shape[2]\n",
    "nb_out = label_array.shape[1]\n",
    "\n",
    "# Sequential Model\n",
    "model = Sequential()\n",
    "# Add a Bi-LSTM Layer\n",
    "model.add(Bidirectional(LSTM(20, return_sequences=True), input_shape=(sequence_length, nb_features)))\n",
    "# Add a Dropout Layer after the Bi-LSTM Layer to minimize overfitting  \n",
    "model.add(Dropout(0.2))\n",
    "# Add a LSTM Layer\n",
    "model.add(LSTM(units=50,return_sequences=False, activation = 'tanh'))\n",
    "# Add a Dropout Layer after the LSTM Layer to minimize overfitting  \n",
    "model.add(Dropout(0.2))\n",
    "# Dense Layer\n",
    "model.add(Dense(units=nb_out))\n",
    "# Activation Function \n",
    "model.add(Activation(\"linear\"))\n",
    "# Compile model, set metrics for evaluation\n",
    "model.compile(loss='mean_squared_error', optimizer='rmsprop',metrics=['mse',r2_keras])\n",
    "# For model observation\n",
    "print(model.summary())\n",
    "\n",
    "# Fit the Deep Learning network on our training data\n",
    "history = model.fit(seq_array, label_array, epochs=5, batch_size=10, validation_split=0.05, verbose=2,\n",
    "          callbacks = [keras.callbacks.EarlyStopping(monitor='val_loss', min_delta=0, patience=10, verbose=0, mode='min'),\n",
    "                       keras.callbacks.ModelCheckpoint(model_path,monitor='val_loss', save_best_only=True, mode='min', verbose=0)])\n"
   ]
  },
  {
   "cell_type": "code",
   "execution_count": 90,
   "metadata": {
    "colab": {
     "base_uri": "https://localhost:8080/"
    },
    "id": "NxCoSBIU6KIS",
    "outputId": "1387c284-d790-4bc6-c5c9-67b59ea9dce6"
   },
   "outputs": [
    {
     "name": "stdout",
     "output_type": "stream",
     "text": [
      "244/244 [==============================] - 2s 6ms/step - loss: 423.8772 - mse: 423.8772 - r2_keras: -7678117376.0000\n",
      "\n",
      "MSE: 423.877197265625\n",
      "\n",
      "R^2: -7678117376.0\n"
     ]
    }
   ],
   "source": [
    "# Metrics from fitting the model on our Training Data\n",
    "scores = model.evaluate(seq_array, label_array, verbose=1, batch_size=200)\n",
    "print('\\nMSE: {}'.format(scores[1]))\n",
    "print('\\nR^2: {}'.format(scores[2]))"
   ]
  },
  {
   "cell_type": "code",
   "execution_count": 91,
   "metadata": {
    "colab": {
     "base_uri": "https://localhost:8080/"
    },
    "id": "kX9Si6OrU7js",
    "outputId": "32245ed1-7706-4c7e-8d8d-ab0486937f82"
   },
   "outputs": [
    {
     "name": "stdout",
     "output_type": "stream",
     "text": [
      "Adjusted R2:\n",
      "-7682053015.276341\n"
     ]
    }
   ],
   "source": [
    "# Adjusted R2 score\n",
    "def adjusted_r2(r2, p, n):\n",
    "  numerator = (1-r2)*(n-1)\n",
    "  denom = n - p - 1\n",
    "  result = 1 - (numerator/denom)\n",
    "  return result\n",
    "\n",
    "print('Adjusted R2:')\n",
    "print(adjusted_r2(scores[2], nb_features, len(label_array)))\n",
    "\n"
   ]
  },
  {
   "cell_type": "code",
   "execution_count": 92,
   "metadata": {
    "id": "zdTs1FAP6UXP"
   },
   "outputs": [],
   "source": [
    "# Preparing Test Data to be fed into our model for evaluation\n",
    "seq_array_test_last = [test_df[test_df['id']==id][sequence_cols].values[-sequence_length:] \n",
    "                       for id in test_df['id'].unique() if len(test_df[test_df['id']==id]) >= sequence_length]\n",
    "\n",
    "seq_array_test_last = np.asarray(seq_array_test_last).astype(np.float32)"
   ]
  },
  {
   "cell_type": "code",
   "execution_count": 93,
   "metadata": {
    "id": "I_1VG4pA7ISQ"
   },
   "outputs": [],
   "source": [
    "# Preparing Test Data to be fed into our model for evaluation\n",
    "y_mask = [len(test_df[test_df['id']==id]) >= sequence_length for id in test_df['id'].unique()]\n",
    "label_array_test_last = test_df.groupby('id')['RUL'].nth(-1)[y_mask].values\n",
    "label_array_test_last = label_array_test_last.reshape(label_array_test_last.shape[0],1).astype(np.float32)"
   ]
  },
  {
   "cell_type": "code",
   "execution_count": 94,
   "metadata": {
    "colab": {
     "base_uri": "https://localhost:8080/"
    },
    "id": "XkPBwLRy7Jat",
    "outputId": "5614e807-d9fc-4255-9d26-566c98c9e161"
   },
   "outputs": [
    {
     "name": "stdout",
     "output_type": "stream",
     "text": [
      "2/2 [==============================] - 0s 10ms/step - loss: 489.9066 - mse: 489.9066 - r2_keras: 0.7327\n",
      "\n",
      "MSE: 489.9066467285156\n",
      "\n",
      "R^2: 0.7327000498771667\n",
      "\n",
      "RMSE:\n",
      "22.13383488527272\n"
     ]
    }
   ],
   "source": [
    "# Test Data Metrics after running our model\n",
    "scores_test = model.evaluate(seq_array_test_last, label_array_test_last, verbose = 1, batch_size = 200)\n",
    "print('\\nMSE: {}'.format(scores_test[1]))\n",
    "print('\\nR^2: {}'.format(scores_test[2]))\n",
    "print('\\nRMSE:')\n",
    "print(math.sqrt(scores_test[1]))"
   ]
  },
  {
   "cell_type": "code",
   "execution_count": 95,
   "metadata": {
    "colab": {
     "base_uri": "https://localhost:8080/"
    },
    "id": "ALDR7gbrI6Ve",
    "outputId": "47495a8b-a162-41e1-e03e-503bd6d82f69"
   },
   "outputs": [
    {
     "data": {
      "text/plain": [
       "array([[ 61.119747],\n",
       "       [ 84.516396],\n",
       "       [107.9626  ],\n",
       "       [101.12253 ],\n",
       "       [103.51552 ],\n",
       "       [105.228966],\n",
       "       [106.13786 ],\n",
       "       [ 15.826973],\n",
       "       [105.5653  ],\n",
       "       [112.96311 ],\n",
       "       [ 21.371754],\n",
       "       [ 94.98242 ],\n",
       "       [ 85.68119 ],\n",
       "       [ 30.68042 ],\n",
       "       [107.004196],\n",
       "       [ 87.54579 ],\n",
       "       [ 93.14967 ],\n",
       "       [ 72.46449 ],\n",
       "       [ 94.12848 ],\n",
       "       [ 27.963375],\n",
       "       [ 63.953716],\n",
       "       [101.10314 ],\n",
       "       [ 40.774532],\n",
       "       [101.35358 ],\n",
       "       [ 79.699196],\n",
       "       [ 87.5979  ],\n",
       "       [ 99.423615],\n",
       "       [ 24.695074],\n",
       "       [ 29.905327],\n",
       "       [113.3181  ],\n",
       "       [ 96.58132 ],\n",
       "       [ 32.96749 ],\n",
       "       [ 84.08747 ],\n",
       "       [ 78.81194 ],\n",
       "       [ 39.701954],\n",
       "       [ 94.39746 ],\n",
       "       [ 25.379112],\n",
       "       [ 93.17159 ],\n",
       "       [ 61.29906 ],\n",
       "       [ 97.88045 ],\n",
       "       [ 66.202156],\n",
       "       [101.51052 ],\n",
       "       [ 29.547886],\n",
       "       [ 80.74256 ],\n",
       "       [ 44.455814],\n",
       "       [103.78311 ],\n",
       "       [113.779434],\n",
       "       [120.94594 ],\n",
       "       [113.46089 ],\n",
       "       [101.60417 ],\n",
       "       [110.342834],\n",
       "       [ 85.18824 ],\n",
       "       [112.97254 ],\n",
       "       [ 24.949188],\n",
       "       [ 97.69264 ],\n",
       "       [ 58.80828 ],\n",
       "       [ 55.277576],\n",
       "       [ 98.12356 ],\n",
       "       [ 74.61504 ],\n",
       "       [ 17.086615],\n",
       "       [ 99.19293 ],\n",
       "       [ 64.462   ],\n",
       "       [ 55.198936],\n",
       "       [ 18.278019],\n",
       "       [ 59.20251 ],\n",
       "       [ 16.905056],\n",
       "       [114.017975],\n",
       "       [ 44.64338 ],\n",
       "       [110.742165],\n",
       "       [100.6855  ],\n",
       "       [ 90.2449  ],\n",
       "       [106.3067  ],\n",
       "       [ 82.89307 ],\n",
       "       [ 95.00779 ],\n",
       "       [113.06762 ],\n",
       "       [ 29.315794],\n",
       "       [103.13422 ],\n",
       "       [112.83184 ],\n",
       "       [104.12076 ],\n",
       "       [ 77.430275],\n",
       "       [107.90268 ],\n",
       "       [ 87.30375 ],\n",
       "       [ 84.24319 ],\n",
       "       [ 88.90848 ],\n",
       "       [ 75.18121 ],\n",
       "       [ 97.577835],\n",
       "       [112.94399 ],\n",
       "       [109.15246 ],\n",
       "       [105.01542 ],\n",
       "       [ 95.52281 ],\n",
       "       [108.29105 ],\n",
       "       [109.0161  ],\n",
       "       [ 68.61219 ],\n",
       "       [ 12.844962],\n",
       "       [ 16.209867],\n",
       "       [  9.32691 ],\n",
       "       [ 56.980186],\n",
       "       [117.93193 ],\n",
       "       [ 83.487946],\n",
       "       [ 84.09616 ],\n",
       "       [ 82.29604 ],\n",
       "       [106.72762 ],\n",
       "       [118.68254 ],\n",
       "       [ 79.21341 ],\n",
       "       [ 43.98778 ],\n",
       "       [ 97.02678 ],\n",
       "       [ 33.68232 ],\n",
       "       [ 32.274788],\n",
       "       [105.62999 ],\n",
       "       [ 41.12388 ],\n",
       "       [103.37468 ],\n",
       "       [ 11.949852],\n",
       "       [ 74.93882 ],\n",
       "       [ 91.27488 ],\n",
       "       [ 50.927326],\n",
       "       [116.64852 ],\n",
       "       [ 39.721092],\n",
       "       [ 73.11894 ],\n",
       "       [ 28.382338],\n",
       "       [106.3202  ],\n",
       "       [111.69588 ],\n",
       "       [103.58889 ],\n",
       "       [104.763725],\n",
       "       [ 82.59571 ],\n",
       "       [ 97.6103  ],\n",
       "       [120.18723 ],\n",
       "       [ 50.98642 ],\n",
       "       [ 19.207348],\n",
       "       [109.86072 ],\n",
       "       [ 85.40083 ],\n",
       "       [ 99.046295],\n",
       "       [112.816864],\n",
       "       [ 99.382126],\n",
       "       [116.14334 ],\n",
       "       [ 79.83585 ],\n",
       "       [ 92.842545],\n",
       "       [115.69141 ],\n",
       "       [ 78.71633 ],\n",
       "       [103.239525],\n",
       "       [ 88.23547 ],\n",
       "       [ 29.985334],\n",
       "       [ 51.30434 ],\n",
       "       [ 99.18822 ],\n",
       "       [ 97.493416],\n",
       "       [ 65.60719 ],\n",
       "       [ 38.15101 ],\n",
       "       [108.71917 ],\n",
       "       [ 21.77788 ],\n",
       "       [ 24.534784],\n",
       "       [102.80661 ],\n",
       "       [104.59178 ],\n",
       "       [ 87.72927 ],\n",
       "       [102.40955 ],\n",
       "       [108.024216],\n",
       "       [111.65102 ],\n",
       "       [110.08084 ],\n",
       "       [105.12339 ],\n",
       "       [ 84.877   ],\n",
       "       [ 80.726875],\n",
       "       [ 26.495426],\n",
       "       [ 41.13996 ],\n",
       "       [ 85.29527 ],\n",
       "       [ 82.53053 ],\n",
       "       [ 58.87918 ],\n",
       "       [100.82701 ],\n",
       "       [ 36.133648],\n",
       "       [ 22.132298],\n",
       "       [ 17.980215],\n",
       "       [107.11252 ],\n",
       "       [ 65.52616 ],\n",
       "       [ 14.82881 ],\n",
       "       [ 54.5434  ],\n",
       "       [ 40.900085],\n",
       "       [ 85.59223 ],\n",
       "       [101.66582 ],\n",
       "       [ 84.026405],\n",
       "       [116.50529 ],\n",
       "       [ 96.80557 ],\n",
       "       [ 93.9095  ],\n",
       "       [ 19.06759 ],\n",
       "       [107.853134],\n",
       "       [112.69586 ],\n",
       "       [ 55.721622],\n",
       "       [ 15.841584],\n",
       "       [ 71.24415 ],\n",
       "       [100.43512 ],\n",
       "       [ 99.69087 ],\n",
       "       [ 16.324097],\n",
       "       [119.82856 ],\n",
       "       [102.61683 ],\n",
       "       [ 98.633766],\n",
       "       [104.60399 ],\n",
       "       [ 94.72006 ],\n",
       "       [ 32.908993],\n",
       "       [103.19426 ],\n",
       "       [108.431335],\n",
       "       [ 86.30219 ],\n",
       "       [ 43.01527 ],\n",
       "       [ 96.50636 ],\n",
       "       [108.77341 ],\n",
       "       [ 22.308739],\n",
       "       [ 64.47699 ],\n",
       "       [111.563545],\n",
       "       [ 87.853745],\n",
       "       [113.57245 ],\n",
       "       [ 99.37163 ],\n",
       "       [ 69.9315  ],\n",
       "       [ 60.067707],\n",
       "       [ 40.289104],\n",
       "       [114.07884 ],\n",
       "       [117.97074 ],\n",
       "       [113.78515 ],\n",
       "       [ 89.47559 ],\n",
       "       [ 51.789474],\n",
       "       [101.92847 ],\n",
       "       [102.35599 ],\n",
       "       [ 57.902073],\n",
       "       [ 49.097706],\n",
       "       [ 93.19769 ],\n",
       "       [ 23.04071 ],\n",
       "       [ 19.916395],\n",
       "       [ 48.90377 ],\n",
       "       [ 96.42241 ],\n",
       "       [ 99.96106 ],\n",
       "       [ 63.39161 ],\n",
       "       [117.25323 ],\n",
       "       [ 96.86998 ],\n",
       "       [ 26.040955]], dtype=float32)"
      ]
     },
     "execution_count": 95,
     "metadata": {
      "tags": []
     },
     "output_type": "execute_result"
    }
   ],
   "source": [
    "# To obtain our model's prediction on the Test Data\n",
    "scores_test = model.predict(seq_array_test_last)\n",
    "scores_test\n"
   ]
  },
  {
   "cell_type": "code",
   "execution_count": 97,
   "metadata": {
    "colab": {
     "base_uri": "https://localhost:8080/"
    },
    "id": "kMJMIj1VKeol",
    "outputId": "6adb8f31-540c-4cc7-fe0b-d902ff30af3f"
   },
   "outputs": [
    {
     "data": {
      "text/plain": [
       "22.133837"
      ]
     },
     "execution_count": 97,
     "metadata": {
      "tags": []
     },
     "output_type": "execute_result"
    }
   ],
   "source": [
    "from sklearn.metrics import mean_squared_error\n",
    "rms = mean_squared_error(label_array_test_last, scores_test, squared=False)\n",
    "rms"
   ]
  },
  {
   "cell_type": "code",
   "execution_count": 98,
   "metadata": {
    "colab": {
     "base_uri": "https://localhost:8080/"
    },
    "id": "mPguKb1_NMd3",
    "outputId": "df4c8427-7756-4c82-9fd2-f5c4f4725a80"
   },
   "outputs": [
    {
     "name": "stdout",
     "output_type": "stream",
     "text": [
      "0.727826131025361\n"
     ]
    }
   ],
   "source": [
    "from sklearn.metrics import mean_squared_error, mean_absolute_error, r2_score\n",
    "print(r2_score(label_array_test_last, scores_test))"
   ]
  }
 ],
 "metadata": {
  "accelerator": "GPU",
  "colab": {
   "collapsed_sections": [],
   "name": "[Final] good Deep-learning (DataSet4)  (Modelling for Capstone) ",
   "provenance": []
  },
  "kernelspec": {
   "display_name": "Python 3",
   "language": "python",
   "name": "python3"
  },
  "language_info": {
   "codemirror_mode": {
    "name": "ipython",
    "version": 3
   },
   "file_extension": ".py",
   "mimetype": "text/x-python",
   "name": "python",
   "nbconvert_exporter": "python",
   "pygments_lexer": "ipython3",
   "version": "3.7.6"
  }
 },
 "nbformat": 4,
 "nbformat_minor": 1
}
