{
 "cells": [
  {
   "cell_type": "code",
   "execution_count": 1,
   "metadata": {},
   "outputs": [],
   "source": [
    "# Without autoencoders chech anomalies\n",
    "import h2o\n",
    "#import thread\n",
    "import pandas as pd\n",
    "import numpy as np\n",
    "#from dataprocessor import Filter\n",
    "from h2o.estimators import H2ODeepLearningEstimator\n",
    "from h2o.estimators.gbm import H2OGradientBoostingEstimator\n",
    "#from parser import DataFrameParser\n",
    "#from presenting import Chart\n",
    "from sklearn.metrics import r2_score, mean_absolute_error, mean_squared_error"
   ]
  },
  {
   "cell_type": "code",
   "execution_count": 2,
   "metadata": {},
   "outputs": [
    {
     "name": "stdout",
     "output_type": "stream",
     "text": [
      "Checking whether there is an H2O instance running at http://localhost:54321 ..... not found.\n",
      "Attempting to start a local H2O server...\n",
      "  Java Version: java version \"11.0.10\" 2021-01-19 LTS; Java(TM) SE Runtime Environment 18.9 (build 11.0.10+8-LTS-162); Java HotSpot(TM) 64-Bit Server VM 18.9 (build 11.0.10+8-LTS-162, mixed mode)\n",
      "  Starting server from /Users/edison/opt/anaconda3/lib/python3.8/site-packages/h2o/backend/bin/h2o.jar\n",
      "  Ice root: /var/folders/18/s0tmgl2s2sz19j6tcs0sqrcw0000gn/T/tmp0fwkrzpg\n",
      "  JVM stdout: /var/folders/18/s0tmgl2s2sz19j6tcs0sqrcw0000gn/T/tmp0fwkrzpg/h2o_edison_started_from_python.out\n",
      "  JVM stderr: /var/folders/18/s0tmgl2s2sz19j6tcs0sqrcw0000gn/T/tmp0fwkrzpg/h2o_edison_started_from_python.err\n",
      "  Server is running at http://127.0.0.1:54321\n",
      "Connecting to H2O server at http://127.0.0.1:54321 ... successful.\n"
     ]
    },
    {
     "data": {
      "text/html": [
       "<div style=\"overflow:auto\"><table style=\"width:50%\"><tr><td>H2O_cluster_uptime:</td>\n",
       "<td>02 secs</td></tr>\n",
       "<tr><td>H2O_cluster_timezone:</td>\n",
       "<td>Asia/Singapore</td></tr>\n",
       "<tr><td>H2O_data_parsing_timezone:</td>\n",
       "<td>UTC</td></tr>\n",
       "<tr><td>H2O_cluster_version:</td>\n",
       "<td>3.32.0.4</td></tr>\n",
       "<tr><td>H2O_cluster_version_age:</td>\n",
       "<td>1 month and 1 day </td></tr>\n",
       "<tr><td>H2O_cluster_name:</td>\n",
       "<td>H2O_from_python_edison_3o9k3w</td></tr>\n",
       "<tr><td>H2O_cluster_total_nodes:</td>\n",
       "<td>1</td></tr>\n",
       "<tr><td>H2O_cluster_free_memory:</td>\n",
       "<td>2 Gb</td></tr>\n",
       "<tr><td>H2O_cluster_total_cores:</td>\n",
       "<td>4</td></tr>\n",
       "<tr><td>H2O_cluster_allowed_cores:</td>\n",
       "<td>4</td></tr>\n",
       "<tr><td>H2O_cluster_status:</td>\n",
       "<td>accepting new members, healthy</td></tr>\n",
       "<tr><td>H2O_connection_url:</td>\n",
       "<td>http://127.0.0.1:54321</td></tr>\n",
       "<tr><td>H2O_connection_proxy:</td>\n",
       "<td>{\"http\": null, \"https\": null}</td></tr>\n",
       "<tr><td>H2O_internal_security:</td>\n",
       "<td>False</td></tr>\n",
       "<tr><td>H2O_API_Extensions:</td>\n",
       "<td>Amazon S3, XGBoost, Algos, AutoML, Core V3, TargetEncoder, Core V4</td></tr>\n",
       "<tr><td>Python_version:</td>\n",
       "<td>3.8.3 final</td></tr></table></div>"
      ],
      "text/plain": [
       "--------------------------  ------------------------------------------------------------------\n",
       "H2O_cluster_uptime:         02 secs\n",
       "H2O_cluster_timezone:       Asia/Singapore\n",
       "H2O_data_parsing_timezone:  UTC\n",
       "H2O_cluster_version:        3.32.0.4\n",
       "H2O_cluster_version_age:    1 month and 1 day\n",
       "H2O_cluster_name:           H2O_from_python_edison_3o9k3w\n",
       "H2O_cluster_total_nodes:    1\n",
       "H2O_cluster_free_memory:    2 Gb\n",
       "H2O_cluster_total_cores:    4\n",
       "H2O_cluster_allowed_cores:  4\n",
       "H2O_cluster_status:         accepting new members, healthy\n",
       "H2O_connection_url:         http://127.0.0.1:54321\n",
       "H2O_connection_proxy:       {\"http\": null, \"https\": null}\n",
       "H2O_internal_security:      False\n",
       "H2O_API_Extensions:         Amazon S3, XGBoost, Algos, AutoML, Core V3, TargetEncoder, Core V4\n",
       "Python_version:             3.8.3 final\n",
       "--------------------------  ------------------------------------------------------------------"
      ]
     },
     "metadata": {},
     "output_type": "display_data"
    }
   ],
   "source": [
    "# Initialize h2o server\n",
    "h2o.init()"
   ]
  },
  {
   "cell_type": "code",
   "execution_count": 3,
   "metadata": {},
   "outputs": [],
   "source": [
    "# Data\n",
    "df_train = pd.read_csv(\"CMaps/train_FD001.txt\", sep=\" \", header=None)\n",
    "df_test = pd.read_csv(\"CMaps/test_FD001.txt\", sep=\" \", header=None)\n",
    "df_rul = pd.read_csv(\"CMaps/RUL_FD001.txt\", sep=\" \", header=None)"
   ]
  },
  {
   "cell_type": "code",
   "execution_count": 4,
   "metadata": {},
   "outputs": [
    {
     "name": "stdout",
     "output_type": "stream",
     "text": [
      "Train: (20631, 28)\n",
      "Test: (13096, 28)\n",
      "RUL: (100, 2)\n"
     ]
    }
   ],
   "source": [
    "print(f\"Train: {df_train.shape}\")\n",
    "print(f\"Test: {df_test.shape}\")\n",
    "print(f\"RUL: {df_rul.shape}\")"
   ]
  },
  {
   "cell_type": "code",
   "execution_count": 5,
   "metadata": {},
   "outputs": [],
   "source": [
    "columns = ['Engine_ID', 'Cycle',\n",
    "          'ALT', 'Mach', 'TRA',\n",
    "          'T2', 'T24', 'T30', 'T50',\n",
    "           'P2', 'P15', 'P30',\n",
    "           'Nf', 'Nc', 'epr', 'Ps30', 'phi',\n",
    "           'NRf', 'NRc', 'BPR', 'farB',\n",
    "           'htBleed', 'Nf_dmd', 'PCNfR_dmd',\n",
    "           'W31', 'W32', \"SD_22\", \"SD_23\"\n",
    "          ]"
   ]
  },
  {
   "cell_type": "code",
   "execution_count": 6,
   "metadata": {},
   "outputs": [],
   "source": [
    "df_train.columns = columns\n",
    "df_test.columns = columns"
   ]
  },
  {
   "cell_type": "code",
   "execution_count": 7,
   "metadata": {},
   "outputs": [
    {
     "name": "stdout",
     "output_type": "stream",
     "text": [
      "df_train unique engines: 100\n",
      "df_test unique engines: 100\n"
     ]
    }
   ],
   "source": [
    "# Count number of unique engines\n",
    "print(f\"df_train unique engines: {df_train['Engine_ID'].nunique()}\")\n",
    "print(f\"df_test unique engines: {df_test['Engine_ID'].nunique()}\")"
   ]
  },
  {
   "cell_type": "code",
   "execution_count": 8,
   "metadata": {},
   "outputs": [
    {
     "name": "stdout",
     "output_type": "stream",
     "text": [
      "df_rul engines count: 100\n"
     ]
    }
   ],
   "source": [
    "print(f\"df_rul engines count: {len(df_rul)}\")"
   ]
  },
  {
   "cell_type": "code",
   "execution_count": 9,
   "metadata": {},
   "outputs": [],
   "source": [
    "#function for preparing training data and forming a RUL column with information about the remaining\n",
    "# before breaking cycles\n",
    "def prepare_train_data(data, factor = 0):\n",
    "    df = data.copy()\n",
    "    fd_RUL = df.groupby('Engine_ID')['Cycle'].max().reset_index()\n",
    "    fd_RUL = pd.DataFrame(fd_RUL)\n",
    "    fd_RUL.columns = ['Engine_ID','max']\n",
    "    df = df.merge(fd_RUL, on=['Engine_ID'], how='left')\n",
    "    df['RUL'] = df['max'] - df['Cycle']\n",
    "    df.drop(columns=['max'],inplace = True)\n",
    "    \n",
    "    return df[df['Cycle'] > factor]"
   ]
  },
  {
   "cell_type": "code",
   "execution_count": 10,
   "metadata": {},
   "outputs": [],
   "source": [
    "df_train = prepare_train_data(df_train, factor = 0)"
   ]
  },
  {
   "cell_type": "code",
   "execution_count": 11,
   "metadata": {},
   "outputs": [
    {
     "name": "stdout",
     "output_type": "stream",
     "text": [
      "100\n"
     ]
    }
   ],
   "source": [
    "# Add RUL to df_test\n",
    "\n",
    "df_test = df_test.groupby('Engine_ID').last().reset_index()\n",
    "print(len(df_test))\n",
    "\n",
    "# Add max RUL to df_test\n",
    "# Make list of df_rul\n",
    "max_rul = df_rul[0].tolist() #len = 100\n",
    "\n",
    "# Create actual RUL column: MAX_RUL - Cycle\n",
    "df_test[\"RUL\"] = max_rul"
   ]
  },
  {
   "cell_type": "code",
   "execution_count": 12,
   "metadata": {},
   "outputs": [
    {
     "data": {
      "text/html": [
       "<div>\n",
       "<style scoped>\n",
       "    .dataframe tbody tr th:only-of-type {\n",
       "        vertical-align: middle;\n",
       "    }\n",
       "\n",
       "    .dataframe tbody tr th {\n",
       "        vertical-align: top;\n",
       "    }\n",
       "\n",
       "    .dataframe thead th {\n",
       "        text-align: right;\n",
       "    }\n",
       "</style>\n",
       "<table border=\"1\" class=\"dataframe\">\n",
       "  <thead>\n",
       "    <tr style=\"text-align: right;\">\n",
       "      <th></th>\n",
       "      <th>Engine_ID</th>\n",
       "      <th>Cycle</th>\n",
       "      <th>ALT</th>\n",
       "      <th>Mach</th>\n",
       "      <th>TRA</th>\n",
       "      <th>T2</th>\n",
       "      <th>T24</th>\n",
       "      <th>T30</th>\n",
       "      <th>T50</th>\n",
       "      <th>P2</th>\n",
       "      <th>...</th>\n",
       "      <th>BPR</th>\n",
       "      <th>farB</th>\n",
       "      <th>htBleed</th>\n",
       "      <th>Nf_dmd</th>\n",
       "      <th>PCNfR_dmd</th>\n",
       "      <th>W31</th>\n",
       "      <th>W32</th>\n",
       "      <th>SD_22</th>\n",
       "      <th>SD_23</th>\n",
       "      <th>RUL</th>\n",
       "    </tr>\n",
       "  </thead>\n",
       "  <tbody>\n",
       "    <tr>\n",
       "      <th>0</th>\n",
       "      <td>1</td>\n",
       "      <td>1</td>\n",
       "      <td>-0.0007</td>\n",
       "      <td>-0.0004</td>\n",
       "      <td>100.0</td>\n",
       "      <td>518.67</td>\n",
       "      <td>641.82</td>\n",
       "      <td>1589.70</td>\n",
       "      <td>1400.60</td>\n",
       "      <td>14.62</td>\n",
       "      <td>...</td>\n",
       "      <td>8.4195</td>\n",
       "      <td>0.03</td>\n",
       "      <td>392</td>\n",
       "      <td>2388</td>\n",
       "      <td>100.0</td>\n",
       "      <td>39.06</td>\n",
       "      <td>23.4190</td>\n",
       "      <td>NaN</td>\n",
       "      <td>NaN</td>\n",
       "      <td>191</td>\n",
       "    </tr>\n",
       "    <tr>\n",
       "      <th>1</th>\n",
       "      <td>1</td>\n",
       "      <td>2</td>\n",
       "      <td>0.0019</td>\n",
       "      <td>-0.0003</td>\n",
       "      <td>100.0</td>\n",
       "      <td>518.67</td>\n",
       "      <td>642.15</td>\n",
       "      <td>1591.82</td>\n",
       "      <td>1403.14</td>\n",
       "      <td>14.62</td>\n",
       "      <td>...</td>\n",
       "      <td>8.4318</td>\n",
       "      <td>0.03</td>\n",
       "      <td>392</td>\n",
       "      <td>2388</td>\n",
       "      <td>100.0</td>\n",
       "      <td>39.00</td>\n",
       "      <td>23.4236</td>\n",
       "      <td>NaN</td>\n",
       "      <td>NaN</td>\n",
       "      <td>190</td>\n",
       "    </tr>\n",
       "    <tr>\n",
       "      <th>2</th>\n",
       "      <td>1</td>\n",
       "      <td>3</td>\n",
       "      <td>-0.0043</td>\n",
       "      <td>0.0003</td>\n",
       "      <td>100.0</td>\n",
       "      <td>518.67</td>\n",
       "      <td>642.35</td>\n",
       "      <td>1587.99</td>\n",
       "      <td>1404.20</td>\n",
       "      <td>14.62</td>\n",
       "      <td>...</td>\n",
       "      <td>8.4178</td>\n",
       "      <td>0.03</td>\n",
       "      <td>390</td>\n",
       "      <td>2388</td>\n",
       "      <td>100.0</td>\n",
       "      <td>38.95</td>\n",
       "      <td>23.3442</td>\n",
       "      <td>NaN</td>\n",
       "      <td>NaN</td>\n",
       "      <td>189</td>\n",
       "    </tr>\n",
       "    <tr>\n",
       "      <th>3</th>\n",
       "      <td>1</td>\n",
       "      <td>4</td>\n",
       "      <td>0.0007</td>\n",
       "      <td>0.0000</td>\n",
       "      <td>100.0</td>\n",
       "      <td>518.67</td>\n",
       "      <td>642.35</td>\n",
       "      <td>1582.79</td>\n",
       "      <td>1401.87</td>\n",
       "      <td>14.62</td>\n",
       "      <td>...</td>\n",
       "      <td>8.3682</td>\n",
       "      <td>0.03</td>\n",
       "      <td>392</td>\n",
       "      <td>2388</td>\n",
       "      <td>100.0</td>\n",
       "      <td>38.88</td>\n",
       "      <td>23.3739</td>\n",
       "      <td>NaN</td>\n",
       "      <td>NaN</td>\n",
       "      <td>188</td>\n",
       "    </tr>\n",
       "    <tr>\n",
       "      <th>4</th>\n",
       "      <td>1</td>\n",
       "      <td>5</td>\n",
       "      <td>-0.0019</td>\n",
       "      <td>-0.0002</td>\n",
       "      <td>100.0</td>\n",
       "      <td>518.67</td>\n",
       "      <td>642.37</td>\n",
       "      <td>1582.85</td>\n",
       "      <td>1406.22</td>\n",
       "      <td>14.62</td>\n",
       "      <td>...</td>\n",
       "      <td>8.4294</td>\n",
       "      <td>0.03</td>\n",
       "      <td>393</td>\n",
       "      <td>2388</td>\n",
       "      <td>100.0</td>\n",
       "      <td>38.90</td>\n",
       "      <td>23.4044</td>\n",
       "      <td>NaN</td>\n",
       "      <td>NaN</td>\n",
       "      <td>187</td>\n",
       "    </tr>\n",
       "    <tr>\n",
       "      <th>...</th>\n",
       "      <td>...</td>\n",
       "      <td>...</td>\n",
       "      <td>...</td>\n",
       "      <td>...</td>\n",
       "      <td>...</td>\n",
       "      <td>...</td>\n",
       "      <td>...</td>\n",
       "      <td>...</td>\n",
       "      <td>...</td>\n",
       "      <td>...</td>\n",
       "      <td>...</td>\n",
       "      <td>...</td>\n",
       "      <td>...</td>\n",
       "      <td>...</td>\n",
       "      <td>...</td>\n",
       "      <td>...</td>\n",
       "      <td>...</td>\n",
       "      <td>...</td>\n",
       "      <td>...</td>\n",
       "      <td>...</td>\n",
       "      <td>...</td>\n",
       "    </tr>\n",
       "    <tr>\n",
       "      <th>20626</th>\n",
       "      <td>100</td>\n",
       "      <td>196</td>\n",
       "      <td>-0.0004</td>\n",
       "      <td>-0.0003</td>\n",
       "      <td>100.0</td>\n",
       "      <td>518.67</td>\n",
       "      <td>643.49</td>\n",
       "      <td>1597.98</td>\n",
       "      <td>1428.63</td>\n",
       "      <td>14.62</td>\n",
       "      <td>...</td>\n",
       "      <td>8.4956</td>\n",
       "      <td>0.03</td>\n",
       "      <td>397</td>\n",
       "      <td>2388</td>\n",
       "      <td>100.0</td>\n",
       "      <td>38.49</td>\n",
       "      <td>22.9735</td>\n",
       "      <td>NaN</td>\n",
       "      <td>NaN</td>\n",
       "      <td>4</td>\n",
       "    </tr>\n",
       "    <tr>\n",
       "      <th>20627</th>\n",
       "      <td>100</td>\n",
       "      <td>197</td>\n",
       "      <td>-0.0016</td>\n",
       "      <td>-0.0005</td>\n",
       "      <td>100.0</td>\n",
       "      <td>518.67</td>\n",
       "      <td>643.54</td>\n",
       "      <td>1604.50</td>\n",
       "      <td>1433.58</td>\n",
       "      <td>14.62</td>\n",
       "      <td>...</td>\n",
       "      <td>8.5139</td>\n",
       "      <td>0.03</td>\n",
       "      <td>395</td>\n",
       "      <td>2388</td>\n",
       "      <td>100.0</td>\n",
       "      <td>38.30</td>\n",
       "      <td>23.1594</td>\n",
       "      <td>NaN</td>\n",
       "      <td>NaN</td>\n",
       "      <td>3</td>\n",
       "    </tr>\n",
       "    <tr>\n",
       "      <th>20628</th>\n",
       "      <td>100</td>\n",
       "      <td>198</td>\n",
       "      <td>0.0004</td>\n",
       "      <td>0.0000</td>\n",
       "      <td>100.0</td>\n",
       "      <td>518.67</td>\n",
       "      <td>643.42</td>\n",
       "      <td>1602.46</td>\n",
       "      <td>1428.18</td>\n",
       "      <td>14.62</td>\n",
       "      <td>...</td>\n",
       "      <td>8.5646</td>\n",
       "      <td>0.03</td>\n",
       "      <td>398</td>\n",
       "      <td>2388</td>\n",
       "      <td>100.0</td>\n",
       "      <td>38.44</td>\n",
       "      <td>22.9333</td>\n",
       "      <td>NaN</td>\n",
       "      <td>NaN</td>\n",
       "      <td>2</td>\n",
       "    </tr>\n",
       "    <tr>\n",
       "      <th>20629</th>\n",
       "      <td>100</td>\n",
       "      <td>199</td>\n",
       "      <td>-0.0011</td>\n",
       "      <td>0.0003</td>\n",
       "      <td>100.0</td>\n",
       "      <td>518.67</td>\n",
       "      <td>643.23</td>\n",
       "      <td>1605.26</td>\n",
       "      <td>1426.53</td>\n",
       "      <td>14.62</td>\n",
       "      <td>...</td>\n",
       "      <td>8.5389</td>\n",
       "      <td>0.03</td>\n",
       "      <td>395</td>\n",
       "      <td>2388</td>\n",
       "      <td>100.0</td>\n",
       "      <td>38.29</td>\n",
       "      <td>23.0640</td>\n",
       "      <td>NaN</td>\n",
       "      <td>NaN</td>\n",
       "      <td>1</td>\n",
       "    </tr>\n",
       "    <tr>\n",
       "      <th>20630</th>\n",
       "      <td>100</td>\n",
       "      <td>200</td>\n",
       "      <td>-0.0032</td>\n",
       "      <td>-0.0005</td>\n",
       "      <td>100.0</td>\n",
       "      <td>518.67</td>\n",
       "      <td>643.85</td>\n",
       "      <td>1600.38</td>\n",
       "      <td>1432.14</td>\n",
       "      <td>14.62</td>\n",
       "      <td>...</td>\n",
       "      <td>8.5036</td>\n",
       "      <td>0.03</td>\n",
       "      <td>396</td>\n",
       "      <td>2388</td>\n",
       "      <td>100.0</td>\n",
       "      <td>38.37</td>\n",
       "      <td>23.0522</td>\n",
       "      <td>NaN</td>\n",
       "      <td>NaN</td>\n",
       "      <td>0</td>\n",
       "    </tr>\n",
       "  </tbody>\n",
       "</table>\n",
       "<p>20631 rows × 29 columns</p>\n",
       "</div>"
      ],
      "text/plain": [
       "       Engine_ID  Cycle     ALT    Mach    TRA      T2     T24      T30  \\\n",
       "0              1      1 -0.0007 -0.0004  100.0  518.67  641.82  1589.70   \n",
       "1              1      2  0.0019 -0.0003  100.0  518.67  642.15  1591.82   \n",
       "2              1      3 -0.0043  0.0003  100.0  518.67  642.35  1587.99   \n",
       "3              1      4  0.0007  0.0000  100.0  518.67  642.35  1582.79   \n",
       "4              1      5 -0.0019 -0.0002  100.0  518.67  642.37  1582.85   \n",
       "...          ...    ...     ...     ...    ...     ...     ...      ...   \n",
       "20626        100    196 -0.0004 -0.0003  100.0  518.67  643.49  1597.98   \n",
       "20627        100    197 -0.0016 -0.0005  100.0  518.67  643.54  1604.50   \n",
       "20628        100    198  0.0004  0.0000  100.0  518.67  643.42  1602.46   \n",
       "20629        100    199 -0.0011  0.0003  100.0  518.67  643.23  1605.26   \n",
       "20630        100    200 -0.0032 -0.0005  100.0  518.67  643.85  1600.38   \n",
       "\n",
       "           T50     P2  ...     BPR  farB  htBleed  Nf_dmd  PCNfR_dmd    W31  \\\n",
       "0      1400.60  14.62  ...  8.4195  0.03      392    2388      100.0  39.06   \n",
       "1      1403.14  14.62  ...  8.4318  0.03      392    2388      100.0  39.00   \n",
       "2      1404.20  14.62  ...  8.4178  0.03      390    2388      100.0  38.95   \n",
       "3      1401.87  14.62  ...  8.3682  0.03      392    2388      100.0  38.88   \n",
       "4      1406.22  14.62  ...  8.4294  0.03      393    2388      100.0  38.90   \n",
       "...        ...    ...  ...     ...   ...      ...     ...        ...    ...   \n",
       "20626  1428.63  14.62  ...  8.4956  0.03      397    2388      100.0  38.49   \n",
       "20627  1433.58  14.62  ...  8.5139  0.03      395    2388      100.0  38.30   \n",
       "20628  1428.18  14.62  ...  8.5646  0.03      398    2388      100.0  38.44   \n",
       "20629  1426.53  14.62  ...  8.5389  0.03      395    2388      100.0  38.29   \n",
       "20630  1432.14  14.62  ...  8.5036  0.03      396    2388      100.0  38.37   \n",
       "\n",
       "           W32  SD_22  SD_23  RUL  \n",
       "0      23.4190    NaN    NaN  191  \n",
       "1      23.4236    NaN    NaN  190  \n",
       "2      23.3442    NaN    NaN  189  \n",
       "3      23.3739    NaN    NaN  188  \n",
       "4      23.4044    NaN    NaN  187  \n",
       "...        ...    ...    ...  ...  \n",
       "20626  22.9735    NaN    NaN    4  \n",
       "20627  23.1594    NaN    NaN    3  \n",
       "20628  22.9333    NaN    NaN    2  \n",
       "20629  23.0640    NaN    NaN    1  \n",
       "20630  23.0522    NaN    NaN    0  \n",
       "\n",
       "[20631 rows x 29 columns]"
      ]
     },
     "metadata": {},
     "output_type": "display_data"
    }
   ],
   "source": [
    "display(df_train)"
   ]
  },
  {
   "cell_type": "code",
   "execution_count": 13,
   "metadata": {},
   "outputs": [],
   "source": [
    "all_columns = list(df_train.columns)\n",
    "removing_columns = ['Engine_ID', 'Cycle', 'RUL', 'ALT', 'Mach', 'TRA']\n",
    "selected_columns = [x for x in all_columns if x not in removing_columns]"
   ]
  },
  {
   "cell_type": "code",
   "execution_count": 14,
   "metadata": {},
   "outputs": [],
   "source": [
    "def filterData(panda_frame, columns, removal_method, threshold):\n",
    "    # Anomaly index container\n",
    "    rm_index = []\n",
    "\n",
    "    # Select anomaly removal type\n",
    "    if removal_method == \"iqr\":\n",
    "        for column in columns:\n",
    "            series = panda_frame[column]\n",
    "            anomaly = iqr(series, threshold)\n",
    "            rm_index.extend(anomaly)\n",
    "    elif removal_method == \"threesigma\":\n",
    "        for column in columns:\n",
    "            series = panda_frame[column]\n",
    "            anomaly = iqr(series, threshold)\n",
    "            rm_index.extend(anomaly)\n",
    "\n",
    "    # Sort indexes\n",
    "    rm_index.sort()\n",
    "    anomaly_series = list(set(rm_index))\n",
    "\n",
    "    # Remove anomalies\n",
    "    p_filtered = panda_frame.drop(panda_frame.index[anomaly_series])\n",
    "    return p_filtered\n",
    "\n",
    "\n",
    "def iqr(series, threshold=3):\n",
    "    '''\n",
    "    Identify anomalies according to Inner-Quartile Range\n",
    "    IQR Rule\n",
    "    ----------------\n",
    "    Q25 = 25 th percentile\n",
    "    Q75 = 75 th percentile\n",
    "    IQR = Q75 - Q25 Inner quartile range\n",
    "    if abs(x-Q75) > 1.5 * IQR : A mild outlier\n",
    "    if abs(x-Q75) > 3.0 * IQR : An extreme outlier\n",
    "    :param series: input data array\n",
    "    :param threshold: 1.5 mild, 3 extreme\n",
    "    :return: Index array of where anomalies are\n",
    "    '''\n",
    "\n",
    "    series = np.array(list(series))\n",
    "    q25 = np.percentile(series, 25)\n",
    "    q75 = np.percentile(series, 75)\n",
    "    iqr = q75 - q25\n",
    "\n",
    "    anomaly_indexes = []\n",
    "    for i in range(series.size):\n",
    "        if (series[i] - q75) > threshold * iqr:\n",
    "            anomaly_indexes.append(i)\n",
    "\n",
    "    return anomaly_indexes"
   ]
  },
  {
   "cell_type": "code",
   "execution_count": 15,
   "metadata": {},
   "outputs": [],
   "source": [
    "filtered = filterData(panda_frame=df_train, columns=selected_columns, removal_method=\"iqr\", threshold=3)"
   ]
  },
  {
   "cell_type": "code",
   "execution_count": 16,
   "metadata": {},
   "outputs": [
    {
     "data": {
      "text/plain": [
       "(19812, 29)"
      ]
     },
     "execution_count": 16,
     "metadata": {},
     "output_type": "execute_result"
    }
   ],
   "source": [
    "filtered.shape"
   ]
  },
  {
   "cell_type": "code",
   "execution_count": 17,
   "metadata": {},
   "outputs": [
    {
     "name": "stdout",
     "output_type": "stream",
     "text": [
      "Parse progress: |█████████████████████████████████████████████████████████| 100%\n"
     ]
    },
    {
     "data": {
      "text/html": [
       "<table>\n",
       "<thead>\n",
       "<tr><th style=\"text-align: right;\">  Engine_ID</th><th style=\"text-align: right;\">  Cycle</th><th style=\"text-align: right;\">    ALT</th><th style=\"text-align: right;\">   Mach</th><th style=\"text-align: right;\">  TRA</th><th style=\"text-align: right;\">    T2</th><th style=\"text-align: right;\">   T24</th><th style=\"text-align: right;\">    T30</th><th style=\"text-align: right;\">    T50</th><th style=\"text-align: right;\">   P2</th><th style=\"text-align: right;\">  P15</th><th style=\"text-align: right;\">   P30</th><th style=\"text-align: right;\">     Nf</th><th style=\"text-align: right;\">     Nc</th><th style=\"text-align: right;\">  epr</th><th style=\"text-align: right;\">  Ps30</th><th style=\"text-align: right;\">   phi</th><th style=\"text-align: right;\">    NRf</th><th style=\"text-align: right;\">    NRc</th><th style=\"text-align: right;\">   BPR</th><th style=\"text-align: right;\">  farB</th><th style=\"text-align: right;\">  htBleed</th><th style=\"text-align: right;\">  Nf_dmd</th><th style=\"text-align: right;\">  PCNfR_dmd</th><th style=\"text-align: right;\">  W31</th><th style=\"text-align: right;\">    W32</th><th style=\"text-align: right;\">  SD_22</th><th style=\"text-align: right;\">  SD_23</th><th style=\"text-align: right;\">  RUL</th></tr>\n",
       "</thead>\n",
       "<tbody>\n",
       "<tr><td style=\"text-align: right;\">          1</td><td style=\"text-align: right;\">      1</td><td style=\"text-align: right;\">-0.0007</td><td style=\"text-align: right;\">-0.0004</td><td style=\"text-align: right;\">  100</td><td style=\"text-align: right;\">518.67</td><td style=\"text-align: right;\">641.82</td><td style=\"text-align: right;\">1589.7 </td><td style=\"text-align: right;\">1400.6 </td><td style=\"text-align: right;\">14.62</td><td style=\"text-align: right;\">21.61</td><td style=\"text-align: right;\">554.36</td><td style=\"text-align: right;\">2388.06</td><td style=\"text-align: right;\">9046.19</td><td style=\"text-align: right;\">  1.3</td><td style=\"text-align: right;\"> 47.47</td><td style=\"text-align: right;\">521.66</td><td style=\"text-align: right;\">2388.02</td><td style=\"text-align: right;\">8138.62</td><td style=\"text-align: right;\">8.4195</td><td style=\"text-align: right;\">  0.03</td><td style=\"text-align: right;\">      392</td><td style=\"text-align: right;\">    2388</td><td style=\"text-align: right;\">        100</td><td style=\"text-align: right;\">39.06</td><td style=\"text-align: right;\">23.419 </td><td style=\"text-align: right;\">    nan</td><td style=\"text-align: right;\">    nan</td><td style=\"text-align: right;\">  191</td></tr>\n",
       "<tr><td style=\"text-align: right;\">          1</td><td style=\"text-align: right;\">      2</td><td style=\"text-align: right;\"> 0.0019</td><td style=\"text-align: right;\">-0.0003</td><td style=\"text-align: right;\">  100</td><td style=\"text-align: right;\">518.67</td><td style=\"text-align: right;\">642.15</td><td style=\"text-align: right;\">1591.82</td><td style=\"text-align: right;\">1403.14</td><td style=\"text-align: right;\">14.62</td><td style=\"text-align: right;\">21.61</td><td style=\"text-align: right;\">553.75</td><td style=\"text-align: right;\">2388.04</td><td style=\"text-align: right;\">9044.07</td><td style=\"text-align: right;\">  1.3</td><td style=\"text-align: right;\"> 47.49</td><td style=\"text-align: right;\">522.28</td><td style=\"text-align: right;\">2388.07</td><td style=\"text-align: right;\">8131.49</td><td style=\"text-align: right;\">8.4318</td><td style=\"text-align: right;\">  0.03</td><td style=\"text-align: right;\">      392</td><td style=\"text-align: right;\">    2388</td><td style=\"text-align: right;\">        100</td><td style=\"text-align: right;\">39   </td><td style=\"text-align: right;\">23.4236</td><td style=\"text-align: right;\">    nan</td><td style=\"text-align: right;\">    nan</td><td style=\"text-align: right;\">  190</td></tr>\n",
       "<tr><td style=\"text-align: right;\">          1</td><td style=\"text-align: right;\">      3</td><td style=\"text-align: right;\">-0.0043</td><td style=\"text-align: right;\"> 0.0003</td><td style=\"text-align: right;\">  100</td><td style=\"text-align: right;\">518.67</td><td style=\"text-align: right;\">642.35</td><td style=\"text-align: right;\">1587.99</td><td style=\"text-align: right;\">1404.2 </td><td style=\"text-align: right;\">14.62</td><td style=\"text-align: right;\">21.61</td><td style=\"text-align: right;\">554.26</td><td style=\"text-align: right;\">2388.08</td><td style=\"text-align: right;\">9052.94</td><td style=\"text-align: right;\">  1.3</td><td style=\"text-align: right;\"> 47.27</td><td style=\"text-align: right;\">522.42</td><td style=\"text-align: right;\">2388.03</td><td style=\"text-align: right;\">8133.23</td><td style=\"text-align: right;\">8.4178</td><td style=\"text-align: right;\">  0.03</td><td style=\"text-align: right;\">      390</td><td style=\"text-align: right;\">    2388</td><td style=\"text-align: right;\">        100</td><td style=\"text-align: right;\">38.95</td><td style=\"text-align: right;\">23.3442</td><td style=\"text-align: right;\">    nan</td><td style=\"text-align: right;\">    nan</td><td style=\"text-align: right;\">  189</td></tr>\n",
       "<tr><td style=\"text-align: right;\">          1</td><td style=\"text-align: right;\">      4</td><td style=\"text-align: right;\"> 0.0007</td><td style=\"text-align: right;\"> 0     </td><td style=\"text-align: right;\">  100</td><td style=\"text-align: right;\">518.67</td><td style=\"text-align: right;\">642.35</td><td style=\"text-align: right;\">1582.79</td><td style=\"text-align: right;\">1401.87</td><td style=\"text-align: right;\">14.62</td><td style=\"text-align: right;\">21.61</td><td style=\"text-align: right;\">554.45</td><td style=\"text-align: right;\">2388.11</td><td style=\"text-align: right;\">9049.48</td><td style=\"text-align: right;\">  1.3</td><td style=\"text-align: right;\"> 47.13</td><td style=\"text-align: right;\">522.86</td><td style=\"text-align: right;\">2388.08</td><td style=\"text-align: right;\">8133.83</td><td style=\"text-align: right;\">8.3682</td><td style=\"text-align: right;\">  0.03</td><td style=\"text-align: right;\">      392</td><td style=\"text-align: right;\">    2388</td><td style=\"text-align: right;\">        100</td><td style=\"text-align: right;\">38.88</td><td style=\"text-align: right;\">23.3739</td><td style=\"text-align: right;\">    nan</td><td style=\"text-align: right;\">    nan</td><td style=\"text-align: right;\">  188</td></tr>\n",
       "<tr><td style=\"text-align: right;\">          1</td><td style=\"text-align: right;\">      5</td><td style=\"text-align: right;\">-0.0019</td><td style=\"text-align: right;\">-0.0002</td><td style=\"text-align: right;\">  100</td><td style=\"text-align: right;\">518.67</td><td style=\"text-align: right;\">642.37</td><td style=\"text-align: right;\">1582.85</td><td style=\"text-align: right;\">1406.22</td><td style=\"text-align: right;\">14.62</td><td style=\"text-align: right;\">21.61</td><td style=\"text-align: right;\">554   </td><td style=\"text-align: right;\">2388.06</td><td style=\"text-align: right;\">9055.15</td><td style=\"text-align: right;\">  1.3</td><td style=\"text-align: right;\"> 47.28</td><td style=\"text-align: right;\">522.19</td><td style=\"text-align: right;\">2388.04</td><td style=\"text-align: right;\">8133.8 </td><td style=\"text-align: right;\">8.4294</td><td style=\"text-align: right;\">  0.03</td><td style=\"text-align: right;\">      393</td><td style=\"text-align: right;\">    2388</td><td style=\"text-align: right;\">        100</td><td style=\"text-align: right;\">38.9 </td><td style=\"text-align: right;\">23.4044</td><td style=\"text-align: right;\">    nan</td><td style=\"text-align: right;\">    nan</td><td style=\"text-align: right;\">  187</td></tr>\n",
       "<tr><td style=\"text-align: right;\">          1</td><td style=\"text-align: right;\">      6</td><td style=\"text-align: right;\">-0.0043</td><td style=\"text-align: right;\">-0.0001</td><td style=\"text-align: right;\">  100</td><td style=\"text-align: right;\">518.67</td><td style=\"text-align: right;\">642.1 </td><td style=\"text-align: right;\">1584.47</td><td style=\"text-align: right;\">1398.37</td><td style=\"text-align: right;\">14.62</td><td style=\"text-align: right;\">21.61</td><td style=\"text-align: right;\">554.67</td><td style=\"text-align: right;\">2388.02</td><td style=\"text-align: right;\">9049.68</td><td style=\"text-align: right;\">  1.3</td><td style=\"text-align: right;\"> 47.16</td><td style=\"text-align: right;\">521.68</td><td style=\"text-align: right;\">2388.03</td><td style=\"text-align: right;\">8132.85</td><td style=\"text-align: right;\">8.4108</td><td style=\"text-align: right;\">  0.03</td><td style=\"text-align: right;\">      391</td><td style=\"text-align: right;\">    2388</td><td style=\"text-align: right;\">        100</td><td style=\"text-align: right;\">38.98</td><td style=\"text-align: right;\">23.3669</td><td style=\"text-align: right;\">    nan</td><td style=\"text-align: right;\">    nan</td><td style=\"text-align: right;\">  186</td></tr>\n",
       "<tr><td style=\"text-align: right;\">          1</td><td style=\"text-align: right;\">      7</td><td style=\"text-align: right;\"> 0.001 </td><td style=\"text-align: right;\"> 0.0001</td><td style=\"text-align: right;\">  100</td><td style=\"text-align: right;\">518.67</td><td style=\"text-align: right;\">642.48</td><td style=\"text-align: right;\">1592.32</td><td style=\"text-align: right;\">1397.77</td><td style=\"text-align: right;\">14.62</td><td style=\"text-align: right;\">21.61</td><td style=\"text-align: right;\">554.34</td><td style=\"text-align: right;\">2388.02</td><td style=\"text-align: right;\">9059.13</td><td style=\"text-align: right;\">  1.3</td><td style=\"text-align: right;\"> 47.36</td><td style=\"text-align: right;\">522.32</td><td style=\"text-align: right;\">2388.03</td><td style=\"text-align: right;\">8132.32</td><td style=\"text-align: right;\">8.3974</td><td style=\"text-align: right;\">  0.03</td><td style=\"text-align: right;\">      392</td><td style=\"text-align: right;\">    2388</td><td style=\"text-align: right;\">        100</td><td style=\"text-align: right;\">39.1 </td><td style=\"text-align: right;\">23.3774</td><td style=\"text-align: right;\">    nan</td><td style=\"text-align: right;\">    nan</td><td style=\"text-align: right;\">  185</td></tr>\n",
       "<tr><td style=\"text-align: right;\">          1</td><td style=\"text-align: right;\">      8</td><td style=\"text-align: right;\">-0.0034</td><td style=\"text-align: right;\"> 0.0003</td><td style=\"text-align: right;\">  100</td><td style=\"text-align: right;\">518.67</td><td style=\"text-align: right;\">642.56</td><td style=\"text-align: right;\">1582.96</td><td style=\"text-align: right;\">1400.97</td><td style=\"text-align: right;\">14.62</td><td style=\"text-align: right;\">21.61</td><td style=\"text-align: right;\">553.85</td><td style=\"text-align: right;\">2388   </td><td style=\"text-align: right;\">9040.8 </td><td style=\"text-align: right;\">  1.3</td><td style=\"text-align: right;\"> 47.24</td><td style=\"text-align: right;\">522.47</td><td style=\"text-align: right;\">2388.03</td><td style=\"text-align: right;\">8131.07</td><td style=\"text-align: right;\">8.4076</td><td style=\"text-align: right;\">  0.03</td><td style=\"text-align: right;\">      391</td><td style=\"text-align: right;\">    2388</td><td style=\"text-align: right;\">        100</td><td style=\"text-align: right;\">38.97</td><td style=\"text-align: right;\">23.3106</td><td style=\"text-align: right;\">    nan</td><td style=\"text-align: right;\">    nan</td><td style=\"text-align: right;\">  184</td></tr>\n",
       "<tr><td style=\"text-align: right;\">          1</td><td style=\"text-align: right;\">      9</td><td style=\"text-align: right;\"> 0.0008</td><td style=\"text-align: right;\"> 0.0001</td><td style=\"text-align: right;\">  100</td><td style=\"text-align: right;\">518.67</td><td style=\"text-align: right;\">642.12</td><td style=\"text-align: right;\">1590.98</td><td style=\"text-align: right;\">1394.8 </td><td style=\"text-align: right;\">14.62</td><td style=\"text-align: right;\">21.61</td><td style=\"text-align: right;\">553.69</td><td style=\"text-align: right;\">2388.05</td><td style=\"text-align: right;\">9046.46</td><td style=\"text-align: right;\">  1.3</td><td style=\"text-align: right;\"> 47.29</td><td style=\"text-align: right;\">521.79</td><td style=\"text-align: right;\">2388.05</td><td style=\"text-align: right;\">8125.69</td><td style=\"text-align: right;\">8.3728</td><td style=\"text-align: right;\">  0.03</td><td style=\"text-align: right;\">      392</td><td style=\"text-align: right;\">    2388</td><td style=\"text-align: right;\">        100</td><td style=\"text-align: right;\">39.05</td><td style=\"text-align: right;\">23.4066</td><td style=\"text-align: right;\">    nan</td><td style=\"text-align: right;\">    nan</td><td style=\"text-align: right;\">  183</td></tr>\n",
       "<tr><td style=\"text-align: right;\">          1</td><td style=\"text-align: right;\">     10</td><td style=\"text-align: right;\">-0.0033</td><td style=\"text-align: right;\"> 0.0001</td><td style=\"text-align: right;\">  100</td><td style=\"text-align: right;\">518.67</td><td style=\"text-align: right;\">641.71</td><td style=\"text-align: right;\">1591.24</td><td style=\"text-align: right;\">1400.46</td><td style=\"text-align: right;\">14.62</td><td style=\"text-align: right;\">21.61</td><td style=\"text-align: right;\">553.59</td><td style=\"text-align: right;\">2388.05</td><td style=\"text-align: right;\">9051.7 </td><td style=\"text-align: right;\">  1.3</td><td style=\"text-align: right;\"> 47.03</td><td style=\"text-align: right;\">521.79</td><td style=\"text-align: right;\">2388.06</td><td style=\"text-align: right;\">8129.38</td><td style=\"text-align: right;\">8.4286</td><td style=\"text-align: right;\">  0.03</td><td style=\"text-align: right;\">      393</td><td style=\"text-align: right;\">    2388</td><td style=\"text-align: right;\">        100</td><td style=\"text-align: right;\">38.95</td><td style=\"text-align: right;\">23.4694</td><td style=\"text-align: right;\">    nan</td><td style=\"text-align: right;\">    nan</td><td style=\"text-align: right;\">  182</td></tr>\n",
       "</tbody>\n",
       "</table>"
      ]
     },
     "metadata": {},
     "output_type": "display_data"
    },
    {
     "data": {
      "text/plain": []
     },
     "execution_count": 17,
     "metadata": {},
     "output_type": "execute_result"
    }
   ],
   "source": [
    "hTrain = h2o.H2OFrame(filtered)\n",
    "hTrain.set_names(list(df_train.columns))"
   ]
  },
  {
   "cell_type": "code",
   "execution_count": 18,
   "metadata": {},
   "outputs": [],
   "source": [
    "#hValidate = h2o.H2OFrame(pValidate)\n",
    "#hValidate.set_names(list(pValidate.columns))"
   ]
  },
  {
   "cell_type": "code",
   "execution_count": 19,
   "metadata": {},
   "outputs": [
    {
     "name": "stdout",
     "output_type": "stream",
     "text": [
      "Parse progress: |█████████████████████████████████████████████████████████| 100%\n"
     ]
    },
    {
     "data": {
      "text/html": [
       "<table>\n",
       "<thead>\n",
       "<tr><th style=\"text-align: right;\">  Engine_ID</th><th style=\"text-align: right;\">  Cycle</th><th style=\"text-align: right;\">    ALT</th><th style=\"text-align: right;\">   Mach</th><th style=\"text-align: right;\">  TRA</th><th style=\"text-align: right;\">    T2</th><th style=\"text-align: right;\">   T24</th><th style=\"text-align: right;\">    T30</th><th style=\"text-align: right;\">    T50</th><th style=\"text-align: right;\">   P2</th><th style=\"text-align: right;\">  P15</th><th style=\"text-align: right;\">   P30</th><th style=\"text-align: right;\">     Nf</th><th style=\"text-align: right;\">     Nc</th><th style=\"text-align: right;\">  epr</th><th style=\"text-align: right;\">  Ps30</th><th style=\"text-align: right;\">   phi</th><th style=\"text-align: right;\">    NRf</th><th style=\"text-align: right;\">    NRc</th><th style=\"text-align: right;\">   BPR</th><th style=\"text-align: right;\">  farB</th><th style=\"text-align: right;\">  htBleed</th><th style=\"text-align: right;\">  Nf_dmd</th><th style=\"text-align: right;\">  PCNfR_dmd</th><th style=\"text-align: right;\">  W31</th><th style=\"text-align: right;\">    W32</th><th style=\"text-align: right;\">  SD_22</th><th style=\"text-align: right;\">  SD_23</th><th style=\"text-align: right;\">  RUL</th></tr>\n",
       "</thead>\n",
       "<tbody>\n",
       "<tr><td style=\"text-align: right;\">          1</td><td style=\"text-align: right;\">     31</td><td style=\"text-align: right;\">-0.0006</td><td style=\"text-align: right;\"> 0.0004</td><td style=\"text-align: right;\">  100</td><td style=\"text-align: right;\">518.67</td><td style=\"text-align: right;\">642.58</td><td style=\"text-align: right;\">1581.22</td><td style=\"text-align: right;\">1398.91</td><td style=\"text-align: right;\">14.62</td><td style=\"text-align: right;\">21.61</td><td style=\"text-align: right;\">554.42</td><td style=\"text-align: right;\">2388.08</td><td style=\"text-align: right;\">9056.4 </td><td style=\"text-align: right;\">  1.3</td><td style=\"text-align: right;\"> 47.23</td><td style=\"text-align: right;\">521.79</td><td style=\"text-align: right;\">2388.06</td><td style=\"text-align: right;\">8130.11</td><td style=\"text-align: right;\">8.4024</td><td style=\"text-align: right;\">  0.03</td><td style=\"text-align: right;\">      393</td><td style=\"text-align: right;\">    2388</td><td style=\"text-align: right;\">        100</td><td style=\"text-align: right;\">38.81</td><td style=\"text-align: right;\">23.3552</td><td style=\"text-align: right;\">    nan</td><td style=\"text-align: right;\">    nan</td><td style=\"text-align: right;\">  112</td></tr>\n",
       "<tr><td style=\"text-align: right;\">          2</td><td style=\"text-align: right;\">     49</td><td style=\"text-align: right;\"> 0.0018</td><td style=\"text-align: right;\">-0.0001</td><td style=\"text-align: right;\">  100</td><td style=\"text-align: right;\">518.67</td><td style=\"text-align: right;\">642.55</td><td style=\"text-align: right;\">1586.59</td><td style=\"text-align: right;\">1410.83</td><td style=\"text-align: right;\">14.62</td><td style=\"text-align: right;\">21.61</td><td style=\"text-align: right;\">553.52</td><td style=\"text-align: right;\">2388.1 </td><td style=\"text-align: right;\">9044.77</td><td style=\"text-align: right;\">  1.3</td><td style=\"text-align: right;\"> 47.67</td><td style=\"text-align: right;\">521.74</td><td style=\"text-align: right;\">2388.09</td><td style=\"text-align: right;\">8126.9 </td><td style=\"text-align: right;\">8.4505</td><td style=\"text-align: right;\">  0.03</td><td style=\"text-align: right;\">      391</td><td style=\"text-align: right;\">    2388</td><td style=\"text-align: right;\">        100</td><td style=\"text-align: right;\">38.81</td><td style=\"text-align: right;\">23.2618</td><td style=\"text-align: right;\">    nan</td><td style=\"text-align: right;\">    nan</td><td style=\"text-align: right;\">   98</td></tr>\n",
       "<tr><td style=\"text-align: right;\">          3</td><td style=\"text-align: right;\">    126</td><td style=\"text-align: right;\">-0.0016</td><td style=\"text-align: right;\"> 0.0004</td><td style=\"text-align: right;\">  100</td><td style=\"text-align: right;\">518.67</td><td style=\"text-align: right;\">642.88</td><td style=\"text-align: right;\">1589.75</td><td style=\"text-align: right;\">1418.89</td><td style=\"text-align: right;\">14.62</td><td style=\"text-align: right;\">21.61</td><td style=\"text-align: right;\">552.59</td><td style=\"text-align: right;\">2388.16</td><td style=\"text-align: right;\">9049.26</td><td style=\"text-align: right;\">  1.3</td><td style=\"text-align: right;\"> 47.88</td><td style=\"text-align: right;\">520.83</td><td style=\"text-align: right;\">2388.14</td><td style=\"text-align: right;\">8131.46</td><td style=\"text-align: right;\">8.4119</td><td style=\"text-align: right;\">  0.03</td><td style=\"text-align: right;\">      395</td><td style=\"text-align: right;\">    2388</td><td style=\"text-align: right;\">        100</td><td style=\"text-align: right;\">38.93</td><td style=\"text-align: right;\">23.274 </td><td style=\"text-align: right;\">    nan</td><td style=\"text-align: right;\">    nan</td><td style=\"text-align: right;\">   69</td></tr>\n",
       "<tr><td style=\"text-align: right;\">          4</td><td style=\"text-align: right;\">    106</td><td style=\"text-align: right;\"> 0.0012</td><td style=\"text-align: right;\"> 0.0004</td><td style=\"text-align: right;\">  100</td><td style=\"text-align: right;\">518.67</td><td style=\"text-align: right;\">642.78</td><td style=\"text-align: right;\">1594.53</td><td style=\"text-align: right;\">1406.88</td><td style=\"text-align: right;\">14.62</td><td style=\"text-align: right;\">21.61</td><td style=\"text-align: right;\">552.64</td><td style=\"text-align: right;\">2388.13</td><td style=\"text-align: right;\">9051.3 </td><td style=\"text-align: right;\">  1.3</td><td style=\"text-align: right;\"> 47.65</td><td style=\"text-align: right;\">521.88</td><td style=\"text-align: right;\">2388.11</td><td style=\"text-align: right;\">8133.64</td><td style=\"text-align: right;\">8.4634</td><td style=\"text-align: right;\">  0.03</td><td style=\"text-align: right;\">      395</td><td style=\"text-align: right;\">    2388</td><td style=\"text-align: right;\">        100</td><td style=\"text-align: right;\">38.58</td><td style=\"text-align: right;\">23.2581</td><td style=\"text-align: right;\">    nan</td><td style=\"text-align: right;\">    nan</td><td style=\"text-align: right;\">   82</td></tr>\n",
       "<tr><td style=\"text-align: right;\">          5</td><td style=\"text-align: right;\">     98</td><td style=\"text-align: right;\">-0.0013</td><td style=\"text-align: right;\">-0.0004</td><td style=\"text-align: right;\">  100</td><td style=\"text-align: right;\">518.67</td><td style=\"text-align: right;\">642.27</td><td style=\"text-align: right;\">1589.94</td><td style=\"text-align: right;\">1419.36</td><td style=\"text-align: right;\">14.62</td><td style=\"text-align: right;\">21.61</td><td style=\"text-align: right;\">553.29</td><td style=\"text-align: right;\">2388.1 </td><td style=\"text-align: right;\">9053.99</td><td style=\"text-align: right;\">  1.3</td><td style=\"text-align: right;\"> 47.46</td><td style=\"text-align: right;\">521   </td><td style=\"text-align: right;\">2388.15</td><td style=\"text-align: right;\">8125.74</td><td style=\"text-align: right;\">8.4362</td><td style=\"text-align: right;\">  0.03</td><td style=\"text-align: right;\">      394</td><td style=\"text-align: right;\">    2388</td><td style=\"text-align: right;\">        100</td><td style=\"text-align: right;\">38.75</td><td style=\"text-align: right;\">23.4117</td><td style=\"text-align: right;\">    nan</td><td style=\"text-align: right;\">    nan</td><td style=\"text-align: right;\">   91</td></tr>\n",
       "<tr><td style=\"text-align: right;\">          6</td><td style=\"text-align: right;\">    105</td><td style=\"text-align: right;\"> 0.0076</td><td style=\"text-align: right;\">-0.0003</td><td style=\"text-align: right;\">  100</td><td style=\"text-align: right;\">518.67</td><td style=\"text-align: right;\">643.05</td><td style=\"text-align: right;\">1586.94</td><td style=\"text-align: right;\">1404.49</td><td style=\"text-align: right;\">14.62</td><td style=\"text-align: right;\">21.61</td><td style=\"text-align: right;\">553.73</td><td style=\"text-align: right;\">2388.14</td><td style=\"text-align: right;\">9055.83</td><td style=\"text-align: right;\">  1.3</td><td style=\"text-align: right;\"> 47.51</td><td style=\"text-align: right;\">521.56</td><td style=\"text-align: right;\">2388.15</td><td style=\"text-align: right;\">8139.02</td><td style=\"text-align: right;\">8.4452</td><td style=\"text-align: right;\">  0.03</td><td style=\"text-align: right;\">      393</td><td style=\"text-align: right;\">    2388</td><td style=\"text-align: right;\">        100</td><td style=\"text-align: right;\">38.91</td><td style=\"text-align: right;\">23.3269</td><td style=\"text-align: right;\">    nan</td><td style=\"text-align: right;\">    nan</td><td style=\"text-align: right;\">   93</td></tr>\n",
       "<tr><td style=\"text-align: right;\">          7</td><td style=\"text-align: right;\">    160</td><td style=\"text-align: right;\"> 0.0016</td><td style=\"text-align: right;\">-0.0001</td><td style=\"text-align: right;\">  100</td><td style=\"text-align: right;\">518.67</td><td style=\"text-align: right;\">642.1 </td><td style=\"text-align: right;\">1589.59</td><td style=\"text-align: right;\">1413.57</td><td style=\"text-align: right;\">14.62</td><td style=\"text-align: right;\">21.61</td><td style=\"text-align: right;\">553.42</td><td style=\"text-align: right;\">2388.04</td><td style=\"text-align: right;\">9070.99</td><td style=\"text-align: right;\">  1.3</td><td style=\"text-align: right;\"> 47.32</td><td style=\"text-align: right;\">522.32</td><td style=\"text-align: right;\">2388.07</td><td style=\"text-align: right;\">8149.19</td><td style=\"text-align: right;\">8.4028</td><td style=\"text-align: right;\">  0.03</td><td style=\"text-align: right;\">      393</td><td style=\"text-align: right;\">    2388</td><td style=\"text-align: right;\">        100</td><td style=\"text-align: right;\">38.91</td><td style=\"text-align: right;\">23.2763</td><td style=\"text-align: right;\">    nan</td><td style=\"text-align: right;\">    nan</td><td style=\"text-align: right;\">   91</td></tr>\n",
       "<tr><td style=\"text-align: right;\">          8</td><td style=\"text-align: right;\">    166</td><td style=\"text-align: right;\"> 0.0016</td><td style=\"text-align: right;\">-0.0005</td><td style=\"text-align: right;\">  100</td><td style=\"text-align: right;\">518.67</td><td style=\"text-align: right;\">642.59</td><td style=\"text-align: right;\">1591.91</td><td style=\"text-align: right;\">1413.89</td><td style=\"text-align: right;\">14.62</td><td style=\"text-align: right;\">21.61</td><td style=\"text-align: right;\">553.51</td><td style=\"text-align: right;\">2388.14</td><td style=\"text-align: right;\">9049.96</td><td style=\"text-align: right;\">  1.3</td><td style=\"text-align: right;\"> 47.59</td><td style=\"text-align: right;\">520.53</td><td style=\"text-align: right;\">2388.12</td><td style=\"text-align: right;\">8127.84</td><td style=\"text-align: right;\">8.4744</td><td style=\"text-align: right;\">  0.03</td><td style=\"text-align: right;\">      393</td><td style=\"text-align: right;\">    2388</td><td style=\"text-align: right;\">        100</td><td style=\"text-align: right;\">38.73</td><td style=\"text-align: right;\">23.2465</td><td style=\"text-align: right;\">    nan</td><td style=\"text-align: right;\">    nan</td><td style=\"text-align: right;\">   95</td></tr>\n",
       "<tr><td style=\"text-align: right;\">          9</td><td style=\"text-align: right;\">     55</td><td style=\"text-align: right;\">-0.0003</td><td style=\"text-align: right;\"> 0.0004</td><td style=\"text-align: right;\">  100</td><td style=\"text-align: right;\">518.67</td><td style=\"text-align: right;\">642.27</td><td style=\"text-align: right;\">1593.61</td><td style=\"text-align: right;\">1410.27</td><td style=\"text-align: right;\">14.62</td><td style=\"text-align: right;\">21.61</td><td style=\"text-align: right;\">552.58</td><td style=\"text-align: right;\">2388.13</td><td style=\"text-align: right;\">9057.57</td><td style=\"text-align: right;\">  1.3</td><td style=\"text-align: right;\"> 47.58</td><td style=\"text-align: right;\">521.65</td><td style=\"text-align: right;\">2388.16</td><td style=\"text-align: right;\">8134.76</td><td style=\"text-align: right;\">8.4293</td><td style=\"text-align: right;\">  0.03</td><td style=\"text-align: right;\">      392</td><td style=\"text-align: right;\">    2388</td><td style=\"text-align: right;\">        100</td><td style=\"text-align: right;\">38.78</td><td style=\"text-align: right;\">23.3515</td><td style=\"text-align: right;\">    nan</td><td style=\"text-align: right;\">    nan</td><td style=\"text-align: right;\">  111</td></tr>\n",
       "<tr><td style=\"text-align: right;\">         10</td><td style=\"text-align: right;\">    192</td><td style=\"text-align: right;\">-0.0018</td><td style=\"text-align: right;\"> 0.0004</td><td style=\"text-align: right;\">  100</td><td style=\"text-align: right;\">518.67</td><td style=\"text-align: right;\">643   </td><td style=\"text-align: right;\">1589.5 </td><td style=\"text-align: right;\">1398.99</td><td style=\"text-align: right;\">14.62</td><td style=\"text-align: right;\">21.61</td><td style=\"text-align: right;\">552.88</td><td style=\"text-align: right;\">2388.11</td><td style=\"text-align: right;\">9060.88</td><td style=\"text-align: right;\">  1.3</td><td style=\"text-align: right;\"> 47.59</td><td style=\"text-align: right;\">521.82</td><td style=\"text-align: right;\">2388.08</td><td style=\"text-align: right;\">8141.91</td><td style=\"text-align: right;\">8.4194</td><td style=\"text-align: right;\">  0.03</td><td style=\"text-align: right;\">      393</td><td style=\"text-align: right;\">    2388</td><td style=\"text-align: right;\">        100</td><td style=\"text-align: right;\">38.79</td><td style=\"text-align: right;\">23.2956</td><td style=\"text-align: right;\">    nan</td><td style=\"text-align: right;\">    nan</td><td style=\"text-align: right;\">   96</td></tr>\n",
       "</tbody>\n",
       "</table>"
      ]
     },
     "metadata": {},
     "output_type": "display_data"
    },
    {
     "data": {
      "text/plain": []
     },
     "execution_count": 19,
     "metadata": {},
     "output_type": "execute_result"
    }
   ],
   "source": [
    "hTest = h2o.H2OFrame(df_test)\n",
    "hTest.set_names(list(df_test.columns))"
   ]
  },
  {
   "cell_type": "code",
   "execution_count": 20,
   "metadata": {},
   "outputs": [],
   "source": [
    "training_columns = list(df_train.columns)\n",
    "training_columns.remove('Engine_ID')\n",
    "training_columns.remove('Cycle')\n",
    "training_columns.remove('RUL')\n",
    "\n",
    "bad_cols = ['Nf_dmd', 'TRA', 'P2', 'farB', 'PCNfR_dmd', 'epr', 'T2', 'SD_23', 'SD_22']\n",
    "for i in bad_cols:\n",
    "    training_columns.remove(i)\n",
    "\n",
    "response_column = 'RUL'"
   ]
  },
  {
   "cell_type": "code",
   "execution_count": 21,
   "metadata": {},
   "outputs": [
    {
     "name": "stdout",
     "output_type": "stream",
     "text": [
      "deeplearning Model Build progress: |██████████████████████████████████████| 100%\n"
     ]
    }
   ],
   "source": [
    "model = H2ODeepLearningEstimator(epochs=100, loss='Automatic', activation='RectifierWithDropout', distribution='gamma', hidden=[200])\n",
    "model.train(x=training_columns, y=response_column, training_frame=hTrain)"
   ]
  },
  {
   "cell_type": "code",
   "execution_count": 22,
   "metadata": {},
   "outputs": [
    {
     "name": "stdout",
     "output_type": "stream",
     "text": [
      "\n",
      "ModelMetricsRegression: deeplearning\n",
      "** Reported on test data. **\n",
      "\n",
      "MSE: 753.7054136363492\n",
      "RMSE: 27.45369581015185\n",
      "MAE: 20.09211917829768\n",
      "RMSLE: 0.3604358188384623\n",
      "Mean Residual Deviance: 10.248546485447076\n",
      "\n"
     ]
    }
   ],
   "source": [
    "print(model.model_performance(test_data=hTest))"
   ]
  },
  {
   "cell_type": "code",
   "execution_count": 23,
   "metadata": {},
   "outputs": [
    {
     "name": "stdout",
     "output_type": "stream",
     "text": [
      "deeplearning prediction progress: |███████████████████████████████████████| 100%\n"
     ]
    }
   ],
   "source": [
    "predict = model.predict(test_data=hTest)\n",
    "predict = h2o.as_list(predict, use_pandas=True)\n",
    "predict = predict[\"predict\"].tolist()"
   ]
  },
  {
   "cell_type": "code",
   "execution_count": 24,
   "metadata": {},
   "outputs": [],
   "source": [
    "y_pred = np.array(predict)\n",
    "y_test = np.array(df_test[\"RUL\"].tolist())"
   ]
  },
  {
   "cell_type": "code",
   "execution_count": 25,
   "metadata": {},
   "outputs": [
    {
     "name": "stdout",
     "output_type": "stream",
     "text": [
      "Using Autoencoder, MAE is 20.09\n",
      "Using Autoencoder, RMSE is 27.45\n",
      "Using Autoencoder, R-Squared is 0.56\n"
     ]
    }
   ],
   "source": [
    "mae = mean_absolute_error(y_test, y_pred)\n",
    "rmse = mean_squared_error(y_test, y_pred)**0.5\n",
    "r2 = r2_score(y_test, y_pred)\n",
    "print('Using Autoencoder, MAE is %0.2f' %  mae)  \n",
    "print('Using Autoencoder, RMSE is %0.2f' %  rmse)   \n",
    "print('Using Autoencoder, R-Squared is %0.2f' %  r2)  "
   ]
  },
  {
   "cell_type": "code",
   "execution_count": null,
   "metadata": {},
   "outputs": [],
   "source": []
  },
  {
   "cell_type": "code",
   "execution_count": null,
   "metadata": {},
   "outputs": [],
   "source": []
  }
 ],
 "metadata": {
  "kernelspec": {
   "display_name": "Python 3",
   "language": "python",
   "name": "python3"
  },
  "language_info": {
   "codemirror_mode": {
    "name": "ipython",
    "version": 3
   },
   "file_extension": ".py",
   "mimetype": "text/x-python",
   "name": "python",
   "nbconvert_exporter": "python",
   "pygments_lexer": "ipython3",
   "version": "3.8.3"
  }
 },
 "nbformat": 4,
 "nbformat_minor": 4
}
