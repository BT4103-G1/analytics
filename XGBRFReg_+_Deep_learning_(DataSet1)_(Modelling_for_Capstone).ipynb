{
  "nbformat": 4,
  "nbformat_minor": 0,
  "metadata": {
    "colab": {
      "name": "XGBRFReg + Deep-learning (DataSet1)  (Modelling for Capstone) ",
      "provenance": [],
      "collapsed_sections": []
    },
    "kernelspec": {
      "name": "python3",
      "display_name": "Python 3"
    }
  },
  "cells": [
    {
      "cell_type": "code",
      "metadata": {
        "id": "Go8k39R3sI9P"
      },
      "source": [
        "import os\n",
        "import pandas as pd\n",
        "import numpy as np\n",
        "import seaborn as sns\n",
        "import matplotlib.pyplot as plt\n",
        "from matplotlib import cm\n",
        "from sklearn.model_selection import train_test_split\n",
        "from sklearn.preprocessing import MinMaxScaler\n",
        "from sklearn.metrics import mean_squared_error\n",
        "import scipy\n",
        "df_train = pd.read_csv(\"/content/train_FD001.txt\", sep=\" \", header=None)\n",
        "df_test = pd.read_csv(\"/content/test_FD001.txt\", sep=\" \", header=None)\n",
        "df_rul = pd.read_csv(\"/content/RUL_FD001.txt\", sep=\" \", header=None)"
      ],
      "execution_count": null,
      "outputs": []
    },
    {
      "cell_type": "code",
      "metadata": {
        "id": "IrlRDAR0tRTM"
      },
      "source": [
        "columns = ['Engine_ID', 'Cycle',\n",
        "          'ALT', 'Mach', 'TRA',\n",
        "          'T2', 'T24', 'T30', 'T50',\n",
        "           'P2', 'P15', 'P30',\n",
        "           'Nf', 'Nc', 'epr', 'Ps30', 'phi',\n",
        "           'NRf', 'NRc', 'BPR', 'farB',\n",
        "           'htBleed', 'Nf_dmd', 'PCNfR_dmd',\n",
        "           'W31', 'W32', \"SD_22\", \"SD_23\"\n",
        "          ]\n",
        "df_train.columns = columns\n",
        "df_test.columns = columns"
      ],
      "execution_count": null,
      "outputs": []
    },
    {
      "cell_type": "code",
      "metadata": {
        "id": "pW8MY6fDtQy1"
      },
      "source": [
        "def prepare_train_data(data, factor = 0):\n",
        "    df = data.copy()\n",
        "    fd_RUL = df.groupby('Engine_ID')['Cycle'].max().reset_index()\n",
        "    fd_RUL = pd.DataFrame(fd_RUL)\n",
        "    fd_RUL.columns = ['Engine_ID','max']\n",
        "    df = df.merge(fd_RUL, on=['Engine_ID'], how='left')\n",
        "    df['RUL'] = df['max'] - df['Cycle']\n",
        "    df.drop(columns=['max'],inplace = True)\n",
        "    \n",
        "    return df[df['Cycle'] > factor]"
      ],
      "execution_count": null,
      "outputs": []
    },
    {
      "cell_type": "code",
      "metadata": {
        "id": "A-72vqzjthGQ"
      },
      "source": [
        "df_train = prepare_train_data(df_train, factor = 0)"
      ],
      "execution_count": null,
      "outputs": []
    },
    {
      "cell_type": "code",
      "metadata": {
        "colab": {
          "base_uri": "https://localhost:8080/"
        },
        "id": "691AZbast73G",
        "outputId": "8a3b83a0-fbbc-4384-9dbc-93e82e7a5e5f"
      },
      "source": [
        "df_test = df_test.groupby('Engine_ID').last().reset_index()\n",
        "print(len(df_test))\n",
        "\n",
        "# Add max RUL to df_test\n",
        "# Make list of df_rul\n",
        "max_rul = df_rul[0].tolist() #len = 100\n",
        "\n",
        "# Create actual RUL column: MAX_RUL - Cycle\n",
        "df_test[\"RUL\"] = max_rul"
      ],
      "execution_count": null,
      "outputs": [
        {
          "output_type": "stream",
          "text": [
            "100\n"
          ],
          "name": "stdout"
        }
      ]
    },
    {
      "cell_type": "code",
      "metadata": {
        "id": "7EH01yzhuAeZ"
      },
      "source": [
        "features = ['Cycle', 'ALT', 'Mach', 'T24', 'T30', 'T50', 'P15', 'P30',\n",
        "       'Nf', 'Nc', 'Ps30', 'phi', 'NRf', 'NRc', 'BPR', 'htBleed', 'W31', 'W32']\n",
        "\n",
        "output = ['RUL']"
      ],
      "execution_count": null,
      "outputs": []
    },
    {
      "cell_type": "code",
      "metadata": {
        "id": "jSsP_kEguC6V"
      },
      "source": [
        "X_train = df_train[features]\n",
        "X_test = df_test[features]\n",
        "\n",
        "y_train = df_train[output]\n",
        "y_test = df_test[output]"
      ],
      "execution_count": null,
      "outputs": []
    },
    {
      "cell_type": "code",
      "metadata": {
        "colab": {
          "base_uri": "https://localhost:8080/"
        },
        "id": "IiTVfQdSuD5B",
        "outputId": "2a0b1cdd-7957-4e88-a8cb-1c20f88d7eeb"
      },
      "source": [
        "from sklearn.ensemble import RandomForestRegressor\n",
        "from sklearn import preprocessing\n",
        "from xgboost import XGBRFRegressor\n",
        "rf = XGBRFRegressor(n_estimators=300, subsample=0.9, colsample_bynode=0.2, n_fold = 5, eval_metric = 'rmse')\n",
        "# set up 5-fold cross-validation\n",
        "from sklearn import model_selection\n",
        "cv = model_selection.KFold(5)\n",
        "# pipeline standardization and model\n",
        "from sklearn.pipeline import Pipeline\n",
        "pipeline = Pipeline(steps=[('standardize', preprocessing.StandardScaler())\n",
        "                           , ('model', rf) ])\n",
        "# tune the model\n",
        "my_min_samples_leaf = [2, 10, 25, 50, 100]\n",
        "my_max_depth = [7, 8, 9, 10, 11, 12]\n",
        "# run the model using gridsearch, select the model with best search\n",
        "from sklearn.model_selection import GridSearchCV\n",
        "optimized_rf = GridSearchCV(estimator=pipeline\n",
        "                            , cv=cv\n",
        "                            , param_grid =dict(model__min_samples_leaf = my_min_samples_leaf, model__max_depth = my_max_depth)\n",
        "                            , scoring = 'neg_mean_squared_error'\n",
        "                            , verbose = 1\n",
        "                            , n_jobs = -1\n",
        "                           )\n",
        "optimized_rf.fit(X_train, y_train)\n",
        "# show the best model estimators\n",
        "print(optimized_rf.best_estimator_)\n",
        "# evaluate metrics on holdout\n",
        "from sklearn.metrics import mean_squared_error, mean_absolute_error, r2_score\n",
        "y_pred = optimized_rf.predict(X_test)\n",
        "print(\"Random Forest Mean Squared Error: \", mean_squared_error(y_test, y_pred))\n",
        "print(\"Random Forest Mean Absolute Error: \", mean_absolute_error(y_test, y_pred))\n",
        "print(\"Random Forest r-squared: \", r2_score(y_test, y_pred))"
      ],
      "execution_count": null,
      "outputs": [
        {
          "output_type": "stream",
          "text": [
            "Fitting 5 folds for each of 30 candidates, totalling 150 fits\n"
          ],
          "name": "stdout"
        },
        {
          "output_type": "stream",
          "text": [
            "[Parallel(n_jobs=-1)]: Using backend LokyBackend with 2 concurrent workers.\n",
            "[Parallel(n_jobs=-1)]: Done  46 tasks      | elapsed:  2.1min\n",
            "[Parallel(n_jobs=-1)]: Done 150 out of 150 | elapsed:  9.1min finished\n"
          ],
          "name": "stderr"
        },
        {
          "output_type": "stream",
          "text": [
            "[02:53:30] WARNING: /workspace/src/objective/regression_obj.cu:152: reg:linear is now deprecated in favor of reg:squarederror.\n",
            "Pipeline(memory=None,\n",
            "         steps=[('standardize',\n",
            "                 StandardScaler(copy=True, with_mean=True, with_std=True)),\n",
            "                ('model',\n",
            "                 XGBRFRegressor(base_score=0.5, colsample_bylevel=1,\n",
            "                                colsample_bynode=0.2, colsample_bytree=1,\n",
            "                                eval_metric='rmse', gamma=0, learning_rate=1,\n",
            "                                max_delta_step=0, max_depth=12,\n",
            "                                min_child_weight=1, min_samples_leaf=2,\n",
            "                                missing=None, n_estimators=300, n_fold=5,\n",
            "                                n_jobs=1, nthread=None, objective='reg:linear',\n",
            "                                random_state=0, reg_alpha=0, reg_lambda=1,\n",
            "                                scale_pos_weight=1, seed=None, silent=None,\n",
            "                                subsample=0.9, verbosity=1))],\n",
            "         verbose=False)\n",
            "Random Forest Mean Squared Error:  629.4551136839975\n",
            "Random Forest Mean Absolute Error:  18.85700249671936\n",
            "Random Forest r-squared:  0.6354935464241205\n"
          ],
          "name": "stdout"
        }
      ]
    },
    {
      "cell_type": "code",
      "metadata": {
        "colab": {
          "base_uri": "https://localhost:8080/"
        },
        "id": "qFW2HypNuSoT",
        "outputId": "b3697209-4f12-40b8-bab7-7a31756e4286"
      },
      "source": [
        "from sklearn.ensemble import RandomForestRegressor\n",
        "from sklearn import preprocessing\n",
        "from xgboost import XGBRFRegressor\n",
        "rf = XGBRFRegressor(n_estimators=300, subsample=0.9, colsample_bynode=0.2, n_fold = 5, eval_metric = 'rmse')\n",
        "# set up 5-fold cross-validation\n",
        "from sklearn import model_selection\n",
        "cv = model_selection.KFold(5)\n",
        "# pipeline standardization and model\n",
        "from sklearn.pipeline import Pipeline\n",
        "pipeline = Pipeline(steps=[('standardize', preprocessing.StandardScaler())\n",
        "                           , ('model', rf) ])\n",
        "# tune the model\n",
        "my_min_samples_leaf = [2, 10, 25, 50, 100]\n",
        "my_max_depth = [7, 8, 9, 10, 11, 12]\n",
        "my_learning_rate = [0.1, 0.5, 1]\n",
        "# run the model using gridsearch, select the model with best search\n",
        "from sklearn.model_selection import GridSearchCV\n",
        "optimized_rf = GridSearchCV(estimator=pipeline\n",
        "                            , cv=cv\n",
        "                            , param_grid =dict(model__min_samples_leaf = my_min_samples_leaf, model__max_depth = my_max_depth, model__learning_rate = my_learning_rate)\n",
        "                            , scoring = 'neg_mean_squared_error'\n",
        "                            , verbose = 1\n",
        "                            , n_jobs = -1\n",
        "                           )\n",
        "optimized_rf.fit(X_train, y_train)\n",
        "# show the best model estimators\n",
        "print(optimized_rf.best_estimator_)\n",
        "# evaluate metrics on holdout\n",
        "from sklearn.metrics import mean_squared_error, mean_absolute_error, r2_score\n",
        "y_pred = optimized_rf.predict(X_test)\n",
        "print(\"Random Forest Mean Squared Error: \", mean_squared_error(y_test, y_pred))\n",
        "print(\"Random Forest Mean Absolute Error: \", mean_absolute_error(y_test, y_pred))\n",
        "print(\"Random Forest r-squared: \", r2_score(y_test, y_pred))"
      ],
      "execution_count": null,
      "outputs": [
        {
          "output_type": "stream",
          "text": [
            "Fitting 5 folds for each of 90 candidates, totalling 450 fits\n"
          ],
          "name": "stdout"
        },
        {
          "output_type": "stream",
          "text": [
            "[Parallel(n_jobs=-1)]: Using backend LokyBackend with 2 concurrent workers.\n",
            "[Parallel(n_jobs=-1)]: Done  46 tasks      | elapsed:  2.1min\n",
            "[Parallel(n_jobs=-1)]: Done 196 tasks      | elapsed: 11.1min\n",
            "[Parallel(n_jobs=-1)]: Done 446 tasks      | elapsed: 26.9min\n",
            "[Parallel(n_jobs=-1)]: Done 450 out of 450 | elapsed: 27.2min finished\n"
          ],
          "name": "stderr"
        },
        {
          "output_type": "stream",
          "text": [
            "[03:25:09] WARNING: /workspace/src/objective/regression_obj.cu:152: reg:linear is now deprecated in favor of reg:squarederror.\n",
            "Pipeline(memory=None,\n",
            "         steps=[('standardize',\n",
            "                 StandardScaler(copy=True, with_mean=True, with_std=True)),\n",
            "                ('model',\n",
            "                 XGBRFRegressor(base_score=0.5, colsample_bylevel=1,\n",
            "                                colsample_bynode=0.2, colsample_bytree=1,\n",
            "                                eval_metric='rmse', gamma=0, learning_rate=1,\n",
            "                                max_delta_step=0, max_depth=12,\n",
            "                                min_child_weight=1, min_samples_leaf=2,\n",
            "                                missing=None, n_estimators=300, n_fold=5,\n",
            "                                n_jobs=1, nthread=None, objective='reg:linear',\n",
            "                                random_state=0, reg_alpha=0, reg_lambda=1,\n",
            "                                scale_pos_weight=1, seed=None, silent=None,\n",
            "                                subsample=0.9, verbosity=1))],\n",
            "         verbose=False)\n",
            "Random Forest Mean Squared Error:  629.4551136839975\n",
            "Random Forest Mean Absolute Error:  18.85700249671936\n",
            "Random Forest r-squared:  0.6354935464241205\n"
          ],
          "name": "stdout"
        }
      ]
    },
    {
      "cell_type": "code",
      "metadata": {
        "id": "fs2n5LPfxvUx"
      },
      "source": [
        "import keras\n",
        "import keras.backend as K\n",
        "from keras.layers.core import Activation\n",
        "from keras.models import Sequential,load_model\n",
        "from keras.layers import Dense, Dropout, LSTM\n",
        "\n",
        "import pandas as pd\n",
        "import numpy as np\n",
        "import matplotlib.pyplot as plt\n",
        "import os\n",
        "from sklearn import preprocessing\n",
        "\n",
        "# Setting seed for reproducibility\n",
        "np.random.seed(1234)  \n",
        "PYTHONHASHSEED = 0\n",
        "\n",
        "# define path to save model\n",
        "model_path = '/content/Output/regression_model.h5'\n",
        "\n",
        "train_df = pd.read_csv(\"/content/train_FD001.txt\", sep=\" \", header=None)\n",
        "test_df = pd.read_csv(\"/content/test_FD001.txt\", sep=\" \", header=None)\n",
        "truth_df = pd.read_csv(\"/content/RUL_FD001.txt\", sep=\" \", header=None)"
      ],
      "execution_count": null,
      "outputs": []
    },
    {
      "cell_type": "code",
      "metadata": {
        "id": "QE6dyXzp23G_"
      },
      "source": [
        "train_df.drop(train_df.columns[[26, 27]], axis=1, inplace=True)\n",
        "train_df.columns = ['id', 'cycle', 'setting1', 'setting2', 'setting3', 's1', 's2', 's3',\n",
        "                     's4', 's5', 's6', 's7', 's8', 's9', 's10', 's11', 's12', 's13', 's14',\n",
        "                     's15', 's16', 's17', 's18', 's19', 's20', 's21']\n",
        "train_df = train_df.sort_values(['id','cycle'])\n",
        "\n",
        "test_df.drop(test_df.columns[[26, 27]], axis=1, inplace=True)\n",
        "test_df.columns = ['id', 'cycle', 'setting1', 'setting2', 'setting3', 's1', 's2', 's3',\n",
        "                     's4', 's5', 's6', 's7', 's8', 's9', 's10', 's11', 's12', 's13', 's14',\n",
        "                     's15', 's16', 's17', 's18', 's19', 's20', 's21']\n",
        "\n",
        "truth_df.drop(truth_df.columns[[1]], axis=1, inplace=True)"
      ],
      "execution_count": null,
      "outputs": []
    },
    {
      "cell_type": "code",
      "metadata": {
        "id": "6Q6-9ok63LJv"
      },
      "source": [
        "rul = pd.DataFrame(train_df.groupby('id')['cycle'].max()).reset_index()\n",
        "rul.columns = ['id', 'max']\n",
        "train_df = train_df.merge(rul, on=['id'], how='left')\n",
        "train_df['RUL'] = train_df['max'] - train_df['cycle']\n",
        "train_df.drop('max', axis=1, inplace=True)"
      ],
      "execution_count": null,
      "outputs": []
    },
    {
      "cell_type": "code",
      "metadata": {
        "id": "VHZCgXyv3N1I"
      },
      "source": [
        "w1 = 30\n",
        "w0 = 15\n",
        "train_df['label1'] = np.where(train_df['RUL'] <= w1, 1, 0 )\n",
        "train_df['label2'] = train_df['label1']\n",
        "train_df.loc[train_df['RUL'] <= w0, 'label2'] = 2"
      ],
      "execution_count": null,
      "outputs": []
    },
    {
      "cell_type": "code",
      "metadata": {
        "colab": {
          "base_uri": "https://localhost:8080/"
        },
        "id": "esDY2KYs3Q8b",
        "outputId": "1f0613cf-5705-4d3e-89b3-396261e850b8"
      },
      "source": [
        "# MinMax normalization (from 0 to 1) train set\n",
        "train_df['cycle_norm'] = train_df['cycle']\n",
        "cols_normalize = train_df.columns.difference(['id','cycle','RUL'])\n",
        "min_max_scaler = preprocessing.MinMaxScaler()\n",
        "norm_train_df = pd.DataFrame(min_max_scaler.fit_transform(train_df[cols_normalize]), \n",
        "                             columns=cols_normalize, \n",
        "                             index=train_df.index)\n",
        "join_df = train_df[train_df.columns.difference(cols_normalize)].join(norm_train_df)\n",
        "train_df = join_df.reindex(columns = train_df.columns)\n",
        "\n",
        "# MinMax normalization (from 0 to 1) test set\n",
        "test_df['cycle_norm'] = test_df['cycle']\n",
        "norm_test_df = pd.DataFrame(min_max_scaler.transform(test_df[cols_normalize]), \n",
        "                            columns=cols_normalize, \n",
        "                            index=test_df.index)\n",
        "test_join_df = test_df[test_df.columns.difference(cols_normalize)].join(norm_test_df)\n",
        "test_df = test_join_df.reindex(columns = test_df.columns)\n",
        "test_df = test_df.reset_index(drop=True)\n",
        "print(test_df.head())\n",
        "\n",
        "# We use the ground truth dataset to generate labels for the test data.\n",
        "# generate column max for test data\n",
        "rul = pd.DataFrame(test_df.groupby('id')['cycle'].max()).reset_index()\n",
        "rul.columns = ['id', 'max']\n",
        "truth_df.columns = ['more']\n",
        "truth_df['id'] = truth_df.index + 1\n",
        "truth_df['max'] = rul['max'] + truth_df['more']\n",
        "truth_df.drop('more', axis=1, inplace=True)\n",
        "\n",
        "# generate RUL for test data\n",
        "test_df = test_df.merge(truth_df, on=['id'], how='left')\n",
        "test_df['RUL'] = test_df['max'] - test_df['cycle']\n",
        "test_df.drop('max', axis=1, inplace=True)\n",
        "\n"
      ],
      "execution_count": null,
      "outputs": [
        {
          "output_type": "stream",
          "text": [
            "   id  cycle  setting1  setting2  ...  s19       s20       s21  cycle_norm\n",
            "0   1      1  0.632184  0.750000  ...  0.0  0.558140  0.661834     0.00000\n",
            "1   1      2  0.344828  0.250000  ...  0.0  0.682171  0.686827     0.00277\n",
            "2   1      3  0.517241  0.583333  ...  0.0  0.728682  0.721348     0.00554\n",
            "3   1      4  0.741379  0.500000  ...  0.0  0.666667  0.662110     0.00831\n",
            "4   1      5  0.580460  0.500000  ...  0.0  0.658915  0.716377     0.01108\n",
            "\n",
            "[5 rows x 27 columns]\n"
          ],
          "name": "stdout"
        }
      ]
    },
    {
      "cell_type": "code",
      "metadata": {
        "id": "Rnjnyu0_x8gI"
      },
      "source": [
        "# generate label columns for training data\n",
        "w1 = 30\n",
        "w0 = 15\n",
        "train_df['label1'] = np.where(train_df['RUL'] <= w1, 1, 0 )\n",
        "train_df['label2'] = train_df['label1']\n",
        "train_df.loc[train_df['RUL'] <= w0, 'label2'] = 2"
      ],
      "execution_count": null,
      "outputs": []
    },
    {
      "cell_type": "code",
      "metadata": {
        "id": "dg1KaBYi2VB7"
      },
      "source": [
        "sequence_length = 50\n",
        "# function to reshape features into (samples, time steps, features) \n",
        "def gen_sequence(id_df, seq_length, seq_cols):\n",
        "    data_matrix = id_df[seq_cols].values\n",
        "    num_elements = data_matrix.shape[0]\n",
        "    for start, stop in zip(range(0, num_elements-seq_length), range(seq_length, num_elements)):\n",
        "        yield data_matrix[start:stop, :]"
      ],
      "execution_count": null,
      "outputs": []
    },
    {
      "cell_type": "code",
      "metadata": {
        "id": "yye0wym13it6"
      },
      "source": [
        "# pick the feature columns \n",
        "sensor_cols = ['s' + str(i) for i in range(1,22)]\n",
        "sequence_cols = ['setting1', 'setting2', 'setting3', 'cycle_norm']\n",
        "sequence_cols.extend(sensor_cols)\n",
        "\n",
        "seq_gen = (list(gen_sequence(train_df[train_df['id']==id], sequence_length, sequence_cols)) \n",
        "           for id in train_df['id'].unique())\n",
        "\n",
        "# generate sequences and convert to numpy array\n",
        "seq_array = np.concatenate(list(seq_gen)).astype(np.float32)"
      ],
      "execution_count": null,
      "outputs": []
    },
    {
      "cell_type": "code",
      "metadata": {
        "colab": {
          "base_uri": "https://localhost:8080/"
        },
        "id": "w6r-9he23t06",
        "outputId": "b16891cf-b8fa-4d97-a97f-a35175aa2bc1"
      },
      "source": [
        "def gen_labels(id_df, seq_length, label):\n",
        "    data_matrix = id_df[label].values\n",
        "    num_elements = data_matrix.shape[0]\n",
        "    return data_matrix[seq_length:num_elements, :]\n",
        "\n",
        "# generate labels\n",
        "label_gen = [gen_labels(train_df[train_df['id']==id], sequence_length, ['RUL']) \n",
        "             for id in train_df['id'].unique()]\n",
        "\n",
        "label_array = np.concatenate(label_gen).astype(np.float32)\n",
        "label_array.shape"
      ],
      "execution_count": null,
      "outputs": [
        {
          "output_type": "execute_result",
          "data": {
            "text/plain": [
              "(15631, 1)"
            ]
          },
          "metadata": {
            "tags": []
          },
          "execution_count": 9
        }
      ]
    },
    {
      "cell_type": "code",
      "metadata": {
        "id": "Qf1ssR9A4Ec2"
      },
      "source": [
        "def r2_keras(y_true, y_pred):\n",
        "    SS_res =  K.sum(K.square( y_true - y_pred ))\n",
        "    SS_tot = K.sum(K.square( y_true - K.mean(y_true) ) )\n",
        "    return ( 1 - SS_res/(SS_tot + K.epsilon()) )"
      ],
      "execution_count": null,
      "outputs": []
    },
    {
      "cell_type": "code",
      "metadata": {
        "colab": {
          "base_uri": "https://localhost:8080/"
        },
        "id": "_8c-qTmh4LTO",
        "outputId": "690c8611-38c6-4643-f714-f667d518f5d2"
      },
      "source": [
        "nb_features = seq_array.shape[2]\n",
        "nb_out = label_array.shape[1]\n",
        "\n",
        "model = Sequential()\n",
        "model.add(LSTM(\n",
        "         input_shape=(sequence_length, nb_features),\n",
        "         units=100,\n",
        "         return_sequences=True))\n",
        "model.add(Dropout(0.2))\n",
        "model.add(LSTM(\n",
        "          units=50,\n",
        "          return_sequences=False))\n",
        "model.add(Dropout(0.2))\n",
        "model.add(Dense(units=nb_out))\n",
        "model.add(Activation(\"linear\"))\n",
        "model.compile(loss='mean_squared_error', optimizer='rmsprop',metrics=['mae',r2_keras])\n",
        "\n",
        "\n",
        "print(model.summary())\n",
        "\n",
        "# fit the network\n",
        "history = model.fit(seq_array, label_array, epochs=5, batch_size=10, validation_split=0.05, verbose=2,\n",
        "          callbacks = [keras.callbacks.EarlyStopping(monitor='val_loss', min_delta=0, patience=10, verbose=0, mode='min'),\n",
        "                       keras.callbacks.ModelCheckpoint(model_path,monitor='val_loss', save_best_only=True, mode='min', verbose=0)])\n"
      ],
      "execution_count": null,
      "outputs": [
        {
          "output_type": "stream",
          "text": [
            "Model: \"sequential\"\n",
            "_________________________________________________________________\n",
            "Layer (type)                 Output Shape              Param #   \n",
            "=================================================================\n",
            "lstm (LSTM)                  (None, 50, 100)           50400     \n",
            "_________________________________________________________________\n",
            "dropout (Dropout)            (None, 50, 100)           0         \n",
            "_________________________________________________________________\n",
            "lstm_1 (LSTM)                (None, 50)                30200     \n",
            "_________________________________________________________________\n",
            "dropout_1 (Dropout)          (None, 50)                0         \n",
            "_________________________________________________________________\n",
            "dense (Dense)                (None, 1)                 51        \n",
            "_________________________________________________________________\n",
            "activation (Activation)      (None, 1)                 0         \n",
            "=================================================================\n",
            "Total params: 80,651\n",
            "Trainable params: 80,651\n",
            "Non-trainable params: 0\n",
            "_________________________________________________________________\n",
            "None\n",
            "Epoch 1/5\n",
            "1485/1485 - 72s - loss: 5455.3262 - mae: 56.3375 - r2_keras: -9.4603e-01 - val_loss: 3333.4446 - val_mae: 45.6914 - val_r2_keras: -6.2595e+02\n",
            "Epoch 2/5\n",
            "1485/1485 - 70s - loss: 3068.2422 - mae: 42.9794 - r2_keras: -6.9808e-02 - val_loss: 1608.8353 - val_mae: 26.8503 - val_r2_keras: -1.9103e+02\n",
            "Epoch 3/5\n",
            "1485/1485 - 69s - loss: 1287.3134 - mae: 23.3910 - r2_keras: 0.5853 - val_loss: 810.5329 - val_mae: 17.9348 - val_r2_keras: -9.7212e+01\n",
            "Epoch 4/5\n",
            "1485/1485 - 67s - loss: 907.4894 - mae: 19.7573 - r2_keras: 0.6938 - val_loss: 841.4393 - val_mae: 18.3241 - val_r2_keras: -9.9820e+01\n",
            "Epoch 5/5\n",
            "1485/1485 - 66s - loss: 823.0760 - mae: 18.5937 - r2_keras: 0.7141 - val_loss: 612.7740 - val_mae: 15.4371 - val_r2_keras: -7.3528e+01\n"
          ],
          "name": "stdout"
        }
      ]
    },
    {
      "cell_type": "code",
      "metadata": {
        "colab": {
          "base_uri": "https://localhost:8080/"
        },
        "id": "NxCoSBIU6KIS",
        "outputId": "032a2b57-af81-4285-8d24-d27b39288bc5"
      },
      "source": [
        "# training metrics\n",
        "scores = model.evaluate(seq_array, label_array, verbose=1, batch_size=200)\n",
        "print('\\nMAE: {}'.format(scores[1]))\n",
        "print('\\nR^2: {}'.format(scores[2]))"
      ],
      "execution_count": null,
      "outputs": [
        {
          "output_type": "stream",
          "text": [
            "79/79 [==============================] - 7s 83ms/step - loss: 646.6933 - mae: 15.5015 - r2_keras: 0.7875\n",
            "\n",
            "MAE: 15.501461029052734\n",
            "\n",
            "R^2: 0.7874729037284851\n"
          ],
          "name": "stdout"
        }
      ]
    },
    {
      "cell_type": "code",
      "metadata": {
        "id": "zdTs1FAP6UXP"
      },
      "source": [
        "seq_array_test_last = [test_df[test_df['id']==id][sequence_cols].values[-sequence_length:] \n",
        "                       for id in test_df['id'].unique() if len(test_df[test_df['id']==id]) >= sequence_length]\n",
        "\n",
        "seq_array_test_last = np.asarray(seq_array_test_last).astype(np.float32)"
      ],
      "execution_count": null,
      "outputs": []
    },
    {
      "cell_type": "code",
      "metadata": {
        "id": "I_1VG4pA7ISQ"
      },
      "source": [
        "y_mask = [len(test_df[test_df['id']==id]) >= sequence_length for id in test_df['id'].unique()]\n",
        "label_array_test_last = test_df.groupby('id')['RUL'].nth(-1)[y_mask].values\n",
        "label_array_test_last = label_array_test_last.reshape(label_array_test_last.shape[0],1).astype(np.float32)"
      ],
      "execution_count": null,
      "outputs": []
    },
    {
      "cell_type": "code",
      "metadata": {
        "colab": {
          "base_uri": "https://localhost:8080/"
        },
        "id": "XkPBwLRy7Jat",
        "outputId": "1f2b2e83-ff4b-48e9-82e8-75b72cc110fd"
      },
      "source": [
        "scores_test = model.evaluate(seq_array_test_last, label_array_test_last, verbose = 1, batch_size = 200)\n",
        "print('\\nMAE: {}'.format(scores_test[1]))\n",
        "print('\\nR^2: {}'.format(scores_test[2]))"
      ],
      "execution_count": null,
      "outputs": [
        {
          "output_type": "stream",
          "text": [
            "1/1 [==============================] - 0s 55ms/step - loss: 414.4828 - mae: 14.3839 - r2_keras: 0.7538\n",
            "\n",
            "MAE: 14.383890151977539\n",
            "\n",
            "R^2: 0.7537777423858643\n"
          ],
          "name": "stdout"
        }
      ]
    },
    {
      "cell_type": "code",
      "metadata": {
        "colab": {
          "base_uri": "https://localhost:8080/"
        },
        "id": "aY-7vciSBLZJ",
        "outputId": "b371c539-8d14-4a33-f8f3-687377736ebc"
      },
      "source": [
        "seq_array_test_last"
      ],
      "execution_count": null,
      "outputs": [
        {
          "output_type": "execute_result",
          "data": {
            "text/plain": [
              "array([[[0.3505747 , 0.8333333 , 0.        , ..., 0.        ,\n",
              "         0.4728682 , 0.45457056],\n",
              "        [0.39655173, 0.5833333 , 0.        , ..., 0.        ,\n",
              "         0.6511628 , 0.5608948 ],\n",
              "        [0.5114943 , 0.25      , 0.        , ..., 0.        ,\n",
              "         0.6356589 , 0.4975145 ],\n",
              "        ...,\n",
              "        [0.43678162, 0.75      , 0.        , ..., 0.        ,\n",
              "         0.41860464, 0.4710025 ],\n",
              "        [0.5804598 , 0.6666667 , 0.        , ..., 0.        ,\n",
              "         0.3255814 , 0.45954156],\n",
              "        [0.40804598, 0.8333333 , 0.        , ..., 0.        ,\n",
              "         0.6124031 , 0.52444077]],\n",
              "\n",
              "       [[0.55172414, 0.25      , 0.        , ..., 0.        ,\n",
              "         0.5503876 , 0.6974593 ],\n",
              "        [0.39655173, 0.5833333 , 0.        , ..., 0.        ,\n",
              "         0.37209302, 0.59748685],\n",
              "        [0.5344828 , 0.16666667, 0.        , ..., 0.        ,\n",
              "         0.51937985, 0.602596  ],\n",
              "        ...,\n",
              "        [0.43103448, 0.33333334, 0.        , ..., 0.        ,\n",
              "         0.56589144, 0.49461475],\n",
              "        [0.33908045, 0.25      , 0.        , ..., 0.        ,\n",
              "         0.4108527 , 0.5223695 ],\n",
              "        [0.5689655 , 0.8333333 , 0.        , ..., 0.        ,\n",
              "         0.34108528, 0.5024855 ]],\n",
              "\n",
              "       [[0.7356322 , 0.25      , 0.        , ..., 0.        ,\n",
              "         0.53488374, 0.6023198 ],\n",
              "        [0.67241377, 0.16666667, 0.        , ..., 0.        ,\n",
              "         0.58914727, 0.68102735],\n",
              "        [0.43678162, 0.5       , 0.        , ..., 0.        ,\n",
              "         0.58914727, 0.546396  ],\n",
              "        ...,\n",
              "        [0.5689655 , 0.33333334, 0.        , ..., 0.        ,\n",
              "         0.5503876 , 0.4584369 ],\n",
              "        [0.29885057, 0.5       , 0.        , ..., 0.        ,\n",
              "         0.41860464, 0.5625518 ],\n",
              "        [0.42528737, 0.16666667, 0.        , ..., 0.        ,\n",
              "         0.4728682 , 0.7145816 ]],\n",
              "\n",
              "       ...,\n",
              "\n",
              "       [[0.49425286, 0.75      , 0.        , ..., 0.        ,\n",
              "         0.6666667 , 0.45042807],\n",
              "        [0.28735632, 0.33333334, 0.        , ..., 0.        ,\n",
              "         0.627907  , 0.6255178 ],\n",
              "        [0.31034482, 0.16666667, 0.        , ..., 0.        ,\n",
              "         0.44186047, 0.4710025 ],\n",
              "        ...,\n",
              "        [0.6436782 , 0.41666666, 0.        , ..., 0.        ,\n",
              "         0.4496124 , 0.51367027],\n",
              "        [0.4827586 , 0.33333334, 0.        , ..., 0.        ,\n",
              "         0.4883721 , 0.5015189 ],\n",
              "        [0.59770113, 0.5833333 , 0.        , ..., 0.        ,\n",
              "         0.48062015, 0.6442972 ]],\n",
              "\n",
              "       [[0.6896552 , 0.75      , 0.        , ..., 0.        ,\n",
              "         0.76744187, 0.51795083],\n",
              "        [0.47126436, 0.16666667, 0.        , ..., 0.        ,\n",
              "         0.6124031 , 0.77492404],\n",
              "        [0.61494255, 0.33333334, 0.        , ..., 0.        ,\n",
              "         0.68992245, 0.7954985 ],\n",
              "        ...,\n",
              "        [0.33908045, 0.75      , 0.        , ..., 0.        ,\n",
              "         0.7209302 , 0.54045844],\n",
              "        [0.41954023, 0.33333334, 0.        , ..., 0.        ,\n",
              "         0.64341086, 0.7702292 ],\n",
              "        [0.77011496, 0.5       , 0.        , ..., 0.        ,\n",
              "         0.627907  , 0.64250207]],\n",
              "\n",
              "       [[0.47126436, 0.5833333 , 0.        , ..., 0.        ,\n",
              "         0.68217057, 0.59279203],\n",
              "        [0.6091954 , 0.5833333 , 0.        , ..., 0.        ,\n",
              "         0.60465115, 0.62510353],\n",
              "        [0.55172414, 0.6666667 , 0.        , ..., 0.        ,\n",
              "         0.5968992 , 0.49047226],\n",
              "        ...,\n",
              "        [0.46551725, 0.25      , 0.        , ..., 0.        ,\n",
              "         0.37209302, 0.4293013 ],\n",
              "        [0.2816092 , 0.5833333 , 0.        , ..., 0.        ,\n",
              "         0.4031008 , 0.51877934],\n",
              "        [0.57471263, 0.75      , 0.        , ..., 0.        ,\n",
              "         0.43410853, 0.40223694]]], dtype=float32)"
            ]
          },
          "metadata": {
            "tags": []
          },
          "execution_count": 15
        }
      ]
    },
    {
      "cell_type": "code",
      "metadata": {
        "colab": {
          "base_uri": "https://localhost:8080/"
        },
        "id": "Wvziv9j0I1sD",
        "outputId": "3b8c8686-cb40-42e2-b9cc-2be55723d640"
      },
      "source": [
        "seq_array_test_last"
      ],
      "execution_count": null,
      "outputs": [
        {
          "output_type": "execute_result",
          "data": {
            "text/plain": [
              "array([[[0.3505747 , 0.8333333 , 0.        , ..., 0.        ,\n",
              "         0.46456692, 0.44467875],\n",
              "        [0.39655173, 0.5833333 , 0.        , ..., 0.        ,\n",
              "         0.6456693 , 0.55293125],\n",
              "        [0.5114943 , 0.25      , 0.        , ..., 0.        ,\n",
              "         0.62992126, 0.48840153],\n",
              "        ...,\n",
              "        [0.43678162, 0.75      , 0.        , ..., 0.        ,\n",
              "         0.40944883, 0.46140867],\n",
              "        [0.5804598 , 0.6666667 , 0.        , ..., 0.        ,\n",
              "         0.31496063, 0.4497399 ],\n",
              "        [0.40804598, 0.8333333 , 0.        , ..., 0.        ,\n",
              "         0.6062992 , 0.5158161 ]],\n",
              "\n",
              "       [[0.55172414, 0.25      , 0.        , ..., 0.        ,\n",
              "         0.54330707, 0.69197243],\n",
              "        [0.39655173, 0.5833333 , 0.        , ..., 0.        ,\n",
              "         0.36220473, 0.59018695],\n",
              "        [0.5344828 , 0.16666667, 0.        , ..., 0.        ,\n",
              "         0.511811  , 0.5953887 ],\n",
              "        ...,\n",
              "        [0.43103448, 0.33333334, 0.        , ..., 0.        ,\n",
              "         0.5590551 , 0.48544917],\n",
              "        [0.33908045, 0.25      , 0.        , ..., 0.        ,\n",
              "         0.4015748 , 0.5137073 ],\n",
              "        [0.5689655 , 0.8333333 , 0.        , ..., 0.        ,\n",
              "         0.33070865, 0.49346268]],\n",
              "\n",
              "       [[0.7356322 , 0.25      , 0.        , ..., 0.        ,\n",
              "         0.52755904, 0.59510756],\n",
              "        [0.67241377, 0.16666667, 0.        , ..., 0.        ,\n",
              "         0.5826772 , 0.67524254],\n",
              "        [0.43678162, 0.5       , 0.        , ..., 0.        ,\n",
              "         0.5826772 , 0.53816956],\n",
              "        ...,\n",
              "        [0.5689655 , 0.33333334, 0.        , ..., 0.        ,\n",
              "         0.54330707, 0.44861522],\n",
              "        [0.29885057, 0.5       , 0.        , ..., 0.        ,\n",
              "         0.40944883, 0.5546183 ],\n",
              "        [0.42528737, 0.16666667, 0.        , ..., 0.        ,\n",
              "         0.46456692, 0.7094053 ]],\n",
              "\n",
              "       ...,\n",
              "\n",
              "       [[0.49425286, 0.75      , 0.        , ..., 0.        ,\n",
              "         0.6614173 , 0.44046113],\n",
              "        [0.28735632, 0.33333334, 0.        , ..., 0.        ,\n",
              "         0.62204725, 0.61872625],\n",
              "        [0.31034482, 0.16666667, 0.        , ..., 0.        ,\n",
              "         0.43307087, 0.46140867],\n",
              "        ...,\n",
              "        [0.6436782 , 0.41666666, 0.        , ..., 0.        ,\n",
              "         0.44094488, 0.50485027],\n",
              "        [0.4827586 , 0.33333334, 0.        , ..., 0.        ,\n",
              "         0.48031497, 0.49247855],\n",
              "        [0.59770113, 0.5833333 , 0.        , ..., 0.        ,\n",
              "         0.47244096, 0.6378462 ]],\n",
              "\n",
              "       [[0.6896552 , 0.75      , 0.        , ..., 0.        ,\n",
              "         0.7637795 , 0.5092085 ],\n",
              "        [0.47126436, 0.16666667, 0.        , ..., 0.        ,\n",
              "         0.6062992 , 0.77084213],\n",
              "        [0.61494255, 0.33333334, 0.        , ..., 0.        ,\n",
              "         0.68503934, 0.7917897 ],\n",
              "        ...,\n",
              "        [0.33908045, 0.75      , 0.        , ..., 0.        ,\n",
              "         0.71653545, 0.5321243 ],\n",
              "        [0.41954023, 0.33333334, 0.        , ..., 0.        ,\n",
              "         0.63779527, 0.76606214],\n",
              "        [0.77011496, 0.5       , 0.        , ..., 0.        ,\n",
              "         0.62204725, 0.6360186 ]],\n",
              "\n",
              "       [[0.47126436, 0.5833333 , 0.        , ..., 0.        ,\n",
              "         0.6771653 , 0.585407  ],\n",
              "        [0.6091954 , 0.5833333 , 0.        , ..., 0.        ,\n",
              "         0.5984252 , 0.6183045 ],\n",
              "        [0.55172414, 0.6666667 , 0.        , ..., 0.        ,\n",
              "         0.5905512 , 0.48123154],\n",
              "        ...,\n",
              "        [0.46551725, 0.25      , 0.        , ..., 0.        ,\n",
              "         0.36220473, 0.4189512 ],\n",
              "        [0.2816092 , 0.5833333 , 0.        , ..., 0.        ,\n",
              "         0.39370078, 0.510052  ],\n",
              "        [0.57471263, 0.75      , 0.        , ..., 0.        ,\n",
              "         0.42519686, 0.39139605]]], dtype=float32)"
            ]
          },
          "metadata": {
            "tags": []
          },
          "execution_count": 17
        }
      ]
    },
    {
      "cell_type": "code",
      "metadata": {
        "colab": {
          "base_uri": "https://localhost:8080/"
        },
        "id": "XCWVSZBFJ5di",
        "outputId": "15f05cc8-b0bb-4b1e-9bcf-fe0bf48afbce"
      },
      "source": [
        "label_array_test_last"
      ],
      "execution_count": null,
      "outputs": [
        {
          "output_type": "execute_result",
          "data": {
            "text/plain": [
              "array([[ 69.],\n",
              "       [ 82.],\n",
              "       [ 91.],\n",
              "       [ 93.],\n",
              "       [ 91.],\n",
              "       [ 95.],\n",
              "       [111.],\n",
              "       [ 96.],\n",
              "       [ 97.],\n",
              "       [124.],\n",
              "       [ 95.],\n",
              "       [ 83.],\n",
              "       [ 84.],\n",
              "       [ 50.],\n",
              "       [ 28.],\n",
              "       [ 87.],\n",
              "       [ 16.],\n",
              "       [ 57.],\n",
              "       [113.],\n",
              "       [ 20.],\n",
              "       [119.],\n",
              "       [ 66.],\n",
              "       [ 97.],\n",
              "       [ 90.],\n",
              "       [115.],\n",
              "       [  8.],\n",
              "       [ 48.],\n",
              "       [106.],\n",
              "       [  7.],\n",
              "       [ 11.],\n",
              "       [ 19.],\n",
              "       [ 21.],\n",
              "       [ 50.],\n",
              "       [ 28.],\n",
              "       [ 18.],\n",
              "       [ 10.],\n",
              "       [ 59.],\n",
              "       [109.],\n",
              "       [114.],\n",
              "       [ 47.],\n",
              "       [135.],\n",
              "       [ 92.],\n",
              "       [ 21.],\n",
              "       [ 79.],\n",
              "       [114.],\n",
              "       [ 29.],\n",
              "       [ 26.],\n",
              "       [ 97.],\n",
              "       [137.],\n",
              "       [ 15.],\n",
              "       [103.],\n",
              "       [ 37.],\n",
              "       [114.],\n",
              "       [100.],\n",
              "       [ 21.],\n",
              "       [ 54.],\n",
              "       [ 72.],\n",
              "       [ 28.],\n",
              "       [128.],\n",
              "       [ 14.],\n",
              "       [ 77.],\n",
              "       [  8.],\n",
              "       [121.],\n",
              "       [ 94.],\n",
              "       [118.],\n",
              "       [ 50.],\n",
              "       [131.],\n",
              "       [126.],\n",
              "       [113.],\n",
              "       [ 10.],\n",
              "       [ 34.],\n",
              "       [107.],\n",
              "       [ 63.],\n",
              "       [ 90.],\n",
              "       [  8.],\n",
              "       [  9.],\n",
              "       [137.],\n",
              "       [ 58.],\n",
              "       [ 89.],\n",
              "       [116.],\n",
              "       [115.],\n",
              "       [136.],\n",
              "       [ 28.],\n",
              "       [ 38.],\n",
              "       [ 20.],\n",
              "       [ 85.],\n",
              "       [ 55.],\n",
              "       [128.],\n",
              "       [137.],\n",
              "       [ 82.],\n",
              "       [ 59.],\n",
              "       [117.],\n",
              "       [ 20.]], dtype=float32)"
            ]
          },
          "metadata": {
            "tags": []
          },
          "execution_count": 18
        }
      ]
    },
    {
      "cell_type": "code",
      "metadata": {
        "colab": {
          "base_uri": "https://localhost:8080/"
        },
        "id": "ALDR7gbrI6Ve",
        "outputId": "94900d1c-fb25-433f-f2ab-b80de72a8834"
      },
      "source": [
        "scores_test = model.predict(seq_array_test_last)\n",
        "scores_test"
      ],
      "execution_count": null,
      "outputs": [
        {
          "output_type": "execute_result",
          "data": {
            "text/plain": [
              "array([[ 57.18303  ],\n",
              "       [ 83.78577  ],\n",
              "       [ 86.9017   ],\n",
              "       [124.13684  ],\n",
              "       [ 94.4136   ],\n",
              "       [ 91.85351  ],\n",
              "       [136.23607  ],\n",
              "       [ 86.8845   ],\n",
              "       [ 90.25686  ],\n",
              "       [106.21658  ],\n",
              "       [ 85.67246  ],\n",
              "       [110.121284 ],\n",
              "       [ 96.855995 ],\n",
              "       [ 54.178593 ],\n",
              "       [ 31.306421 ],\n",
              "       [ 86.202194 ],\n",
              "       [ 15.824972 ],\n",
              "       [ 71.56887  ],\n",
              "       [116.368805 ],\n",
              "       [ 22.186783 ],\n",
              "       [135.33075  ],\n",
              "       [ 78.286316 ],\n",
              "       [115.57735  ],\n",
              "       [106.111885 ],\n",
              "       [ 85.731445 ],\n",
              "       [  9.271268 ],\n",
              "       [ 42.866665 ],\n",
              "       [114.6494   ],\n",
              "       [  7.8766527],\n",
              "       [ 15.538999 ],\n",
              "       [ 23.194567 ],\n",
              "       [ 28.226822 ],\n",
              "       [ 52.82044  ],\n",
              "       [ 25.51702  ],\n",
              "       [ 23.33508  ],\n",
              "       [  9.628778 ],\n",
              "       [ 64.65748  ],\n",
              "       [136.5018   ],\n",
              "       [ 79.01032  ],\n",
              "       [ 38.667725 ],\n",
              "       [128.13979  ],\n",
              "       [119.47623  ],\n",
              "       [ 25.605177 ],\n",
              "       [ 87.59459  ],\n",
              "       [ 94.26726  ],\n",
              "       [ 31.568197 ],\n",
              "       [ 26.413982 ],\n",
              "       [112.212654 ],\n",
              "       [154.04987  ],\n",
              "       [ 15.633489 ],\n",
              "       [ 93.0873   ],\n",
              "       [ 38.73314  ],\n",
              "       [101.23053  ],\n",
              "       [113.363106 ],\n",
              "       [ 22.043268 ],\n",
              "       [ 47.202312 ],\n",
              "       [ 70.20175  ],\n",
              "       [ 24.220613 ],\n",
              "       [135.55821  ],\n",
              "       [ 17.501534 ],\n",
              "       [153.21985  ],\n",
              "       [  6.882601 ],\n",
              "       [144.26082  ],\n",
              "       [ 93.666214 ],\n",
              "       [130.67172  ],\n",
              "       [ 56.669605 ],\n",
              "       [100.871506 ],\n",
              "       [116.67108  ],\n",
              "       [119.88101  ],\n",
              "       [  8.791275 ],\n",
              "       [ 30.529032 ],\n",
              "       [156.17395  ],\n",
              "       [ 93.14826  ],\n",
              "       [ 96.54661  ],\n",
              "       [ 12.127324 ],\n",
              "       [ 10.167032 ],\n",
              "       [150.54132  ],\n",
              "       [ 67.11235  ],\n",
              "       [123.907845 ],\n",
              "       [126.30274  ],\n",
              "       [111.2444   ],\n",
              "       [130.27544  ],\n",
              "       [ 23.386253 ],\n",
              "       [ 32.025208 ],\n",
              "       [ 22.798685 ],\n",
              "       [ 52.482597 ],\n",
              "       [ 56.712944 ],\n",
              "       [116.22249  ],\n",
              "       [111.589966 ],\n",
              "       [104.07482  ],\n",
              "       [ 79.768906 ],\n",
              "       [127.296074 ],\n",
              "       [ 21.290117 ]], dtype=float32)"
            ]
          },
          "metadata": {
            "tags": []
          },
          "execution_count": 16
        }
      ]
    },
    {
      "cell_type": "code",
      "metadata": {
        "colab": {
          "base_uri": "https://localhost:8080/"
        },
        "id": "7FGElncdJwOb",
        "outputId": "797350a6-65e0-4f74-e470-09eb42648ef5"
      },
      "source": [
        "len(label_array_test_last)"
      ],
      "execution_count": null,
      "outputs": [
        {
          "output_type": "execute_result",
          "data": {
            "text/plain": [
              "93"
            ]
          },
          "metadata": {
            "tags": []
          },
          "execution_count": 62
        }
      ]
    },
    {
      "cell_type": "code",
      "metadata": {
        "colab": {
          "base_uri": "https://localhost:8080/"
        },
        "id": "a7ZWb3aHKG4N",
        "outputId": "f735a119-0fc5-4505-aa29-53ebbf587dda"
      },
      "source": [
        "len(scores_test)"
      ],
      "execution_count": null,
      "outputs": [
        {
          "output_type": "execute_result",
          "data": {
            "text/plain": [
              "93"
            ]
          },
          "metadata": {
            "tags": []
          },
          "execution_count": 63
        }
      ]
    },
    {
      "cell_type": "code",
      "metadata": {
        "colab": {
          "base_uri": "https://localhost:8080/"
        },
        "id": "sW6TH3pMKNW8",
        "outputId": "b09a2df2-eaa1-4fa3-be32-fccc47c691c4"
      },
      "source": [
        "scores_test.shape"
      ],
      "execution_count": null,
      "outputs": [
        {
          "output_type": "execute_result",
          "data": {
            "text/plain": [
              "(93, 1)"
            ]
          },
          "metadata": {
            "tags": []
          },
          "execution_count": 65
        }
      ]
    },
    {
      "cell_type": "code",
      "metadata": {
        "colab": {
          "base_uri": "https://localhost:8080/"
        },
        "id": "nverCCDKKRcy",
        "outputId": "de424afc-f27f-44d0-edcf-0ef79e692947"
      },
      "source": [
        "label_array_test_last.shape"
      ],
      "execution_count": null,
      "outputs": [
        {
          "output_type": "execute_result",
          "data": {
            "text/plain": [
              "(93, 1)"
            ]
          },
          "metadata": {
            "tags": []
          },
          "execution_count": 66
        }
      ]
    },
    {
      "cell_type": "code",
      "metadata": {
        "colab": {
          "base_uri": "https://localhost:8080/"
        },
        "id": "kMJMIj1VKeol",
        "outputId": "ed627cbf-8a2c-4f25-9c6d-98f0d7c87f59"
      },
      "source": [
        "from sklearn.metrics import mean_squared_error\n",
        "rms = mean_squared_error(label_array_test_last, scores_test, squared=False)\n",
        "rms"
      ],
      "execution_count": null,
      "outputs": [
        {
          "output_type": "execute_result",
          "data": {
            "text/plain": [
              "16.605112"
            ]
          },
          "metadata": {
            "tags": []
          },
          "execution_count": 17
        }
      ]
    },
    {
      "cell_type": "code",
      "metadata": {
        "colab": {
          "base_uri": "https://localhost:8080/"
        },
        "id": "mPguKb1_NMd3",
        "outputId": "ee7f8823-574b-4c7a-e665-3bc6335271ec"
      },
      "source": [
        "from sklearn.metrics import mean_squared_error, mean_absolute_error, r2_score\n",
        "print(r2_score(label_array_test_last, scores_test))"
      ],
      "execution_count": null,
      "outputs": [
        {
          "output_type": "stream",
          "text": [
            "0.8362035798143256\n"
          ],
          "name": "stdout"
        }
      ]
    }
  ]
}